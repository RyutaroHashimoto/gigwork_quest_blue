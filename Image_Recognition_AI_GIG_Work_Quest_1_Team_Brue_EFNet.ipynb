{
  "nbformat": 4,
  "nbformat_minor": 0,
  "metadata": {
    "colab": {
      "name": "Image Recognition AI GIG Work Quest 1 Team_Brue_EFNet.ipynb",
      "provenance": [],
      "collapsed_sections": [],
      "include_colab_link": true
    },
    "kernelspec": {
      "name": "python3",
      "display_name": "Python 3"
    },
    "accelerator": "GPU"
  },
  "cells": [
    {
      "cell_type": "markdown",
      "metadata": {
        "id": "view-in-github",
        "colab_type": "text"
      },
      "source": [
        "<a href=\"https://colab.research.google.com/github/RyutaroHashimoto/gigwork_quest_blue/blob/katsuta/Image_Recognition_AI_GIG_Work_Quest_1_Team_Brue_EFNet.ipynb\" target=\"_parent\"><img src=\"https://colab.research.google.com/assets/colab-badge.svg\" alt=\"Open In Colab\"/></a>"
      ]
    },
    {
      "cell_type": "code",
      "metadata": {
        "colab": {
          "base_uri": "https://localhost:8080/"
        },
        "id": "SLMND_Faa0P-",
        "outputId": "85c0c304-fad2-4b2d-a078-2abcb970b2c4"
      },
      "source": [
        "%tensorflow_version 2.x\n",
        "# # !pip install tensorflow-addons==0.6.0\n",
        "# # !pip install tensorflow-io==0.9.1\n",
        "# # !pip install efficientnet\n",
        "!pip install -U git+https://github.com/qubvel/efficientnet"
      ],
      "execution_count": 1,
      "outputs": [
        {
          "output_type": "stream",
          "text": [
            "Collecting git+https://github.com/qubvel/efficientnet\n",
            "  Cloning https://github.com/qubvel/efficientnet to /tmp/pip-req-build-lexxaodt\n",
            "  Running command git clone -q https://github.com/qubvel/efficientnet /tmp/pip-req-build-lexxaodt\n",
            "Collecting keras_applications<=1.0.8,>=1.0.7\n",
            "\u001b[?25l  Downloading https://files.pythonhosted.org/packages/71/e3/19762fdfc62877ae9102edf6342d71b28fbfd9dea3d2f96a882ce099b03f/Keras_Applications-1.0.8-py3-none-any.whl (50kB)\n",
            "\u001b[K     |████████████████████████████████| 51kB 7.5MB/s \n",
            "\u001b[?25hRequirement already satisfied, skipping upgrade: scikit-image in /usr/local/lib/python3.7/dist-packages (from efficientnet==1.1.1) (0.16.2)\n",
            "Requirement already satisfied, skipping upgrade: h5py in /usr/local/lib/python3.7/dist-packages (from keras_applications<=1.0.8,>=1.0.7->efficientnet==1.1.1) (2.10.0)\n",
            "Requirement already satisfied, skipping upgrade: numpy>=1.9.1 in /usr/local/lib/python3.7/dist-packages (from keras_applications<=1.0.8,>=1.0.7->efficientnet==1.1.1) (1.19.5)\n",
            "Requirement already satisfied, skipping upgrade: imageio>=2.3.0 in /usr/local/lib/python3.7/dist-packages (from scikit-image->efficientnet==1.1.1) (2.4.1)\n",
            "Requirement already satisfied, skipping upgrade: pillow>=4.3.0 in /usr/local/lib/python3.7/dist-packages (from scikit-image->efficientnet==1.1.1) (7.0.0)\n",
            "Requirement already satisfied, skipping upgrade: PyWavelets>=0.4.0 in /usr/local/lib/python3.7/dist-packages (from scikit-image->efficientnet==1.1.1) (1.1.1)\n",
            "Requirement already satisfied, skipping upgrade: matplotlib!=3.0.0,>=2.0.0 in /usr/local/lib/python3.7/dist-packages (from scikit-image->efficientnet==1.1.1) (3.2.2)\n",
            "Requirement already satisfied, skipping upgrade: scipy>=0.19.0 in /usr/local/lib/python3.7/dist-packages (from scikit-image->efficientnet==1.1.1) (1.4.1)\n",
            "Requirement already satisfied, skipping upgrade: networkx>=2.0 in /usr/local/lib/python3.7/dist-packages (from scikit-image->efficientnet==1.1.1) (2.5)\n",
            "Requirement already satisfied, skipping upgrade: six in /usr/local/lib/python3.7/dist-packages (from h5py->keras_applications<=1.0.8,>=1.0.7->efficientnet==1.1.1) (1.15.0)\n",
            "Requirement already satisfied, skipping upgrade: cycler>=0.10 in /usr/local/lib/python3.7/dist-packages (from matplotlib!=3.0.0,>=2.0.0->scikit-image->efficientnet==1.1.1) (0.10.0)\n",
            "Requirement already satisfied, skipping upgrade: pyparsing!=2.0.4,!=2.1.2,!=2.1.6,>=2.0.1 in /usr/local/lib/python3.7/dist-packages (from matplotlib!=3.0.0,>=2.0.0->scikit-image->efficientnet==1.1.1) (2.4.7)\n",
            "Requirement already satisfied, skipping upgrade: kiwisolver>=1.0.1 in /usr/local/lib/python3.7/dist-packages (from matplotlib!=3.0.0,>=2.0.0->scikit-image->efficientnet==1.1.1) (1.3.1)\n",
            "Requirement already satisfied, skipping upgrade: python-dateutil>=2.1 in /usr/local/lib/python3.7/dist-packages (from matplotlib!=3.0.0,>=2.0.0->scikit-image->efficientnet==1.1.1) (2.8.1)\n",
            "Requirement already satisfied, skipping upgrade: decorator>=4.3.0 in /usr/local/lib/python3.7/dist-packages (from networkx>=2.0->scikit-image->efficientnet==1.1.1) (4.4.2)\n",
            "Building wheels for collected packages: efficientnet\n",
            "  Building wheel for efficientnet (setup.py) ... \u001b[?25l\u001b[?25hdone\n",
            "  Created wheel for efficientnet: filename=efficientnet-1.1.1-cp37-none-any.whl size=18421 sha256=5383c68352558d3b2b4314d7715c00ab90c01c57ecd054487bf16ac3aa1c2fad\n",
            "  Stored in directory: /tmp/pip-ephem-wheel-cache-3alf7ykf/wheels/64/60/2e/30ebaa76ed1626e86bfb0cc0579b737fdb7d9ff8cb9522663a\n",
            "Successfully built efficientnet\n",
            "Installing collected packages: keras-applications, efficientnet\n",
            "Successfully installed efficientnet-1.1.1 keras-applications-1.0.8\n"
          ],
          "name": "stdout"
        }
      ]
    },
    {
      "cell_type": "code",
      "metadata": {
        "colab": {
          "base_uri": "https://localhost:8080/"
        },
        "id": "MOub_weYDmEn",
        "outputId": "3bbfcbd8-3711-4ab9-9532-e14774a7a723"
      },
      "source": [
        "!nvidia-smi"
      ],
      "execution_count": 2,
      "outputs": [
        {
          "output_type": "stream",
          "text": [
            "Sun Mar 14 08:16:03 2021       \n",
            "+-----------------------------------------------------------------------------+\n",
            "| NVIDIA-SMI 460.56       Driver Version: 460.32.03    CUDA Version: 11.2     |\n",
            "|-------------------------------+----------------------+----------------------+\n",
            "| GPU  Name        Persistence-M| Bus-Id        Disp.A | Volatile Uncorr. ECC |\n",
            "| Fan  Temp  Perf  Pwr:Usage/Cap|         Memory-Usage | GPU-Util  Compute M. |\n",
            "|                               |                      |               MIG M. |\n",
            "|===============================+======================+======================|\n",
            "|   0  Tesla T4            Off  | 00000000:00:04.0 Off |                    0 |\n",
            "| N/A   61C    P8    10W /  70W |      0MiB / 15109MiB |      0%      Default |\n",
            "|                               |                      |                  N/A |\n",
            "+-------------------------------+----------------------+----------------------+\n",
            "                                                                               \n",
            "+-----------------------------------------------------------------------------+\n",
            "| Processes:                                                                  |\n",
            "|  GPU   GI   CI        PID   Type   Process name                  GPU Memory |\n",
            "|        ID   ID                                                   Usage      |\n",
            "|=============================================================================|\n",
            "|  No running processes found                                                 |\n",
            "+-----------------------------------------------------------------------------+\n"
          ],
          "name": "stdout"
        }
      ]
    },
    {
      "cell_type": "markdown",
      "metadata": {
        "id": "4ovDvRGHL_Lb"
      },
      "source": [
        " # Import library"
      ]
    },
    {
      "cell_type": "code",
      "metadata": {
        "id": "053QJ9Yw1HV3"
      },
      "source": [
        "# ライブラリの読み込み\r\n",
        "\r\n",
        "import os\r\n",
        "import sys\r\n",
        "import random\r\n",
        "import shutil\r\n",
        "import gc\r\n",
        "import pandas as pd\r\n",
        "import numpy as np\r\n",
        "import cv2\r\n",
        "import matplotlib.pyplot as plt\r\n",
        "import keras\r\n",
        "import keras.models as M\r\n",
        "import keras.layers as L\r\n",
        "import keras.backend as K\r\n",
        "import tensorflow as tf\r\n",
        "\r\n",
        "from skimage.io import imread\r\n",
        "from keras.preprocessing.image import ImageDataGenerator\r\n",
        "from keras.preprocessing.image import array_to_img, img_to_array, load_img\r\n",
        "from keras import optimizers\r\n",
        "from keras.callbacks import EarlyStopping, ReduceLROnPlateau, ModelCheckpoint\r\n",
        "from keras.constraints import max_norm\r\n",
        "from keras.applications.imagenet_utils import decode_predictions\r\n",
        "from PIL import Image, ImageEnhance, ImageOps\r\n",
        "from keras.applications.inception_v3 import InceptionV3\r\n",
        "from keras.applications.inception_resnet_v2 import InceptionResNetV2\r\n",
        "from keras.applications.xception import Xception\r\n",
        "from efficientnet.keras import EfficientNetB0\r\n",
        "from efficientnet.keras import EfficientNetB7\r\n",
        "from efficientnet.keras import center_crop_and_resize, preprocess_input\r\n",
        "from sklearn.model_selection import train_test_split, StratifiedShuffleSplit\r\n",
        "from sklearn.metrics import accuracy_score\r\n",
        "from keras.models import Sequential,Model\r\n",
        "from keras.layers import Dense, Dropout, BatchNormalization, Flatten, GlobalMaxPooling2D, GlobalAveragePooling2D"
      ],
      "execution_count": 3,
      "outputs": []
    },
    {
      "cell_type": "code",
      "metadata": {
        "colab": {
          "base_uri": "https://localhost:8080/"
        },
        "id": "rvNHvfdM15F2",
        "outputId": "92ee91ae-303f-462c-e022-30d2bad1ff80"
      },
      "source": [
        "# ディレクトリ移動\r\n",
        "%cd drive/MyDrive/AI Quest"
      ],
      "execution_count": 7,
      "outputs": [
        {
          "output_type": "stream",
          "text": [
            "/content/drive/MyDrive/AI Quest\n"
          ],
          "name": "stdout"
        }
      ]
    },
    {
      "cell_type": "code",
      "metadata": {
        "colab": {
          "base_uri": "https://localhost:8080/"
        },
        "id": "yFFMnguk2JmM",
        "outputId": "2b66bf20-7a4f-4356-e8ae-f57d954ea748"
      },
      "source": [
        "!ls"
      ],
      "execution_count": 8,
      "outputs": [
        {
          "output_type": "stream",
          "text": [
            " GIG_Works_Team_Blue_20210313_FInetunig.ipynb   SaveModels\t   X_train.npy\n",
            "'Image Recognition_Efn.png'\t\t        Submit\t\t   Y_train.npy\n",
            " label_master.tsv\t\t\t        train_master.tsv\n",
            " sample_submit.csv\t\t\t        X_test.npy\n"
          ],
          "name": "stdout"
        }
      ]
    },
    {
      "cell_type": "markdown",
      "metadata": {
        "id": "kjv1799OM7AK"
      },
      "source": [
        "# Reading Data"
      ]
    },
    {
      "cell_type": "code",
      "metadata": {
        "id": "Z0lkEwyX62hk"
      },
      "source": [
        "labels = pd.read_csv(\"train_master.tsv\", sep=\"\\t\") #教師ラベルの読み込み"
      ],
      "execution_count": 9,
      "outputs": []
    },
    {
      "cell_type": "code",
      "metadata": {
        "colab": {
          "base_uri": "https://localhost:8080/",
          "height": 194
        },
        "id": "FPzTHzpO69w8",
        "outputId": "30b8fc52-9f94-48c2-aa01-8b9a5ba575f5"
      },
      "source": [
        "labels.head()"
      ],
      "execution_count": 10,
      "outputs": [
        {
          "output_type": "execute_result",
          "data": {
            "text/html": [
              "<div>\n",
              "<style scoped>\n",
              "    .dataframe tbody tr th:only-of-type {\n",
              "        vertical-align: middle;\n",
              "    }\n",
              "\n",
              "    .dataframe tbody tr th {\n",
              "        vertical-align: top;\n",
              "    }\n",
              "\n",
              "    .dataframe thead th {\n",
              "        text-align: right;\n",
              "    }\n",
              "</style>\n",
              "<table border=\"1\" class=\"dataframe\">\n",
              "  <thead>\n",
              "    <tr style=\"text-align: right;\">\n",
              "      <th></th>\n",
              "      <th>file_name</th>\n",
              "      <th>label_id</th>\n",
              "    </tr>\n",
              "  </thead>\n",
              "  <tbody>\n",
              "    <tr>\n",
              "      <th>0</th>\n",
              "      <td>train_00000.png</td>\n",
              "      <td>11</td>\n",
              "    </tr>\n",
              "    <tr>\n",
              "      <th>1</th>\n",
              "      <td>train_00001.png</td>\n",
              "      <td>15</td>\n",
              "    </tr>\n",
              "    <tr>\n",
              "      <th>2</th>\n",
              "      <td>train_00002.png</td>\n",
              "      <td>4</td>\n",
              "    </tr>\n",
              "    <tr>\n",
              "      <th>3</th>\n",
              "      <td>train_00003.png</td>\n",
              "      <td>14</td>\n",
              "    </tr>\n",
              "    <tr>\n",
              "      <th>4</th>\n",
              "      <td>train_00004.png</td>\n",
              "      <td>1</td>\n",
              "    </tr>\n",
              "  </tbody>\n",
              "</table>\n",
              "</div>"
            ],
            "text/plain": [
              "         file_name  label_id\n",
              "0  train_00000.png        11\n",
              "1  train_00001.png        15\n",
              "2  train_00002.png         4\n",
              "3  train_00003.png        14\n",
              "4  train_00004.png         1"
            ]
          },
          "metadata": {
            "tags": []
          },
          "execution_count": 10
        }
      ]
    },
    {
      "cell_type": "code",
      "metadata": {
        "id": "sZag5DZA69cr"
      },
      "source": [
        "master = pd.read_csv(\"label_master.tsv\", sep=\"\\t\") #ラベルマスタの読み込み"
      ],
      "execution_count": 11,
      "outputs": []
    },
    {
      "cell_type": "code",
      "metadata": {
        "colab": {
          "base_uri": "https://localhost:8080/",
          "height": 194
        },
        "id": "6GvGH5-D671i",
        "outputId": "6bb37759-b7e9-4764-ddc4-479ea99c0f27"
      },
      "source": [
        "master.head()"
      ],
      "execution_count": 12,
      "outputs": [
        {
          "output_type": "execute_result",
          "data": {
            "text/html": [
              "<div>\n",
              "<style scoped>\n",
              "    .dataframe tbody tr th:only-of-type {\n",
              "        vertical-align: middle;\n",
              "    }\n",
              "\n",
              "    .dataframe tbody tr th {\n",
              "        vertical-align: top;\n",
              "    }\n",
              "\n",
              "    .dataframe thead th {\n",
              "        text-align: right;\n",
              "    }\n",
              "</style>\n",
              "<table border=\"1\" class=\"dataframe\">\n",
              "  <thead>\n",
              "    <tr style=\"text-align: right;\">\n",
              "      <th></th>\n",
              "      <th>label_id</th>\n",
              "      <th>label_name</th>\n",
              "    </tr>\n",
              "  </thead>\n",
              "  <tbody>\n",
              "    <tr>\n",
              "      <th>0</th>\n",
              "      <td>0</td>\n",
              "      <td>aquatic_mammals</td>\n",
              "    </tr>\n",
              "    <tr>\n",
              "      <th>1</th>\n",
              "      <td>1</td>\n",
              "      <td>fish</td>\n",
              "    </tr>\n",
              "    <tr>\n",
              "      <th>2</th>\n",
              "      <td>2</td>\n",
              "      <td>flowers</td>\n",
              "    </tr>\n",
              "    <tr>\n",
              "      <th>3</th>\n",
              "      <td>3</td>\n",
              "      <td>food_containers</td>\n",
              "    </tr>\n",
              "    <tr>\n",
              "      <th>4</th>\n",
              "      <td>4</td>\n",
              "      <td>fruit_and_vegetables</td>\n",
              "    </tr>\n",
              "  </tbody>\n",
              "</table>\n",
              "</div>"
            ],
            "text/plain": [
              "   label_id            label_name\n",
              "0         0       aquatic_mammals\n",
              "1         1                  fish\n",
              "2         2               flowers\n",
              "3         3       food_containers\n",
              "4         4  fruit_and_vegetables"
            ]
          },
          "metadata": {
            "tags": []
          },
          "execution_count": 12
        }
      ]
    },
    {
      "cell_type": "code",
      "metadata": {
        "id": "Nmpnw7o73zVZ"
      },
      "source": [
        "sample = pd.read_csv(\"sample_submit.csv\", header=None, sep=\",\")"
      ],
      "execution_count": 13,
      "outputs": []
    },
    {
      "cell_type": "code",
      "metadata": {
        "colab": {
          "base_uri": "https://localhost:8080/",
          "height": 214
        },
        "id": "9R8kpPU-RPZh",
        "outputId": "596fafba-d3c0-435d-a3f5-22fd8f080999"
      },
      "source": [
        "sample.head()"
      ],
      "execution_count": 14,
      "outputs": [
        {
          "output_type": "execute_result",
          "data": {
            "text/html": [
              "<div>\n",
              "<style scoped>\n",
              "    .dataframe tbody tr th:only-of-type {\n",
              "        vertical-align: middle;\n",
              "    }\n",
              "\n",
              "    .dataframe tbody tr th {\n",
              "        vertical-align: top;\n",
              "    }\n",
              "\n",
              "    .dataframe thead th {\n",
              "        text-align: right;\n",
              "    }\n",
              "</style>\n",
              "<table border=\"1\" class=\"dataframe\">\n",
              "  <thead>\n",
              "    <tr style=\"text-align: right;\">\n",
              "      <th></th>\n",
              "      <th>0</th>\n",
              "      <th>1</th>\n",
              "      <th>2</th>\n",
              "      <th>3</th>\n",
              "      <th>4</th>\n",
              "      <th>5</th>\n",
              "      <th>6</th>\n",
              "      <th>7</th>\n",
              "      <th>8</th>\n",
              "      <th>9</th>\n",
              "      <th>10</th>\n",
              "      <th>11</th>\n",
              "      <th>12</th>\n",
              "      <th>13</th>\n",
              "      <th>14</th>\n",
              "      <th>15</th>\n",
              "      <th>16</th>\n",
              "      <th>17</th>\n",
              "      <th>18</th>\n",
              "      <th>19</th>\n",
              "      <th>20</th>\n",
              "    </tr>\n",
              "  </thead>\n",
              "  <tbody>\n",
              "    <tr>\n",
              "      <th>0</th>\n",
              "      <td>test_00000.png</td>\n",
              "      <td>0.036151</td>\n",
              "      <td>0.014607</td>\n",
              "      <td>0.034591</td>\n",
              "      <td>0.079934</td>\n",
              "      <td>0.053778</td>\n",
              "      <td>0.011690</td>\n",
              "      <td>0.039329</td>\n",
              "      <td>0.079885</td>\n",
              "      <td>0.047027</td>\n",
              "      <td>0.055246</td>\n",
              "      <td>0.062593</td>\n",
              "      <td>0.037947</td>\n",
              "      <td>0.080989</td>\n",
              "      <td>0.066377</td>\n",
              "      <td>0.020849</td>\n",
              "      <td>0.057315</td>\n",
              "      <td>0.056351</td>\n",
              "      <td>0.033405</td>\n",
              "      <td>0.078505</td>\n",
              "      <td>0.053430</td>\n",
              "    </tr>\n",
              "    <tr>\n",
              "      <th>1</th>\n",
              "      <td>test_00001.png</td>\n",
              "      <td>0.033393</td>\n",
              "      <td>0.037818</td>\n",
              "      <td>0.021027</td>\n",
              "      <td>0.043661</td>\n",
              "      <td>0.082885</td>\n",
              "      <td>0.041105</td>\n",
              "      <td>0.069309</td>\n",
              "      <td>0.059735</td>\n",
              "      <td>0.023879</td>\n",
              "      <td>0.001008</td>\n",
              "      <td>0.077569</td>\n",
              "      <td>0.053666</td>\n",
              "      <td>0.044468</td>\n",
              "      <td>0.040490</td>\n",
              "      <td>0.090077</td>\n",
              "      <td>0.050215</td>\n",
              "      <td>0.052718</td>\n",
              "      <td>0.067940</td>\n",
              "      <td>0.030642</td>\n",
              "      <td>0.078394</td>\n",
              "    </tr>\n",
              "    <tr>\n",
              "      <th>2</th>\n",
              "      <td>test_00002.png</td>\n",
              "      <td>0.098902</td>\n",
              "      <td>0.047091</td>\n",
              "      <td>0.022525</td>\n",
              "      <td>0.059422</td>\n",
              "      <td>0.038273</td>\n",
              "      <td>0.011877</td>\n",
              "      <td>0.086344</td>\n",
              "      <td>0.054882</td>\n",
              "      <td>0.046612</td>\n",
              "      <td>0.050381</td>\n",
              "      <td>0.028493</td>\n",
              "      <td>0.027183</td>\n",
              "      <td>0.092749</td>\n",
              "      <td>0.076549</td>\n",
              "      <td>0.026914</td>\n",
              "      <td>0.099406</td>\n",
              "      <td>0.032409</td>\n",
              "      <td>0.038710</td>\n",
              "      <td>0.000611</td>\n",
              "      <td>0.060666</td>\n",
              "    </tr>\n",
              "    <tr>\n",
              "      <th>3</th>\n",
              "      <td>test_00003.png</td>\n",
              "      <td>0.054705</td>\n",
              "      <td>0.080344</td>\n",
              "      <td>0.047048</td>\n",
              "      <td>0.083701</td>\n",
              "      <td>0.043293</td>\n",
              "      <td>0.068830</td>\n",
              "      <td>0.026523</td>\n",
              "      <td>0.076391</td>\n",
              "      <td>0.008649</td>\n",
              "      <td>0.071797</td>\n",
              "      <td>0.020802</td>\n",
              "      <td>0.054486</td>\n",
              "      <td>0.065079</td>\n",
              "      <td>0.060174</td>\n",
              "      <td>0.045692</td>\n",
              "      <td>0.052243</td>\n",
              "      <td>0.006735</td>\n",
              "      <td>0.036344</td>\n",
              "      <td>0.070731</td>\n",
              "      <td>0.026432</td>\n",
              "    </tr>\n",
              "    <tr>\n",
              "      <th>4</th>\n",
              "      <td>test_00004.png</td>\n",
              "      <td>0.087472</td>\n",
              "      <td>0.045188</td>\n",
              "      <td>0.091187</td>\n",
              "      <td>0.003265</td>\n",
              "      <td>0.110322</td>\n",
              "      <td>0.102048</td>\n",
              "      <td>0.048273</td>\n",
              "      <td>0.080005</td>\n",
              "      <td>0.050142</td>\n",
              "      <td>0.018821</td>\n",
              "      <td>0.096636</td>\n",
              "      <td>0.038774</td>\n",
              "      <td>0.050342</td>\n",
              "      <td>0.044085</td>\n",
              "      <td>0.057429</td>\n",
              "      <td>0.023512</td>\n",
              "      <td>0.018324</td>\n",
              "      <td>0.002596</td>\n",
              "      <td>0.030469</td>\n",
              "      <td>0.001106</td>\n",
              "    </tr>\n",
              "  </tbody>\n",
              "</table>\n",
              "</div>"
            ],
            "text/plain": [
              "               0         1         2   ...        18        19        20\n",
              "0  test_00000.png  0.036151  0.014607  ...  0.033405  0.078505  0.053430\n",
              "1  test_00001.png  0.033393  0.037818  ...  0.067940  0.030642  0.078394\n",
              "2  test_00002.png  0.098902  0.047091  ...  0.038710  0.000611  0.060666\n",
              "3  test_00003.png  0.054705  0.080344  ...  0.036344  0.070731  0.026432\n",
              "4  test_00004.png  0.087472  0.045188  ...  0.002596  0.030469  0.001106\n",
              "\n",
              "[5 rows x 21 columns]"
            ]
          },
          "metadata": {
            "tags": []
          },
          "execution_count": 14
        }
      ]
    },
    {
      "cell_type": "code",
      "metadata": {
        "id": "jsPL5snkSfN3"
      },
      "source": [
        "X_train = np.load('X_train.npy')"
      ],
      "execution_count": 15,
      "outputs": []
    },
    {
      "cell_type": "code",
      "metadata": {
        "id": "sNjXI8jXSqfa"
      },
      "source": [
        "Y_train = np.load('Y_train.npy')"
      ],
      "execution_count": 16,
      "outputs": []
    },
    {
      "cell_type": "code",
      "metadata": {
        "id": "_wm-sPAJSrJD"
      },
      "source": [
        "X_test = np.load('X_test.npy')"
      ],
      "execution_count": 17,
      "outputs": []
    },
    {
      "cell_type": "markdown",
      "metadata": {
        "id": "2_W0PYSGFoGP"
      },
      "source": [
        "# Normalization"
      ]
    },
    {
      "cell_type": "code",
      "metadata": {
        "id": "3iFSBFZ5SSsQ"
      },
      "source": [
        "train = X_train / 255\n",
        "test = X_test / 255"
      ],
      "execution_count": 18,
      "outputs": []
    },
    {
      "cell_type": "markdown",
      "metadata": {
        "id": "CBweHLTjFx3A"
      },
      "source": [
        "# Splitting Data"
      ]
    },
    {
      "cell_type": "code",
      "metadata": {
        "colab": {
          "base_uri": "https://localhost:8080/"
        },
        "id": "r8Bwa_YSTwje",
        "outputId": "3c51ba60-52ef-4da4-acc1-185e2307fd50"
      },
      "source": [
        "# Spliting the training data into a training data and a validation data.\r\n",
        "st = StratifiedShuffleSplit(n_splits = 2, test_size = 0.2, random_state = 1)\r\n",
        "for train_index, val_index in st.split(train, Y_train):\r\n",
        "    X_train_image, X_val_image, y_train_label, y_val_label = train[train_index], train[val_index], Y_train[train_index], Y_train[val_index]\r\n",
        "    \r\n",
        "print(\"The number of training data : \", X_train_image.shape[0])\r\n",
        "print(\"The number of validation data : \", X_val_image.shape[0])"
      ],
      "execution_count": 19,
      "outputs": [
        {
          "output_type": "stream",
          "text": [
            "The number of training data :  40000\n",
            "The number of validation data :  10000\n"
          ],
          "name": "stdout"
        }
      ]
    },
    {
      "cell_type": "markdown",
      "metadata": {
        "id": "IBJmX064GPx6"
      },
      "source": [
        "# Setting Callbacks"
      ]
    },
    {
      "cell_type": "code",
      "metadata": {
        "id": "1h4OyH5KYabA"
      },
      "source": [
        "early_stopping = EarlyStopping(\r\n",
        "    monitor='val_loss',\r\n",
        "    patience=10,\r\n",
        "    verbose=1\r\n",
        ")"
      ],
      "execution_count": 20,
      "outputs": []
    },
    {
      "cell_type": "code",
      "metadata": {
        "id": "xstWShgdYa4K"
      },
      "source": [
        "reduce_lr = ReduceLROnPlateau(\r\n",
        "    monitor='val_loss',\r\n",
        "    factor=0.1,\r\n",
        "    patience=3,\r\n",
        "    verbose=1\r\n",
        ")"
      ],
      "execution_count": 21,
      "outputs": []
    },
    {
      "cell_type": "code",
      "metadata": {
        "colab": {
          "base_uri": "https://localhost:8080/"
        },
        "id": "TiyrteRJWStm",
        "outputId": "2ff9bb34-65d5-4d81-ca89-2fcb922c5eed"
      },
      "source": [
        "# ModelCheckpoint\r\n",
        "weights_dir='/content/drive/MyDrive/AI Quest/SaveModels/'\r\n",
        "if os.path.exists(weights_dir)==False:os.mkdir(weights_dir)\r\n",
        "model_checkpoint = ModelCheckpoint(\r\n",
        "    weights_dir + \"val_loss{val_loss:.3f}.hdf5\",\r\n",
        "    monitor='val_loss',\r\n",
        "    verbose=1,\r\n",
        "    save_best_only=True,\r\n",
        "    save_weights_only=True,\r\n",
        "    period=3\r\n",
        ")\r\n"
      ],
      "execution_count": 22,
      "outputs": [
        {
          "output_type": "stream",
          "text": [
            "WARNING:tensorflow:`period` argument is deprecated. Please use `save_freq` to specify the frequency in number of batches seen.\n"
          ],
          "name": "stdout"
        }
      ]
    },
    {
      "cell_type": "markdown",
      "metadata": {
        "id": "KrsXJQekKUoB"
      },
      "source": [
        "# Setting Various Parameters"
      ]
    },
    {
      "cell_type": "code",
      "metadata": {
        "id": "GgV1IwiCKcLR"
      },
      "source": [
        "batch_size = 32\r\n",
        "epochs = 50\r\n",
        "\r\n",
        "steps_per_epoch  = X_train_image.shape[0] // batch_size\r\n",
        "validation_steps = X_val_image.shape[0] // batch_size"
      ],
      "execution_count": 31,
      "outputs": []
    },
    {
      "cell_type": "markdown",
      "metadata": {
        "id": "iCJhOphrJtYx"
      },
      "source": [
        "# Data Augmentation"
      ]
    },
    {
      "cell_type": "code",
      "metadata": {
        "id": "jOIcjukW0VYV"
      },
      "source": [
        "datagen = ImageDataGenerator(\r\n",
        "    featurewise_center = False,\r\n",
        "    samplewise_center = False,\r\n",
        "    featurewise_std_normalization = False,\r\n",
        "    samplewise_std_normalization = False,\r\n",
        "    zca_whitening = False,\r\n",
        "    rotation_range = 0,\r\n",
        "    width_shift_range = 0.1,\r\n",
        "    height_shift_range = 0.1,\r\n",
        "    horizontal_flip = True,\r\n",
        "    vertical_flip = False\r\n",
        ")"
      ],
      "execution_count": 23,
      "outputs": []
    },
    {
      "cell_type": "markdown",
      "metadata": {
        "id": "DojZAGNNGW-D"
      },
      "source": [
        "# Fine Tuning by EfficientNetB0"
      ]
    },
    {
      "cell_type": "markdown",
      "metadata": {
        "id": "t0_ETl3XHWpb"
      },
      "source": [
        "### （１）Resizing images"
      ]
    },
    {
      "cell_type": "code",
      "metadata": {
        "id": "qi_ERMvl_wHf"
      },
      "source": [
        "inputs = tf.keras.Input(shape=(None, None, 3))\r\n",
        "x = tf.keras.layers.Lambda(lambda img: tf.image.resize(img, (224, 224)))(inputs)\r\n",
        "# x = tf.keras.layers.Lambda(EfficientNetB0.)(x)"
      ],
      "execution_count": 24,
      "outputs": []
    },
    {
      "cell_type": "markdown",
      "metadata": {
        "id": "G09p-MepHwF3"
      },
      "source": [
        "### （２）Loading the trained model"
      ]
    },
    {
      "cell_type": "code",
      "metadata": {
        "id": "1StH4BWB1IPZ",
        "colab": {
          "base_uri": "https://localhost:8080/"
        },
        "outputId": "611dddc8-4a39-4402-8f4f-05304e9aa2a4"
      },
      "source": [
        "# from efficientnet import EfficientNetB0\n",
        "input_shape = (224, 224, 3)\n",
        "base_model = EfficientNetB0(\n",
        "                            input_shape=input_shape,\n",
        "                            weights='imagenet',\n",
        "                            include_top=False,\n",
        "                            drop_connect_rate=0.4, #正則化 defalt値は0.2\n",
        "                            input_tensor=x)\n"
      ],
      "execution_count": 25,
      "outputs": [
        {
          "output_type": "stream",
          "text": [
            "Downloading data from https://github.com/Callidior/keras-applications/releases/download/efficientnet/efficientnet-b0_weights_tf_dim_ordering_tf_kernels_autoaugment_notop.h5\n",
            "16809984/16804768 [==============================] - 0s 0us/step\n"
          ],
          "name": "stdout"
        }
      ]
    },
    {
      "cell_type": "markdown",
      "metadata": {
        "id": "sbw9x0cRICuD"
      },
      "source": [
        "### （３）Rebuild the model"
      ]
    },
    {
      "cell_type": "code",
      "metadata": {
        "id": "dzPFHbXS1IMp"
      },
      "source": [
        "x = base_model.output\n",
        "x = GlobalAveragePooling2D()(x)\n",
        "x = Dense(512, activation='relu')(x)\n",
        "x = Dropout(rate=0.25)(x)\n",
        "predictions = Dense(20, activation='softmax')(x)"
      ],
      "execution_count": 26,
      "outputs": []
    },
    {
      "cell_type": "code",
      "metadata": {
        "id": "uaTG-2toaf90"
      },
      "source": [
        "# base_model.trainable = False"
      ],
      "execution_count": 29,
      "outputs": []
    },
    {
      "cell_type": "code",
      "metadata": {
        "id": "jy5Z456K1IJ8"
      },
      "source": [
        "# ネットワーク定義\n",
        "model = Model(inputs = base_model.input, outputs = predictions)"
      ],
      "execution_count": 27,
      "outputs": []
    },
    {
      "cell_type": "code",
      "metadata": {
        "id": "27a9Czv-8hZU",
        "colab": {
          "base_uri": "https://localhost:8080/"
        },
        "outputId": "2a01e71d-f203-4e8e-ff14-7d6ccc571199"
      },
      "source": [
        "print(model.summary())"
      ],
      "execution_count": 28,
      "outputs": [
        {
          "output_type": "stream",
          "text": [
            "Model: \"model\"\n",
            "__________________________________________________________________________________________________\n",
            "Layer (type)                    Output Shape         Param #     Connected to                     \n",
            "==================================================================================================\n",
            "input_1 (InputLayer)            [(None, None, None,  0                                            \n",
            "__________________________________________________________________________________________________\n",
            "lambda (Lambda)                 (None, 224, 224, 3)  0           input_1[0][0]                    \n",
            "__________________________________________________________________________________________________\n",
            "stem_conv (Conv2D)              (None, 112, 112, 32) 864         lambda[0][0]                     \n",
            "__________________________________________________________________________________________________\n",
            "stem_bn (BatchNormalization)    (None, 112, 112, 32) 128         stem_conv[0][0]                  \n",
            "__________________________________________________________________________________________________\n",
            "stem_activation (Activation)    (None, 112, 112, 32) 0           stem_bn[0][0]                    \n",
            "__________________________________________________________________________________________________\n",
            "block1a_dwconv (DepthwiseConv2D (None, 112, 112, 32) 288         stem_activation[0][0]            \n",
            "__________________________________________________________________________________________________\n",
            "block1a_bn (BatchNormalization) (None, 112, 112, 32) 128         block1a_dwconv[0][0]             \n",
            "__________________________________________________________________________________________________\n",
            "block1a_activation (Activation) (None, 112, 112, 32) 0           block1a_bn[0][0]                 \n",
            "__________________________________________________________________________________________________\n",
            "block1a_se_squeeze (GlobalAvera (None, 32)           0           block1a_activation[0][0]         \n",
            "__________________________________________________________________________________________________\n",
            "block1a_se_reshape (Reshape)    (None, 1, 1, 32)     0           block1a_se_squeeze[0][0]         \n",
            "__________________________________________________________________________________________________\n",
            "block1a_se_reduce (Conv2D)      (None, 1, 1, 8)      264         block1a_se_reshape[0][0]         \n",
            "__________________________________________________________________________________________________\n",
            "block1a_se_expand (Conv2D)      (None, 1, 1, 32)     288         block1a_se_reduce[0][0]          \n",
            "__________________________________________________________________________________________________\n",
            "block1a_se_excite (Multiply)    (None, 112, 112, 32) 0           block1a_activation[0][0]         \n",
            "                                                                 block1a_se_expand[0][0]          \n",
            "__________________________________________________________________________________________________\n",
            "block1a_project_conv (Conv2D)   (None, 112, 112, 16) 512         block1a_se_excite[0][0]          \n",
            "__________________________________________________________________________________________________\n",
            "block1a_project_bn (BatchNormal (None, 112, 112, 16) 64          block1a_project_conv[0][0]       \n",
            "__________________________________________________________________________________________________\n",
            "block2a_expand_conv (Conv2D)    (None, 112, 112, 96) 1536        block1a_project_bn[0][0]         \n",
            "__________________________________________________________________________________________________\n",
            "block2a_expand_bn (BatchNormali (None, 112, 112, 96) 384         block2a_expand_conv[0][0]        \n",
            "__________________________________________________________________________________________________\n",
            "block2a_expand_activation (Acti (None, 112, 112, 96) 0           block2a_expand_bn[0][0]          \n",
            "__________________________________________________________________________________________________\n",
            "block2a_dwconv (DepthwiseConv2D (None, 56, 56, 96)   864         block2a_expand_activation[0][0]  \n",
            "__________________________________________________________________________________________________\n",
            "block2a_bn (BatchNormalization) (None, 56, 56, 96)   384         block2a_dwconv[0][0]             \n",
            "__________________________________________________________________________________________________\n",
            "block2a_activation (Activation) (None, 56, 56, 96)   0           block2a_bn[0][0]                 \n",
            "__________________________________________________________________________________________________\n",
            "block2a_se_squeeze (GlobalAvera (None, 96)           0           block2a_activation[0][0]         \n",
            "__________________________________________________________________________________________________\n",
            "block2a_se_reshape (Reshape)    (None, 1, 1, 96)     0           block2a_se_squeeze[0][0]         \n",
            "__________________________________________________________________________________________________\n",
            "block2a_se_reduce (Conv2D)      (None, 1, 1, 4)      388         block2a_se_reshape[0][0]         \n",
            "__________________________________________________________________________________________________\n",
            "block2a_se_expand (Conv2D)      (None, 1, 1, 96)     480         block2a_se_reduce[0][0]          \n",
            "__________________________________________________________________________________________________\n",
            "block2a_se_excite (Multiply)    (None, 56, 56, 96)   0           block2a_activation[0][0]         \n",
            "                                                                 block2a_se_expand[0][0]          \n",
            "__________________________________________________________________________________________________\n",
            "block2a_project_conv (Conv2D)   (None, 56, 56, 24)   2304        block2a_se_excite[0][0]          \n",
            "__________________________________________________________________________________________________\n",
            "block2a_project_bn (BatchNormal (None, 56, 56, 24)   96          block2a_project_conv[0][0]       \n",
            "__________________________________________________________________________________________________\n",
            "block2b_expand_conv (Conv2D)    (None, 56, 56, 144)  3456        block2a_project_bn[0][0]         \n",
            "__________________________________________________________________________________________________\n",
            "block2b_expand_bn (BatchNormali (None, 56, 56, 144)  576         block2b_expand_conv[0][0]        \n",
            "__________________________________________________________________________________________________\n",
            "block2b_expand_activation (Acti (None, 56, 56, 144)  0           block2b_expand_bn[0][0]          \n",
            "__________________________________________________________________________________________________\n",
            "block2b_dwconv (DepthwiseConv2D (None, 56, 56, 144)  1296        block2b_expand_activation[0][0]  \n",
            "__________________________________________________________________________________________________\n",
            "block2b_bn (BatchNormalization) (None, 56, 56, 144)  576         block2b_dwconv[0][0]             \n",
            "__________________________________________________________________________________________________\n",
            "block2b_activation (Activation) (None, 56, 56, 144)  0           block2b_bn[0][0]                 \n",
            "__________________________________________________________________________________________________\n",
            "block2b_se_squeeze (GlobalAvera (None, 144)          0           block2b_activation[0][0]         \n",
            "__________________________________________________________________________________________________\n",
            "block2b_se_reshape (Reshape)    (None, 1, 1, 144)    0           block2b_se_squeeze[0][0]         \n",
            "__________________________________________________________________________________________________\n",
            "block2b_se_reduce (Conv2D)      (None, 1, 1, 6)      870         block2b_se_reshape[0][0]         \n",
            "__________________________________________________________________________________________________\n",
            "block2b_se_expand (Conv2D)      (None, 1, 1, 144)    1008        block2b_se_reduce[0][0]          \n",
            "__________________________________________________________________________________________________\n",
            "block2b_se_excite (Multiply)    (None, 56, 56, 144)  0           block2b_activation[0][0]         \n",
            "                                                                 block2b_se_expand[0][0]          \n",
            "__________________________________________________________________________________________________\n",
            "block2b_project_conv (Conv2D)   (None, 56, 56, 24)   3456        block2b_se_excite[0][0]          \n",
            "__________________________________________________________________________________________________\n",
            "block2b_project_bn (BatchNormal (None, 56, 56, 24)   96          block2b_project_conv[0][0]       \n",
            "__________________________________________________________________________________________________\n",
            "block2b_drop (FixedDropout)     (None, 56, 56, 24)   0           block2b_project_bn[0][0]         \n",
            "__________________________________________________________________________________________________\n",
            "block2b_add (Add)               (None, 56, 56, 24)   0           block2b_drop[0][0]               \n",
            "                                                                 block2a_project_bn[0][0]         \n",
            "__________________________________________________________________________________________________\n",
            "block3a_expand_conv (Conv2D)    (None, 56, 56, 144)  3456        block2b_add[0][0]                \n",
            "__________________________________________________________________________________________________\n",
            "block3a_expand_bn (BatchNormali (None, 56, 56, 144)  576         block3a_expand_conv[0][0]        \n",
            "__________________________________________________________________________________________________\n",
            "block3a_expand_activation (Acti (None, 56, 56, 144)  0           block3a_expand_bn[0][0]          \n",
            "__________________________________________________________________________________________________\n",
            "block3a_dwconv (DepthwiseConv2D (None, 28, 28, 144)  3600        block3a_expand_activation[0][0]  \n",
            "__________________________________________________________________________________________________\n",
            "block3a_bn (BatchNormalization) (None, 28, 28, 144)  576         block3a_dwconv[0][0]             \n",
            "__________________________________________________________________________________________________\n",
            "block3a_activation (Activation) (None, 28, 28, 144)  0           block3a_bn[0][0]                 \n",
            "__________________________________________________________________________________________________\n",
            "block3a_se_squeeze (GlobalAvera (None, 144)          0           block3a_activation[0][0]         \n",
            "__________________________________________________________________________________________________\n",
            "block3a_se_reshape (Reshape)    (None, 1, 1, 144)    0           block3a_se_squeeze[0][0]         \n",
            "__________________________________________________________________________________________________\n",
            "block3a_se_reduce (Conv2D)      (None, 1, 1, 6)      870         block3a_se_reshape[0][0]         \n",
            "__________________________________________________________________________________________________\n",
            "block3a_se_expand (Conv2D)      (None, 1, 1, 144)    1008        block3a_se_reduce[0][0]          \n",
            "__________________________________________________________________________________________________\n",
            "block3a_se_excite (Multiply)    (None, 28, 28, 144)  0           block3a_activation[0][0]         \n",
            "                                                                 block3a_se_expand[0][0]          \n",
            "__________________________________________________________________________________________________\n",
            "block3a_project_conv (Conv2D)   (None, 28, 28, 40)   5760        block3a_se_excite[0][0]          \n",
            "__________________________________________________________________________________________________\n",
            "block3a_project_bn (BatchNormal (None, 28, 28, 40)   160         block3a_project_conv[0][0]       \n",
            "__________________________________________________________________________________________________\n",
            "block3b_expand_conv (Conv2D)    (None, 28, 28, 240)  9600        block3a_project_bn[0][0]         \n",
            "__________________________________________________________________________________________________\n",
            "block3b_expand_bn (BatchNormali (None, 28, 28, 240)  960         block3b_expand_conv[0][0]        \n",
            "__________________________________________________________________________________________________\n",
            "block3b_expand_activation (Acti (None, 28, 28, 240)  0           block3b_expand_bn[0][0]          \n",
            "__________________________________________________________________________________________________\n",
            "block3b_dwconv (DepthwiseConv2D (None, 28, 28, 240)  6000        block3b_expand_activation[0][0]  \n",
            "__________________________________________________________________________________________________\n",
            "block3b_bn (BatchNormalization) (None, 28, 28, 240)  960         block3b_dwconv[0][0]             \n",
            "__________________________________________________________________________________________________\n",
            "block3b_activation (Activation) (None, 28, 28, 240)  0           block3b_bn[0][0]                 \n",
            "__________________________________________________________________________________________________\n",
            "block3b_se_squeeze (GlobalAvera (None, 240)          0           block3b_activation[0][0]         \n",
            "__________________________________________________________________________________________________\n",
            "block3b_se_reshape (Reshape)    (None, 1, 1, 240)    0           block3b_se_squeeze[0][0]         \n",
            "__________________________________________________________________________________________________\n",
            "block3b_se_reduce (Conv2D)      (None, 1, 1, 10)     2410        block3b_se_reshape[0][0]         \n",
            "__________________________________________________________________________________________________\n",
            "block3b_se_expand (Conv2D)      (None, 1, 1, 240)    2640        block3b_se_reduce[0][0]          \n",
            "__________________________________________________________________________________________________\n",
            "block3b_se_excite (Multiply)    (None, 28, 28, 240)  0           block3b_activation[0][0]         \n",
            "                                                                 block3b_se_expand[0][0]          \n",
            "__________________________________________________________________________________________________\n",
            "block3b_project_conv (Conv2D)   (None, 28, 28, 40)   9600        block3b_se_excite[0][0]          \n",
            "__________________________________________________________________________________________________\n",
            "block3b_project_bn (BatchNormal (None, 28, 28, 40)   160         block3b_project_conv[0][0]       \n",
            "__________________________________________________________________________________________________\n",
            "block3b_drop (FixedDropout)     (None, 28, 28, 40)   0           block3b_project_bn[0][0]         \n",
            "__________________________________________________________________________________________________\n",
            "block3b_add (Add)               (None, 28, 28, 40)   0           block3b_drop[0][0]               \n",
            "                                                                 block3a_project_bn[0][0]         \n",
            "__________________________________________________________________________________________________\n",
            "block4a_expand_conv (Conv2D)    (None, 28, 28, 240)  9600        block3b_add[0][0]                \n",
            "__________________________________________________________________________________________________\n",
            "block4a_expand_bn (BatchNormali (None, 28, 28, 240)  960         block4a_expand_conv[0][0]        \n",
            "__________________________________________________________________________________________________\n",
            "block4a_expand_activation (Acti (None, 28, 28, 240)  0           block4a_expand_bn[0][0]          \n",
            "__________________________________________________________________________________________________\n",
            "block4a_dwconv (DepthwiseConv2D (None, 14, 14, 240)  2160        block4a_expand_activation[0][0]  \n",
            "__________________________________________________________________________________________________\n",
            "block4a_bn (BatchNormalization) (None, 14, 14, 240)  960         block4a_dwconv[0][0]             \n",
            "__________________________________________________________________________________________________\n",
            "block4a_activation (Activation) (None, 14, 14, 240)  0           block4a_bn[0][0]                 \n",
            "__________________________________________________________________________________________________\n",
            "block4a_se_squeeze (GlobalAvera (None, 240)          0           block4a_activation[0][0]         \n",
            "__________________________________________________________________________________________________\n",
            "block4a_se_reshape (Reshape)    (None, 1, 1, 240)    0           block4a_se_squeeze[0][0]         \n",
            "__________________________________________________________________________________________________\n",
            "block4a_se_reduce (Conv2D)      (None, 1, 1, 10)     2410        block4a_se_reshape[0][0]         \n",
            "__________________________________________________________________________________________________\n",
            "block4a_se_expand (Conv2D)      (None, 1, 1, 240)    2640        block4a_se_reduce[0][0]          \n",
            "__________________________________________________________________________________________________\n",
            "block4a_se_excite (Multiply)    (None, 14, 14, 240)  0           block4a_activation[0][0]         \n",
            "                                                                 block4a_se_expand[0][0]          \n",
            "__________________________________________________________________________________________________\n",
            "block4a_project_conv (Conv2D)   (None, 14, 14, 80)   19200       block4a_se_excite[0][0]          \n",
            "__________________________________________________________________________________________________\n",
            "block4a_project_bn (BatchNormal (None, 14, 14, 80)   320         block4a_project_conv[0][0]       \n",
            "__________________________________________________________________________________________________\n",
            "block4b_expand_conv (Conv2D)    (None, 14, 14, 480)  38400       block4a_project_bn[0][0]         \n",
            "__________________________________________________________________________________________________\n",
            "block4b_expand_bn (BatchNormali (None, 14, 14, 480)  1920        block4b_expand_conv[0][0]        \n",
            "__________________________________________________________________________________________________\n",
            "block4b_expand_activation (Acti (None, 14, 14, 480)  0           block4b_expand_bn[0][0]          \n",
            "__________________________________________________________________________________________________\n",
            "block4b_dwconv (DepthwiseConv2D (None, 14, 14, 480)  4320        block4b_expand_activation[0][0]  \n",
            "__________________________________________________________________________________________________\n",
            "block4b_bn (BatchNormalization) (None, 14, 14, 480)  1920        block4b_dwconv[0][0]             \n",
            "__________________________________________________________________________________________________\n",
            "block4b_activation (Activation) (None, 14, 14, 480)  0           block4b_bn[0][0]                 \n",
            "__________________________________________________________________________________________________\n",
            "block4b_se_squeeze (GlobalAvera (None, 480)          0           block4b_activation[0][0]         \n",
            "__________________________________________________________________________________________________\n",
            "block4b_se_reshape (Reshape)    (None, 1, 1, 480)    0           block4b_se_squeeze[0][0]         \n",
            "__________________________________________________________________________________________________\n",
            "block4b_se_reduce (Conv2D)      (None, 1, 1, 20)     9620        block4b_se_reshape[0][0]         \n",
            "__________________________________________________________________________________________________\n",
            "block4b_se_expand (Conv2D)      (None, 1, 1, 480)    10080       block4b_se_reduce[0][0]          \n",
            "__________________________________________________________________________________________________\n",
            "block4b_se_excite (Multiply)    (None, 14, 14, 480)  0           block4b_activation[0][0]         \n",
            "                                                                 block4b_se_expand[0][0]          \n",
            "__________________________________________________________________________________________________\n",
            "block4b_project_conv (Conv2D)   (None, 14, 14, 80)   38400       block4b_se_excite[0][0]          \n",
            "__________________________________________________________________________________________________\n",
            "block4b_project_bn (BatchNormal (None, 14, 14, 80)   320         block4b_project_conv[0][0]       \n",
            "__________________________________________________________________________________________________\n",
            "block4b_drop (FixedDropout)     (None, 14, 14, 80)   0           block4b_project_bn[0][0]         \n",
            "__________________________________________________________________________________________________\n",
            "block4b_add (Add)               (None, 14, 14, 80)   0           block4b_drop[0][0]               \n",
            "                                                                 block4a_project_bn[0][0]         \n",
            "__________________________________________________________________________________________________\n",
            "block4c_expand_conv (Conv2D)    (None, 14, 14, 480)  38400       block4b_add[0][0]                \n",
            "__________________________________________________________________________________________________\n",
            "block4c_expand_bn (BatchNormali (None, 14, 14, 480)  1920        block4c_expand_conv[0][0]        \n",
            "__________________________________________________________________________________________________\n",
            "block4c_expand_activation (Acti (None, 14, 14, 480)  0           block4c_expand_bn[0][0]          \n",
            "__________________________________________________________________________________________________\n",
            "block4c_dwconv (DepthwiseConv2D (None, 14, 14, 480)  4320        block4c_expand_activation[0][0]  \n",
            "__________________________________________________________________________________________________\n",
            "block4c_bn (BatchNormalization) (None, 14, 14, 480)  1920        block4c_dwconv[0][0]             \n",
            "__________________________________________________________________________________________________\n",
            "block4c_activation (Activation) (None, 14, 14, 480)  0           block4c_bn[0][0]                 \n",
            "__________________________________________________________________________________________________\n",
            "block4c_se_squeeze (GlobalAvera (None, 480)          0           block4c_activation[0][0]         \n",
            "__________________________________________________________________________________________________\n",
            "block4c_se_reshape (Reshape)    (None, 1, 1, 480)    0           block4c_se_squeeze[0][0]         \n",
            "__________________________________________________________________________________________________\n",
            "block4c_se_reduce (Conv2D)      (None, 1, 1, 20)     9620        block4c_se_reshape[0][0]         \n",
            "__________________________________________________________________________________________________\n",
            "block4c_se_expand (Conv2D)      (None, 1, 1, 480)    10080       block4c_se_reduce[0][0]          \n",
            "__________________________________________________________________________________________________\n",
            "block4c_se_excite (Multiply)    (None, 14, 14, 480)  0           block4c_activation[0][0]         \n",
            "                                                                 block4c_se_expand[0][0]          \n",
            "__________________________________________________________________________________________________\n",
            "block4c_project_conv (Conv2D)   (None, 14, 14, 80)   38400       block4c_se_excite[0][0]          \n",
            "__________________________________________________________________________________________________\n",
            "block4c_project_bn (BatchNormal (None, 14, 14, 80)   320         block4c_project_conv[0][0]       \n",
            "__________________________________________________________________________________________________\n",
            "block4c_drop (FixedDropout)     (None, 14, 14, 80)   0           block4c_project_bn[0][0]         \n",
            "__________________________________________________________________________________________________\n",
            "block4c_add (Add)               (None, 14, 14, 80)   0           block4c_drop[0][0]               \n",
            "                                                                 block4b_add[0][0]                \n",
            "__________________________________________________________________________________________________\n",
            "block5a_expand_conv (Conv2D)    (None, 14, 14, 480)  38400       block4c_add[0][0]                \n",
            "__________________________________________________________________________________________________\n",
            "block5a_expand_bn (BatchNormali (None, 14, 14, 480)  1920        block5a_expand_conv[0][0]        \n",
            "__________________________________________________________________________________________________\n",
            "block5a_expand_activation (Acti (None, 14, 14, 480)  0           block5a_expand_bn[0][0]          \n",
            "__________________________________________________________________________________________________\n",
            "block5a_dwconv (DepthwiseConv2D (None, 14, 14, 480)  12000       block5a_expand_activation[0][0]  \n",
            "__________________________________________________________________________________________________\n",
            "block5a_bn (BatchNormalization) (None, 14, 14, 480)  1920        block5a_dwconv[0][0]             \n",
            "__________________________________________________________________________________________________\n",
            "block5a_activation (Activation) (None, 14, 14, 480)  0           block5a_bn[0][0]                 \n",
            "__________________________________________________________________________________________________\n",
            "block5a_se_squeeze (GlobalAvera (None, 480)          0           block5a_activation[0][0]         \n",
            "__________________________________________________________________________________________________\n",
            "block5a_se_reshape (Reshape)    (None, 1, 1, 480)    0           block5a_se_squeeze[0][0]         \n",
            "__________________________________________________________________________________________________\n",
            "block5a_se_reduce (Conv2D)      (None, 1, 1, 20)     9620        block5a_se_reshape[0][0]         \n",
            "__________________________________________________________________________________________________\n",
            "block5a_se_expand (Conv2D)      (None, 1, 1, 480)    10080       block5a_se_reduce[0][0]          \n",
            "__________________________________________________________________________________________________\n",
            "block5a_se_excite (Multiply)    (None, 14, 14, 480)  0           block5a_activation[0][0]         \n",
            "                                                                 block5a_se_expand[0][0]          \n",
            "__________________________________________________________________________________________________\n",
            "block5a_project_conv (Conv2D)   (None, 14, 14, 112)  53760       block5a_se_excite[0][0]          \n",
            "__________________________________________________________________________________________________\n",
            "block5a_project_bn (BatchNormal (None, 14, 14, 112)  448         block5a_project_conv[0][0]       \n",
            "__________________________________________________________________________________________________\n",
            "block5b_expand_conv (Conv2D)    (None, 14, 14, 672)  75264       block5a_project_bn[0][0]         \n",
            "__________________________________________________________________________________________________\n",
            "block5b_expand_bn (BatchNormali (None, 14, 14, 672)  2688        block5b_expand_conv[0][0]        \n",
            "__________________________________________________________________________________________________\n",
            "block5b_expand_activation (Acti (None, 14, 14, 672)  0           block5b_expand_bn[0][0]          \n",
            "__________________________________________________________________________________________________\n",
            "block5b_dwconv (DepthwiseConv2D (None, 14, 14, 672)  16800       block5b_expand_activation[0][0]  \n",
            "__________________________________________________________________________________________________\n",
            "block5b_bn (BatchNormalization) (None, 14, 14, 672)  2688        block5b_dwconv[0][0]             \n",
            "__________________________________________________________________________________________________\n",
            "block5b_activation (Activation) (None, 14, 14, 672)  0           block5b_bn[0][0]                 \n",
            "__________________________________________________________________________________________________\n",
            "block5b_se_squeeze (GlobalAvera (None, 672)          0           block5b_activation[0][0]         \n",
            "__________________________________________________________________________________________________\n",
            "block5b_se_reshape (Reshape)    (None, 1, 1, 672)    0           block5b_se_squeeze[0][0]         \n",
            "__________________________________________________________________________________________________\n",
            "block5b_se_reduce (Conv2D)      (None, 1, 1, 28)     18844       block5b_se_reshape[0][0]         \n",
            "__________________________________________________________________________________________________\n",
            "block5b_se_expand (Conv2D)      (None, 1, 1, 672)    19488       block5b_se_reduce[0][0]          \n",
            "__________________________________________________________________________________________________\n",
            "block5b_se_excite (Multiply)    (None, 14, 14, 672)  0           block5b_activation[0][0]         \n",
            "                                                                 block5b_se_expand[0][0]          \n",
            "__________________________________________________________________________________________________\n",
            "block5b_project_conv (Conv2D)   (None, 14, 14, 112)  75264       block5b_se_excite[0][0]          \n",
            "__________________________________________________________________________________________________\n",
            "block5b_project_bn (BatchNormal (None, 14, 14, 112)  448         block5b_project_conv[0][0]       \n",
            "__________________________________________________________________________________________________\n",
            "block5b_drop (FixedDropout)     (None, 14, 14, 112)  0           block5b_project_bn[0][0]         \n",
            "__________________________________________________________________________________________________\n",
            "block5b_add (Add)               (None, 14, 14, 112)  0           block5b_drop[0][0]               \n",
            "                                                                 block5a_project_bn[0][0]         \n",
            "__________________________________________________________________________________________________\n",
            "block5c_expand_conv (Conv2D)    (None, 14, 14, 672)  75264       block5b_add[0][0]                \n",
            "__________________________________________________________________________________________________\n",
            "block5c_expand_bn (BatchNormali (None, 14, 14, 672)  2688        block5c_expand_conv[0][0]        \n",
            "__________________________________________________________________________________________________\n",
            "block5c_expand_activation (Acti (None, 14, 14, 672)  0           block5c_expand_bn[0][0]          \n",
            "__________________________________________________________________________________________________\n",
            "block5c_dwconv (DepthwiseConv2D (None, 14, 14, 672)  16800       block5c_expand_activation[0][0]  \n",
            "__________________________________________________________________________________________________\n",
            "block5c_bn (BatchNormalization) (None, 14, 14, 672)  2688        block5c_dwconv[0][0]             \n",
            "__________________________________________________________________________________________________\n",
            "block5c_activation (Activation) (None, 14, 14, 672)  0           block5c_bn[0][0]                 \n",
            "__________________________________________________________________________________________________\n",
            "block5c_se_squeeze (GlobalAvera (None, 672)          0           block5c_activation[0][0]         \n",
            "__________________________________________________________________________________________________\n",
            "block5c_se_reshape (Reshape)    (None, 1, 1, 672)    0           block5c_se_squeeze[0][0]         \n",
            "__________________________________________________________________________________________________\n",
            "block5c_se_reduce (Conv2D)      (None, 1, 1, 28)     18844       block5c_se_reshape[0][0]         \n",
            "__________________________________________________________________________________________________\n",
            "block5c_se_expand (Conv2D)      (None, 1, 1, 672)    19488       block5c_se_reduce[0][0]          \n",
            "__________________________________________________________________________________________________\n",
            "block5c_se_excite (Multiply)    (None, 14, 14, 672)  0           block5c_activation[0][0]         \n",
            "                                                                 block5c_se_expand[0][0]          \n",
            "__________________________________________________________________________________________________\n",
            "block5c_project_conv (Conv2D)   (None, 14, 14, 112)  75264       block5c_se_excite[0][0]          \n",
            "__________________________________________________________________________________________________\n",
            "block5c_project_bn (BatchNormal (None, 14, 14, 112)  448         block5c_project_conv[0][0]       \n",
            "__________________________________________________________________________________________________\n",
            "block5c_drop (FixedDropout)     (None, 14, 14, 112)  0           block5c_project_bn[0][0]         \n",
            "__________________________________________________________________________________________________\n",
            "block5c_add (Add)               (None, 14, 14, 112)  0           block5c_drop[0][0]               \n",
            "                                                                 block5b_add[0][0]                \n",
            "__________________________________________________________________________________________________\n",
            "block6a_expand_conv (Conv2D)    (None, 14, 14, 672)  75264       block5c_add[0][0]                \n",
            "__________________________________________________________________________________________________\n",
            "block6a_expand_bn (BatchNormali (None, 14, 14, 672)  2688        block6a_expand_conv[0][0]        \n",
            "__________________________________________________________________________________________________\n",
            "block6a_expand_activation (Acti (None, 14, 14, 672)  0           block6a_expand_bn[0][0]          \n",
            "__________________________________________________________________________________________________\n",
            "block6a_dwconv (DepthwiseConv2D (None, 7, 7, 672)    16800       block6a_expand_activation[0][0]  \n",
            "__________________________________________________________________________________________________\n",
            "block6a_bn (BatchNormalization) (None, 7, 7, 672)    2688        block6a_dwconv[0][0]             \n",
            "__________________________________________________________________________________________________\n",
            "block6a_activation (Activation) (None, 7, 7, 672)    0           block6a_bn[0][0]                 \n",
            "__________________________________________________________________________________________________\n",
            "block6a_se_squeeze (GlobalAvera (None, 672)          0           block6a_activation[0][0]         \n",
            "__________________________________________________________________________________________________\n",
            "block6a_se_reshape (Reshape)    (None, 1, 1, 672)    0           block6a_se_squeeze[0][0]         \n",
            "__________________________________________________________________________________________________\n",
            "block6a_se_reduce (Conv2D)      (None, 1, 1, 28)     18844       block6a_se_reshape[0][0]         \n",
            "__________________________________________________________________________________________________\n",
            "block6a_se_expand (Conv2D)      (None, 1, 1, 672)    19488       block6a_se_reduce[0][0]          \n",
            "__________________________________________________________________________________________________\n",
            "block6a_se_excite (Multiply)    (None, 7, 7, 672)    0           block6a_activation[0][0]         \n",
            "                                                                 block6a_se_expand[0][0]          \n",
            "__________________________________________________________________________________________________\n",
            "block6a_project_conv (Conv2D)   (None, 7, 7, 192)    129024      block6a_se_excite[0][0]          \n",
            "__________________________________________________________________________________________________\n",
            "block6a_project_bn (BatchNormal (None, 7, 7, 192)    768         block6a_project_conv[0][0]       \n",
            "__________________________________________________________________________________________________\n",
            "block6b_expand_conv (Conv2D)    (None, 7, 7, 1152)   221184      block6a_project_bn[0][0]         \n",
            "__________________________________________________________________________________________________\n",
            "block6b_expand_bn (BatchNormali (None, 7, 7, 1152)   4608        block6b_expand_conv[0][0]        \n",
            "__________________________________________________________________________________________________\n",
            "block6b_expand_activation (Acti (None, 7, 7, 1152)   0           block6b_expand_bn[0][0]          \n",
            "__________________________________________________________________________________________________\n",
            "block6b_dwconv (DepthwiseConv2D (None, 7, 7, 1152)   28800       block6b_expand_activation[0][0]  \n",
            "__________________________________________________________________________________________________\n",
            "block6b_bn (BatchNormalization) (None, 7, 7, 1152)   4608        block6b_dwconv[0][0]             \n",
            "__________________________________________________________________________________________________\n",
            "block6b_activation (Activation) (None, 7, 7, 1152)   0           block6b_bn[0][0]                 \n",
            "__________________________________________________________________________________________________\n",
            "block6b_se_squeeze (GlobalAvera (None, 1152)         0           block6b_activation[0][0]         \n",
            "__________________________________________________________________________________________________\n",
            "block6b_se_reshape (Reshape)    (None, 1, 1, 1152)   0           block6b_se_squeeze[0][0]         \n",
            "__________________________________________________________________________________________________\n",
            "block6b_se_reduce (Conv2D)      (None, 1, 1, 48)     55344       block6b_se_reshape[0][0]         \n",
            "__________________________________________________________________________________________________\n",
            "block6b_se_expand (Conv2D)      (None, 1, 1, 1152)   56448       block6b_se_reduce[0][0]          \n",
            "__________________________________________________________________________________________________\n",
            "block6b_se_excite (Multiply)    (None, 7, 7, 1152)   0           block6b_activation[0][0]         \n",
            "                                                                 block6b_se_expand[0][0]          \n",
            "__________________________________________________________________________________________________\n",
            "block6b_project_conv (Conv2D)   (None, 7, 7, 192)    221184      block6b_se_excite[0][0]          \n",
            "__________________________________________________________________________________________________\n",
            "block6b_project_bn (BatchNormal (None, 7, 7, 192)    768         block6b_project_conv[0][0]       \n",
            "__________________________________________________________________________________________________\n",
            "block6b_drop (FixedDropout)     (None, 7, 7, 192)    0           block6b_project_bn[0][0]         \n",
            "__________________________________________________________________________________________________\n",
            "block6b_add (Add)               (None, 7, 7, 192)    0           block6b_drop[0][0]               \n",
            "                                                                 block6a_project_bn[0][0]         \n",
            "__________________________________________________________________________________________________\n",
            "block6c_expand_conv (Conv2D)    (None, 7, 7, 1152)   221184      block6b_add[0][0]                \n",
            "__________________________________________________________________________________________________\n",
            "block6c_expand_bn (BatchNormali (None, 7, 7, 1152)   4608        block6c_expand_conv[0][0]        \n",
            "__________________________________________________________________________________________________\n",
            "block6c_expand_activation (Acti (None, 7, 7, 1152)   0           block6c_expand_bn[0][0]          \n",
            "__________________________________________________________________________________________________\n",
            "block6c_dwconv (DepthwiseConv2D (None, 7, 7, 1152)   28800       block6c_expand_activation[0][0]  \n",
            "__________________________________________________________________________________________________\n",
            "block6c_bn (BatchNormalization) (None, 7, 7, 1152)   4608        block6c_dwconv[0][0]             \n",
            "__________________________________________________________________________________________________\n",
            "block6c_activation (Activation) (None, 7, 7, 1152)   0           block6c_bn[0][0]                 \n",
            "__________________________________________________________________________________________________\n",
            "block6c_se_squeeze (GlobalAvera (None, 1152)         0           block6c_activation[0][0]         \n",
            "__________________________________________________________________________________________________\n",
            "block6c_se_reshape (Reshape)    (None, 1, 1, 1152)   0           block6c_se_squeeze[0][0]         \n",
            "__________________________________________________________________________________________________\n",
            "block6c_se_reduce (Conv2D)      (None, 1, 1, 48)     55344       block6c_se_reshape[0][0]         \n",
            "__________________________________________________________________________________________________\n",
            "block6c_se_expand (Conv2D)      (None, 1, 1, 1152)   56448       block6c_se_reduce[0][0]          \n",
            "__________________________________________________________________________________________________\n",
            "block6c_se_excite (Multiply)    (None, 7, 7, 1152)   0           block6c_activation[0][0]         \n",
            "                                                                 block6c_se_expand[0][0]          \n",
            "__________________________________________________________________________________________________\n",
            "block6c_project_conv (Conv2D)   (None, 7, 7, 192)    221184      block6c_se_excite[0][0]          \n",
            "__________________________________________________________________________________________________\n",
            "block6c_project_bn (BatchNormal (None, 7, 7, 192)    768         block6c_project_conv[0][0]       \n",
            "__________________________________________________________________________________________________\n",
            "block6c_drop (FixedDropout)     (None, 7, 7, 192)    0           block6c_project_bn[0][0]         \n",
            "__________________________________________________________________________________________________\n",
            "block6c_add (Add)               (None, 7, 7, 192)    0           block6c_drop[0][0]               \n",
            "                                                                 block6b_add[0][0]                \n",
            "__________________________________________________________________________________________________\n",
            "block6d_expand_conv (Conv2D)    (None, 7, 7, 1152)   221184      block6c_add[0][0]                \n",
            "__________________________________________________________________________________________________\n",
            "block6d_expand_bn (BatchNormali (None, 7, 7, 1152)   4608        block6d_expand_conv[0][0]        \n",
            "__________________________________________________________________________________________________\n",
            "block6d_expand_activation (Acti (None, 7, 7, 1152)   0           block6d_expand_bn[0][0]          \n",
            "__________________________________________________________________________________________________\n",
            "block6d_dwconv (DepthwiseConv2D (None, 7, 7, 1152)   28800       block6d_expand_activation[0][0]  \n",
            "__________________________________________________________________________________________________\n",
            "block6d_bn (BatchNormalization) (None, 7, 7, 1152)   4608        block6d_dwconv[0][0]             \n",
            "__________________________________________________________________________________________________\n",
            "block6d_activation (Activation) (None, 7, 7, 1152)   0           block6d_bn[0][0]                 \n",
            "__________________________________________________________________________________________________\n",
            "block6d_se_squeeze (GlobalAvera (None, 1152)         0           block6d_activation[0][0]         \n",
            "__________________________________________________________________________________________________\n",
            "block6d_se_reshape (Reshape)    (None, 1, 1, 1152)   0           block6d_se_squeeze[0][0]         \n",
            "__________________________________________________________________________________________________\n",
            "block6d_se_reduce (Conv2D)      (None, 1, 1, 48)     55344       block6d_se_reshape[0][0]         \n",
            "__________________________________________________________________________________________________\n",
            "block6d_se_expand (Conv2D)      (None, 1, 1, 1152)   56448       block6d_se_reduce[0][0]          \n",
            "__________________________________________________________________________________________________\n",
            "block6d_se_excite (Multiply)    (None, 7, 7, 1152)   0           block6d_activation[0][0]         \n",
            "                                                                 block6d_se_expand[0][0]          \n",
            "__________________________________________________________________________________________________\n",
            "block6d_project_conv (Conv2D)   (None, 7, 7, 192)    221184      block6d_se_excite[0][0]          \n",
            "__________________________________________________________________________________________________\n",
            "block6d_project_bn (BatchNormal (None, 7, 7, 192)    768         block6d_project_conv[0][0]       \n",
            "__________________________________________________________________________________________________\n",
            "block6d_drop (FixedDropout)     (None, 7, 7, 192)    0           block6d_project_bn[0][0]         \n",
            "__________________________________________________________________________________________________\n",
            "block6d_add (Add)               (None, 7, 7, 192)    0           block6d_drop[0][0]               \n",
            "                                                                 block6c_add[0][0]                \n",
            "__________________________________________________________________________________________________\n",
            "block7a_expand_conv (Conv2D)    (None, 7, 7, 1152)   221184      block6d_add[0][0]                \n",
            "__________________________________________________________________________________________________\n",
            "block7a_expand_bn (BatchNormali (None, 7, 7, 1152)   4608        block7a_expand_conv[0][0]        \n",
            "__________________________________________________________________________________________________\n",
            "block7a_expand_activation (Acti (None, 7, 7, 1152)   0           block7a_expand_bn[0][0]          \n",
            "__________________________________________________________________________________________________\n",
            "block7a_dwconv (DepthwiseConv2D (None, 7, 7, 1152)   10368       block7a_expand_activation[0][0]  \n",
            "__________________________________________________________________________________________________\n",
            "block7a_bn (BatchNormalization) (None, 7, 7, 1152)   4608        block7a_dwconv[0][0]             \n",
            "__________________________________________________________________________________________________\n",
            "block7a_activation (Activation) (None, 7, 7, 1152)   0           block7a_bn[0][0]                 \n",
            "__________________________________________________________________________________________________\n",
            "block7a_se_squeeze (GlobalAvera (None, 1152)         0           block7a_activation[0][0]         \n",
            "__________________________________________________________________________________________________\n",
            "block7a_se_reshape (Reshape)    (None, 1, 1, 1152)   0           block7a_se_squeeze[0][0]         \n",
            "__________________________________________________________________________________________________\n",
            "block7a_se_reduce (Conv2D)      (None, 1, 1, 48)     55344       block7a_se_reshape[0][0]         \n",
            "__________________________________________________________________________________________________\n",
            "block7a_se_expand (Conv2D)      (None, 1, 1, 1152)   56448       block7a_se_reduce[0][0]          \n",
            "__________________________________________________________________________________________________\n",
            "block7a_se_excite (Multiply)    (None, 7, 7, 1152)   0           block7a_activation[0][0]         \n",
            "                                                                 block7a_se_expand[0][0]          \n",
            "__________________________________________________________________________________________________\n",
            "block7a_project_conv (Conv2D)   (None, 7, 7, 320)    368640      block7a_se_excite[0][0]          \n",
            "__________________________________________________________________________________________________\n",
            "block7a_project_bn (BatchNormal (None, 7, 7, 320)    1280        block7a_project_conv[0][0]       \n",
            "__________________________________________________________________________________________________\n",
            "top_conv (Conv2D)               (None, 7, 7, 1280)   409600      block7a_project_bn[0][0]         \n",
            "__________________________________________________________________________________________________\n",
            "top_bn (BatchNormalization)     (None, 7, 7, 1280)   5120        top_conv[0][0]                   \n",
            "__________________________________________________________________________________________________\n",
            "top_activation (Activation)     (None, 7, 7, 1280)   0           top_bn[0][0]                     \n",
            "__________________________________________________________________________________________________\n",
            "global_average_pooling2d (Globa (None, 1280)         0           top_activation[0][0]             \n",
            "__________________________________________________________________________________________________\n",
            "dense (Dense)                   (None, 512)          655872      global_average_pooling2d[0][0]   \n",
            "__________________________________________________________________________________________________\n",
            "dropout (Dropout)               (None, 512)          0           dense[0][0]                      \n",
            "__________________________________________________________________________________________________\n",
            "dense_1 (Dense)                 (None, 20)           10260       dropout[0][0]                    \n",
            "==================================================================================================\n",
            "Total params: 4,715,696\n",
            "Trainable params: 4,673,680\n",
            "Non-trainable params: 42,016\n",
            "__________________________________________________________________________________________________\n",
            "None\n"
          ],
          "name": "stdout"
        }
      ]
    },
    {
      "cell_type": "markdown",
      "metadata": {
        "id": "CKKMCS7tII4E"
      },
      "source": [
        "### （４）Training the model"
      ]
    },
    {
      "cell_type": "code",
      "metadata": {
        "id": "zAxeH0sD1IGx"
      },
      "source": [
        "# Compile\n",
        "model.compile(optimizer=tf.keras.optimizers.Adam(), loss='categorical_crossentropy', metrics=['accuracy'])"
      ],
      "execution_count": 29,
      "outputs": []
    },
    {
      "cell_type": "code",
      "metadata": {
        "colab": {
          "base_uri": "https://localhost:8080/"
        },
        "id": "E_Pl67xs00vh",
        "outputId": "5be0f898-1c28-4c40-c1f4-387f459b149f"
      },
      "source": [
        "%%time\r\n",
        "\r\n",
        "hist = model.fit_generator(\r\n",
        "                           datagen.flow(X_train_image, y_train_label, batch_size = batch_size),\r\n",
        "                           steps_per_epoch = X_train_image.shape[0] // batch_size,\r\n",
        "                           epochs = epochs,\r\n",
        "                           validation_data = (X_val_image, y_val_label),\r\n",
        "                           callbacks = [early_stopping, reduce_lr],\r\n",
        "                           shuffle = True,\r\n",
        "                           verbose = 1)"
      ],
      "execution_count": 34,
      "outputs": [
        {
          "output_type": "stream",
          "text": [
            "/usr/local/lib/python3.7/dist-packages/tensorflow/python/keras/engine/training.py:1844: UserWarning: `Model.fit_generator` is deprecated and will be removed in a future version. Please use `Model.fit`, which supports generators.\n",
            "  warnings.warn('`Model.fit_generator` is deprecated and '\n"
          ],
          "name": "stderr"
        },
        {
          "output_type": "stream",
          "text": [
            "Epoch 1/50\n",
            "1250/1250 [==============================] - 367s 293ms/step - loss: 0.8319 - accuracy: 0.7368 - val_loss: 0.7937 - val_accuracy: 0.7513\n",
            "Epoch 2/50\n",
            "1250/1250 [==============================] - 366s 293ms/step - loss: 0.7137 - accuracy: 0.7739 - val_loss: 0.7229 - val_accuracy: 0.7808\n",
            "Epoch 3/50\n",
            "1250/1250 [==============================] - 367s 293ms/step - loss: 0.6325 - accuracy: 0.7970 - val_loss: 0.6842 - val_accuracy: 0.7954\n",
            "Epoch 4/50\n",
            "1250/1250 [==============================] - 366s 293ms/step - loss: 0.5790 - accuracy: 0.8141 - val_loss: 1.1862 - val_accuracy: 0.6674\n",
            "Epoch 5/50\n",
            "1250/1250 [==============================] - 367s 293ms/step - loss: 0.5192 - accuracy: 0.8328 - val_loss: 0.6751 - val_accuracy: 0.8034\n",
            "Epoch 6/50\n",
            "1250/1250 [==============================] - 367s 294ms/step - loss: 0.4832 - accuracy: 0.8442 - val_loss: 0.7620 - val_accuracy: 0.7797\n",
            "Epoch 7/50\n",
            "1250/1250 [==============================] - 363s 290ms/step - loss: 0.4493 - accuracy: 0.8576 - val_loss: 0.6623 - val_accuracy: 0.8119\n",
            "Epoch 8/50\n",
            "1250/1250 [==============================] - 368s 294ms/step - loss: 0.4161 - accuracy: 0.8667 - val_loss: 0.6233 - val_accuracy: 0.8195\n",
            "Epoch 9/50\n",
            "1250/1250 [==============================] - 367s 294ms/step - loss: 0.3828 - accuracy: 0.8762 - val_loss: 0.6194 - val_accuracy: 0.8296\n",
            "Epoch 10/50\n",
            "1250/1250 [==============================] - 367s 294ms/step - loss: 0.3630 - accuracy: 0.8842 - val_loss: 0.6096 - val_accuracy: 0.8309\n",
            "Epoch 11/50\n",
            "1250/1250 [==============================] - 367s 294ms/step - loss: 0.3414 - accuracy: 0.8899 - val_loss: 0.6846 - val_accuracy: 0.8210\n",
            "Epoch 12/50\n",
            "1250/1250 [==============================] - 369s 295ms/step - loss: 0.3249 - accuracy: 0.8959 - val_loss: 0.6704 - val_accuracy: 0.8231\n",
            "Epoch 13/50\n",
            "1250/1250 [==============================] - 367s 294ms/step - loss: 0.3103 - accuracy: 0.8991 - val_loss: 0.7981 - val_accuracy: 0.8024\n",
            "\n",
            "Epoch 00013: ReduceLROnPlateau reducing learning rate to 0.00010000000474974513.\n",
            "Epoch 14/50\n",
            "1250/1250 [==============================] - 368s 295ms/step - loss: 0.1647 - accuracy: 0.9454 - val_loss: 0.5215 - val_accuracy: 0.8758\n",
            "Epoch 15/50\n",
            "1250/1250 [==============================] - 366s 293ms/step - loss: 0.1113 - accuracy: 0.9634 - val_loss: 0.5265 - val_accuracy: 0.8806\n",
            "Epoch 16/50\n",
            "1250/1250 [==============================] - 367s 294ms/step - loss: 0.0874 - accuracy: 0.9715 - val_loss: 0.5360 - val_accuracy: 0.8825\n",
            "Epoch 17/50\n",
            "1250/1250 [==============================] - 367s 294ms/step - loss: 0.0785 - accuracy: 0.9736 - val_loss: 0.5594 - val_accuracy: 0.8809\n",
            "\n",
            "Epoch 00017: ReduceLROnPlateau reducing learning rate to 1.0000000474974514e-05.\n",
            "Epoch 18/50\n",
            "1250/1250 [==============================] - 366s 293ms/step - loss: 0.0647 - accuracy: 0.9780 - val_loss: 0.5549 - val_accuracy: 0.8828\n",
            "Epoch 19/50\n",
            "1250/1250 [==============================] - 367s 294ms/step - loss: 0.0616 - accuracy: 0.9790 - val_loss: 0.5538 - val_accuracy: 0.8828\n",
            "Epoch 00019: early stopping\n",
            "CPU times: user 1h 18min 1s, sys: 37min 42s, total: 1h 55min 44s\n",
            "Wall time: 1h 56min 11s\n"
          ],
          "name": "stdout"
        }
      ]
    },
    {
      "cell_type": "code",
      "metadata": {
        "id": "x8jksxMW1H61"
      },
      "source": [
        "%%time\n",
        "# hist = model.fit(X_train_image, y_train_label, epochs=epochs,\n",
        "# #                  validation_split=0.1,\n",
        "#                  validation_data=(X_val_image, y_val_label),\n",
        "#                  verbose=1, \n",
        "#                  callbacks = [early_stopping, reduce_lr],\n",
        "#                  batch_size=batch_size)"
      ],
      "execution_count": null,
      "outputs": []
    },
    {
      "cell_type": "markdown",
      "metadata": {
        "id": "VejW1szeId0j"
      },
      "source": [
        "### （５）Evaluating the model"
      ]
    },
    {
      "cell_type": "code",
      "metadata": {
        "id": "S39vhiufz58X",
        "colab": {
          "base_uri": "https://localhost:8080/",
          "height": 295
        },
        "outputId": "086eac5b-178f-4bd0-d4b6-3434aa351d9a"
      },
      "source": [
        "# ----------------------------------------------\r\n",
        "# Some plots\r\n",
        "# ----------------------------------------------\r\n",
        "fig, (axL, axR) = plt.subplots(ncols=2, figsize=(10,4))\r\n",
        "\r\n",
        "# loss\r\n",
        "def plot_history_loss(fit):\r\n",
        "    # Plot the loss in the history\r\n",
        "    axL.plot(fit.history['loss'],label=\"loss for training\")\r\n",
        "    axL.plot(fit.history['val_loss'],label=\"loss for validation\")\r\n",
        "    axL.set_title('model loss')\r\n",
        "    axL.set_xlabel('epoch')\r\n",
        "    axL.set_ylabel('loss')\r\n",
        "    axL.legend(loc='upper right')\r\n",
        "\r\n",
        "# acc\r\n",
        "def plot_history_acc(fit):\r\n",
        "    # Plot the loss in the history\r\n",
        "    axR.plot(fit.history['accuracy'],label=\"loss for training\")\r\n",
        "    axR.plot(fit.history['val_accuracy'],label=\"loss for validation\")\r\n",
        "    axR.set_title('model accuracy')\r\n",
        "    axR.set_xlabel('epoch')\r\n",
        "    axR.set_ylabel('accuracy')\r\n",
        "    axR.legend(loc='upper left')\r\n",
        "\r\n",
        "plot_history_loss(hist)\r\n",
        "plot_history_acc(hist)\r\n",
        "plt.show()\r\n",
        "fig.savefig('Image Recognition_Efn.png')\r\n",
        "plt.close()"
      ],
      "execution_count": 35,
      "outputs": [
        {
          "output_type": "display_data",
          "data": {
            "image/png": "[encoded data removed]",
            "text/plain": [
              "<Figure size 720x288 with 2 Axes>"
            ]
          },
          "metadata": {
            "tags": [],
            "needs_background": "light"
          }
        }
      ]
    },
    {
      "cell_type": "code",
      "metadata": {
        "id": "05CR0ZMaW8ar",
        "colab": {
          "base_uri": "https://localhost:8080/"
        },
        "outputId": "a7be056d-e0dd-477f-9f35-41d4d73a6738"
      },
      "source": [
        "score_Efn = model.evaluate(X_val_image, y_val_label, verbose=1)\r\n",
        "print(\"evaluate loss: {0[0]}\".format(score_Efn))\r\n",
        "print(\"evaluate acc: {0[1]}\".format(score_Efn))"
      ],
      "execution_count": 36,
      "outputs": [
        {
          "output_type": "stream",
          "text": [
            "313/313 [==============================] - 17s 53ms/step - loss: 0.5538 - accuracy: 0.8828\n",
            "evaluate loss: 0.5537781119346619\n",
            "evaluate acc: 0.8827999830245972\n"
          ],
          "name": "stdout"
        }
      ]
    },
    {
      "cell_type": "code",
      "metadata": {
        "id": "yCJ4661NXgD-",
        "colab": {
          "base_uri": "https://localhost:8080/"
        },
        "outputId": "9c4dac71-7124-4869-fd75-d5061d1186b2"
      },
      "source": [
        "predictions_val_Efn = model.predict(X_val_image)\r\n",
        "from sklearn.metrics import log_loss\r\n",
        "log_loss_Efn = log_loss(y_val_label,predictions_val_Efn)\r\n",
        "print(\"EfficinetNetB0_logloss:{0}\".format(log_loss_Efn))"
      ],
      "execution_count": 37,
      "outputs": [
        {
          "output_type": "stream",
          "text": [
            "EfficinetNetB0_logloss:0.5535896881108601\n"
          ],
          "name": "stdout"
        }
      ]
    },
    {
      "cell_type": "markdown",
      "metadata": {
        "id": "06m3CYa7P4xg"
      },
      "source": [
        "### （６）Test Time Augmentation with Validation Data"
      ]
    },
    {
      "cell_type": "code",
      "metadata": {
        "id": "VZUkTMqkP9is"
      },
      "source": [
        "def tta(model,test_size,generator,batch_size ,epochs = 10):\r\n",
        "    #test_time_augmentation\r\n",
        "    #batch_sizeは，test_sizeの約数でないといけない．\r\n",
        "    pred = np.zeros(shape = (test_size,20), dtype = float)\r\n",
        "    step_per_epoch = test_size //batch_size\r\n",
        "    for epoch in range(epochs):\r\n",
        "        for step in range(step_per_epoch):\r\n",
        "            sta = batch_size * step\r\n",
        "            end = sta + batch_size\r\n",
        "            tmp_x = generator.__next__()\r\n",
        "            pred[sta:end] += model.predict(tmp_x)\r\n",
        "    return pred / epochs\r\n",
        "\r\n",
        "def tta_generator(test):\r\n",
        "    return ImageDataGenerator(rotation_range = 0 , \r\n",
        "                              height_shift_range = 0.1,\r\n",
        "                              width_shift_range = 0.1,\r\n",
        "                              horizontal_flip = True,\r\n",
        "                              vertical_flip = False).flow(test,batch_size = batch_size,shuffle = False)\r\n"
      ],
      "execution_count": 61,
      "outputs": []
    },
    {
      "cell_type": "code",
      "metadata": {
        "colab": {
          "base_uri": "https://localhost:8080/"
        },
        "id": "j2u72ejPY41R",
        "outputId": "875cf159-ec5b-4cb9-de7a-5370dc7f129a"
      },
      "source": [
        "batch_size = 20\r\n",
        "tta_epochs = 20\r\n",
        "tta_pred_Efn = tta(model,X_val_image.shape[0],tta_generator(),batch_size,epochs = tta_epochs)\r\n",
        "\r\n",
        "TTA_log_loss_Efn = log_loss(y_val_label,tta_pred_Efn)\r\n",
        "\r\n",
        "print( accuracy_score( np.argmax(tta_pred_Efn,axis = 1) , np.argmax(y_val_label,axis = 1)))\r\n",
        "print( \"TTA_EfficinetNetB0_logloss:{0}\".format(TTA_log_loss_Efn))"
      ],
      "execution_count": 60,
      "outputs": [
        {
          "output_type": "stream",
          "text": [
            "0.8903\n",
            "TTA_EfficinetNetB0_logloss:0.4157108339825394\n"
          ],
          "name": "stdout"
        }
      ]
    },
    {
      "cell_type": "markdown",
      "metadata": {
        "id": "8Fbe0cf6ImCv"
      },
      "source": [
        "### （６）Predicting Image Classification"
      ]
    },
    {
      "cell_type": "code",
      "metadata": {
        "id": "cbD-otgKTMXL"
      },
      "source": [
        "batch_size = 20\r\n",
        "tta_epochs = 50\r\n",
        "tta_prediciton_Efn = tta(model,test.shape[0],tta_generator(test),batch_size ,epochs = tta_epochs)"
      ],
      "execution_count": 62,
      "outputs": []
    },
    {
      "cell_type": "code",
      "metadata": {
        "colab": {
          "base_uri": "https://localhost:8080/",
          "height": 298
        },
        "id": "A2LBJxF_Tdkw",
        "outputId": "ab0285ff-fb12-45e7-920c-23aae053d3a6"
      },
      "source": [
        "file_name = sample[0]\r\n",
        "df = pd.DataFrame(tta_prediciton_Efn)\r\n",
        "df_concat = pd.concat([file_name, df],axis=1)\r\n",
        "df_concat.head()"
      ],
      "execution_count": 65,
      "outputs": [
        {
          "output_type": "execute_result",
          "data": {
            "text/html": [
              "<div>\n",
              "<style scoped>\n",
              "    .dataframe tbody tr th:only-of-type {\n",
              "        vertical-align: middle;\n",
              "    }\n",
              "\n",
              "    .dataframe tbody tr th {\n",
              "        vertical-align: top;\n",
              "    }\n",
              "\n",
              "    .dataframe thead th {\n",
              "        text-align: right;\n",
              "    }\n",
              "</style>\n",
              "<table border=\"1\" class=\"dataframe\">\n",
              "  <thead>\n",
              "    <tr style=\"text-align: right;\">\n",
              "      <th></th>\n",
              "      <th>0</th>\n",
              "      <th>0</th>\n",
              "      <th>1</th>\n",
              "      <th>2</th>\n",
              "      <th>3</th>\n",
              "      <th>4</th>\n",
              "      <th>5</th>\n",
              "      <th>6</th>\n",
              "      <th>7</th>\n",
              "      <th>8</th>\n",
              "      <th>9</th>\n",
              "      <th>10</th>\n",
              "      <th>11</th>\n",
              "      <th>12</th>\n",
              "      <th>13</th>\n",
              "      <th>14</th>\n",
              "      <th>15</th>\n",
              "      <th>16</th>\n",
              "      <th>17</th>\n",
              "      <th>18</th>\n",
              "      <th>19</th>\n",
              "    </tr>\n",
              "  </thead>\n",
              "  <tbody>\n",
              "    <tr>\n",
              "      <th>0</th>\n",
              "      <td>test_00000.png</td>\n",
              "      <td>3.106754e-02</td>\n",
              "      <td>8.573319e-05</td>\n",
              "      <td>3.059332e-06</td>\n",
              "      <td>1.661134e-06</td>\n",
              "      <td>1.134488e-06</td>\n",
              "      <td>9.259645e-05</td>\n",
              "      <td>8.558634e-06</td>\n",
              "      <td>1.105594e-05</td>\n",
              "      <td>5.313822e-06</td>\n",
              "      <td>8.582431e-01</td>\n",
              "      <td>3.166147e-02</td>\n",
              "      <td>3.794439e-06</td>\n",
              "      <td>2.560286e-05</td>\n",
              "      <td>9.585843e-04</td>\n",
              "      <td>7.179079e-04</td>\n",
              "      <td>9.307319e-06</td>\n",
              "      <td>1.846363e-06</td>\n",
              "      <td>6.457639e-04</td>\n",
              "      <td>7.607601e-02</td>\n",
              "      <td>3.799699e-04</td>\n",
              "    </tr>\n",
              "    <tr>\n",
              "      <th>1</th>\n",
              "      <td>test_00001.png</td>\n",
              "      <td>1.178407e-08</td>\n",
              "      <td>4.435851e-07</td>\n",
              "      <td>6.088591e-10</td>\n",
              "      <td>1.957069e-06</td>\n",
              "      <td>1.231486e-08</td>\n",
              "      <td>8.061025e-08</td>\n",
              "      <td>9.868186e-07</td>\n",
              "      <td>3.426418e-08</td>\n",
              "      <td>9.276632e-08</td>\n",
              "      <td>5.362813e-05</td>\n",
              "      <td>9.976101e-01</td>\n",
              "      <td>3.563092e-05</td>\n",
              "      <td>1.274417e-08</td>\n",
              "      <td>3.453259e-07</td>\n",
              "      <td>2.191295e-05</td>\n",
              "      <td>2.055802e-08</td>\n",
              "      <td>3.678166e-06</td>\n",
              "      <td>2.269027e-03</td>\n",
              "      <td>1.441159e-07</td>\n",
              "      <td>1.878198e-06</td>\n",
              "    </tr>\n",
              "    <tr>\n",
              "      <th>2</th>\n",
              "      <td>test_00002.png</td>\n",
              "      <td>9.999824e-01</td>\n",
              "      <td>2.535454e-08</td>\n",
              "      <td>9.498488e-20</td>\n",
              "      <td>3.443055e-14</td>\n",
              "      <td>2.402684e-14</td>\n",
              "      <td>1.359678e-16</td>\n",
              "      <td>1.851833e-14</td>\n",
              "      <td>5.487354e-11</td>\n",
              "      <td>8.479371e-11</td>\n",
              "      <td>4.402303e-11</td>\n",
              "      <td>2.567120e-10</td>\n",
              "      <td>1.376621e-11</td>\n",
              "      <td>7.432290e-12</td>\n",
              "      <td>2.085514e-12</td>\n",
              "      <td>6.258706e-14</td>\n",
              "      <td>1.762933e-05</td>\n",
              "      <td>6.965027e-11</td>\n",
              "      <td>1.486478e-14</td>\n",
              "      <td>4.331441e-13</td>\n",
              "      <td>5.796984e-13</td>\n",
              "    </tr>\n",
              "    <tr>\n",
              "      <th>3</th>\n",
              "      <td>test_00003.png</td>\n",
              "      <td>1.206502e-10</td>\n",
              "      <td>1.002345e-07</td>\n",
              "      <td>1.026697e-09</td>\n",
              "      <td>2.106684e-11</td>\n",
              "      <td>9.999997e-01</td>\n",
              "      <td>1.793521e-08</td>\n",
              "      <td>2.199587e-07</td>\n",
              "      <td>3.496989e-11</td>\n",
              "      <td>1.096458e-11</td>\n",
              "      <td>7.238588e-11</td>\n",
              "      <td>5.054794e-10</td>\n",
              "      <td>4.006314e-10</td>\n",
              "      <td>3.638207e-10</td>\n",
              "      <td>2.065256e-09</td>\n",
              "      <td>4.365635e-11</td>\n",
              "      <td>2.719229e-09</td>\n",
              "      <td>3.144283e-11</td>\n",
              "      <td>7.733210e-12</td>\n",
              "      <td>2.894885e-13</td>\n",
              "      <td>1.201559e-12</td>\n",
              "    </tr>\n",
              "    <tr>\n",
              "      <th>4</th>\n",
              "      <td>test_00004.png</td>\n",
              "      <td>2.070523e-10</td>\n",
              "      <td>1.287736e-09</td>\n",
              "      <td>5.604270e-11</td>\n",
              "      <td>1.964451e-13</td>\n",
              "      <td>4.526959e-12</td>\n",
              "      <td>2.681752e-09</td>\n",
              "      <td>2.003820e-10</td>\n",
              "      <td>1.027435e-12</td>\n",
              "      <td>1.418828e-12</td>\n",
              "      <td>2.730019e-09</td>\n",
              "      <td>1.000000e+00</td>\n",
              "      <td>3.058515e-11</td>\n",
              "      <td>3.119004e-14</td>\n",
              "      <td>4.295305e-10</td>\n",
              "      <td>1.061499e-12</td>\n",
              "      <td>5.290790e-13</td>\n",
              "      <td>2.235977e-12</td>\n",
              "      <td>4.499799e-09</td>\n",
              "      <td>1.830619e-12</td>\n",
              "      <td>2.588462e-12</td>\n",
              "    </tr>\n",
              "  </tbody>\n",
              "</table>\n",
              "</div>"
            ],
            "text/plain": [
              "               0             0   ...            18            19\n",
              "0  test_00000.png  3.106754e-02  ...  7.607601e-02  3.799699e-04\n",
              "1  test_00001.png  1.178407e-08  ...  1.441159e-07  1.878198e-06\n",
              "2  test_00002.png  9.999824e-01  ...  4.331441e-13  5.796984e-13\n",
              "3  test_00003.png  1.206502e-10  ...  2.894885e-13  1.201559e-12\n",
              "4  test_00004.png  2.070523e-10  ...  1.830619e-12  2.588462e-12\n",
              "\n",
              "[5 rows x 21 columns]"
            ]
          },
          "metadata": {
            "tags": []
          },
          "execution_count": 65
        }
      ]
    },
    {
      "cell_type": "code",
      "metadata": {
        "id": "N817A0a1Tkck"
      },
      "source": [
        "df_concat.to_csv('/content/drive/MyDrive/AI Quest/Submit/submit_TTA_EffNet_dcr0.4_Logloss{0}.csv'.format(TTA_log_loss_Efn),index = False, header=None)"
      ],
      "execution_count": 66,
      "outputs": []
    }
  ]
}