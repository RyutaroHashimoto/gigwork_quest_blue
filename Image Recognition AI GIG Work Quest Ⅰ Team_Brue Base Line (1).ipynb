{
 "cells": [
  {
   "cell_type": "code",
   "execution_count": 17,
   "metadata": {},
   "outputs": [],
   "source": [
    "import numpy as np\n",
    "import pandas as pd\n",
    "from matplotlib import pyplot as plt\n",
    "import imageio\n",
    "from keras import utils\n",
    "from keras.models import Sequential\n",
    "from keras.layers import Dense, Flatten,Dropout, Activation\n",
    "from keras.layers.normalization import BatchNormalization\n",
    "from keras.layers.pooling import GlobalAveragePooling2D\n",
    "from keras.layers import Conv2D, MaxPooling2D\n",
    "from keras import optimizers\n",
    "\n",
    "from pathlib import Path\n",
    "# from fastai import *\n",
    "# from fastai.vision import *"
   ]
  },
  {
   "cell_type": "code",
   "execution_count": 2,
   "metadata": {},
   "outputs": [],
   "source": [
    "labels = pd.read_csv(\"./Downloads/train_master.tsv\", sep=\"\\t\") #教師ラベルの読み込み"
   ]
  },
  {
   "cell_type": "code",
   "execution_count": 3,
   "metadata": {},
   "outputs": [
    {
     "data": {
      "text/html": [
       "<div>\n",
       "<style scoped>\n",
       "    .dataframe tbody tr th:only-of-type {\n",
       "        vertical-align: middle;\n",
       "    }\n",
       "\n",
       "    .dataframe tbody tr th {\n",
       "        vertical-align: top;\n",
       "    }\n",
       "\n",
       "    .dataframe thead th {\n",
       "        text-align: right;\n",
       "    }\n",
       "</style>\n",
       "<table border=\"1\" class=\"dataframe\">\n",
       "  <thead>\n",
       "    <tr style=\"text-align: right;\">\n",
       "      <th></th>\n",
       "      <th>file_name</th>\n",
       "      <th>label_id</th>\n",
       "    </tr>\n",
       "  </thead>\n",
       "  <tbody>\n",
       "    <tr>\n",
       "      <th>0</th>\n",
       "      <td>train_00000.png</td>\n",
       "      <td>11</td>\n",
       "    </tr>\n",
       "    <tr>\n",
       "      <th>1</th>\n",
       "      <td>train_00001.png</td>\n",
       "      <td>15</td>\n",
       "    </tr>\n",
       "    <tr>\n",
       "      <th>2</th>\n",
       "      <td>train_00002.png</td>\n",
       "      <td>4</td>\n",
       "    </tr>\n",
       "    <tr>\n",
       "      <th>3</th>\n",
       "      <td>train_00003.png</td>\n",
       "      <td>14</td>\n",
       "    </tr>\n",
       "    <tr>\n",
       "      <th>4</th>\n",
       "      <td>train_00004.png</td>\n",
       "      <td>1</td>\n",
       "    </tr>\n",
       "  </tbody>\n",
       "</table>\n",
       "</div>"
      ],
      "text/plain": [
       "         file_name  label_id\n",
       "0  train_00000.png        11\n",
       "1  train_00001.png        15\n",
       "2  train_00002.png         4\n",
       "3  train_00003.png        14\n",
       "4  train_00004.png         1"
      ]
     },
     "execution_count": 3,
     "metadata": {},
     "output_type": "execute_result"
    }
   ],
   "source": [
    "labels.head()"
   ]
  },
  {
   "cell_type": "code",
   "execution_count": 4,
   "metadata": {},
   "outputs": [],
   "source": [
    "master = pd.read_csv(\"./Downloads/label_master.tsv\", sep=\"\\t\") #ラベルマスタの読み込み"
   ]
  },
  {
   "cell_type": "code",
   "execution_count": 5,
   "metadata": {},
   "outputs": [
    {
     "data": {
      "text/html": [
       "<div>\n",
       "<style scoped>\n",
       "    .dataframe tbody tr th:only-of-type {\n",
       "        vertical-align: middle;\n",
       "    }\n",
       "\n",
       "    .dataframe tbody tr th {\n",
       "        vertical-align: top;\n",
       "    }\n",
       "\n",
       "    .dataframe thead th {\n",
       "        text-align: right;\n",
       "    }\n",
       "</style>\n",
       "<table border=\"1\" class=\"dataframe\">\n",
       "  <thead>\n",
       "    <tr style=\"text-align: right;\">\n",
       "      <th></th>\n",
       "      <th>label_id</th>\n",
       "      <th>label_name</th>\n",
       "    </tr>\n",
       "  </thead>\n",
       "  <tbody>\n",
       "    <tr>\n",
       "      <th>0</th>\n",
       "      <td>0</td>\n",
       "      <td>aquatic_mammals</td>\n",
       "    </tr>\n",
       "    <tr>\n",
       "      <th>1</th>\n",
       "      <td>1</td>\n",
       "      <td>fish</td>\n",
       "    </tr>\n",
       "    <tr>\n",
       "      <th>2</th>\n",
       "      <td>2</td>\n",
       "      <td>flowers</td>\n",
       "    </tr>\n",
       "    <tr>\n",
       "      <th>3</th>\n",
       "      <td>3</td>\n",
       "      <td>food_containers</td>\n",
       "    </tr>\n",
       "    <tr>\n",
       "      <th>4</th>\n",
       "      <td>4</td>\n",
       "      <td>fruit_and_vegetables</td>\n",
       "    </tr>\n",
       "  </tbody>\n",
       "</table>\n",
       "</div>"
      ],
      "text/plain": [
       "   label_id            label_name\n",
       "0         0       aquatic_mammals\n",
       "1         1                  fish\n",
       "2         2               flowers\n",
       "3         3       food_containers\n",
       "4         4  fruit_and_vegetables"
      ]
     },
     "execution_count": 5,
     "metadata": {},
     "output_type": "execute_result"
    }
   ],
   "source": [
    "master.head()"
   ]
  },
  {
   "cell_type": "code",
   "execution_count": 6,
   "metadata": {},
   "outputs": [],
   "source": [
    "sample = pd.read_csv(\"./Downloads/sample_submit.csv\", header=None, sep=\",\")"
   ]
  },
  {
   "cell_type": "code",
   "execution_count": 7,
   "metadata": {},
   "outputs": [
    {
     "data": {
      "text/html": [
       "<div>\n",
       "<style scoped>\n",
       "    .dataframe tbody tr th:only-of-type {\n",
       "        vertical-align: middle;\n",
       "    }\n",
       "\n",
       "    .dataframe tbody tr th {\n",
       "        vertical-align: top;\n",
       "    }\n",
       "\n",
       "    .dataframe thead th {\n",
       "        text-align: right;\n",
       "    }\n",
       "</style>\n",
       "<table border=\"1\" class=\"dataframe\">\n",
       "  <thead>\n",
       "    <tr style=\"text-align: right;\">\n",
       "      <th></th>\n",
       "      <th>0</th>\n",
       "      <th>1</th>\n",
       "      <th>2</th>\n",
       "      <th>3</th>\n",
       "      <th>4</th>\n",
       "      <th>5</th>\n",
       "      <th>6</th>\n",
       "      <th>7</th>\n",
       "      <th>8</th>\n",
       "      <th>9</th>\n",
       "      <th>...</th>\n",
       "      <th>11</th>\n",
       "      <th>12</th>\n",
       "      <th>13</th>\n",
       "      <th>14</th>\n",
       "      <th>15</th>\n",
       "      <th>16</th>\n",
       "      <th>17</th>\n",
       "      <th>18</th>\n",
       "      <th>19</th>\n",
       "      <th>20</th>\n",
       "    </tr>\n",
       "  </thead>\n",
       "  <tbody>\n",
       "    <tr>\n",
       "      <th>0</th>\n",
       "      <td>test_00000.png</td>\n",
       "      <td>0.036151</td>\n",
       "      <td>0.014607</td>\n",
       "      <td>0.034591</td>\n",
       "      <td>0.079934</td>\n",
       "      <td>0.053778</td>\n",
       "      <td>0.011690</td>\n",
       "      <td>0.039329</td>\n",
       "      <td>0.079885</td>\n",
       "      <td>0.047027</td>\n",
       "      <td>...</td>\n",
       "      <td>0.062593</td>\n",
       "      <td>0.037947</td>\n",
       "      <td>0.080989</td>\n",
       "      <td>0.066377</td>\n",
       "      <td>0.020849</td>\n",
       "      <td>0.057315</td>\n",
       "      <td>0.056351</td>\n",
       "      <td>0.033405</td>\n",
       "      <td>0.078505</td>\n",
       "      <td>0.053430</td>\n",
       "    </tr>\n",
       "    <tr>\n",
       "      <th>1</th>\n",
       "      <td>test_00001.png</td>\n",
       "      <td>0.033393</td>\n",
       "      <td>0.037818</td>\n",
       "      <td>0.021027</td>\n",
       "      <td>0.043661</td>\n",
       "      <td>0.082885</td>\n",
       "      <td>0.041105</td>\n",
       "      <td>0.069309</td>\n",
       "      <td>0.059735</td>\n",
       "      <td>0.023879</td>\n",
       "      <td>...</td>\n",
       "      <td>0.077569</td>\n",
       "      <td>0.053666</td>\n",
       "      <td>0.044468</td>\n",
       "      <td>0.040490</td>\n",
       "      <td>0.090077</td>\n",
       "      <td>0.050215</td>\n",
       "      <td>0.052718</td>\n",
       "      <td>0.067940</td>\n",
       "      <td>0.030642</td>\n",
       "      <td>0.078394</td>\n",
       "    </tr>\n",
       "    <tr>\n",
       "      <th>2</th>\n",
       "      <td>test_00002.png</td>\n",
       "      <td>0.098902</td>\n",
       "      <td>0.047091</td>\n",
       "      <td>0.022525</td>\n",
       "      <td>0.059422</td>\n",
       "      <td>0.038273</td>\n",
       "      <td>0.011877</td>\n",
       "      <td>0.086344</td>\n",
       "      <td>0.054882</td>\n",
       "      <td>0.046612</td>\n",
       "      <td>...</td>\n",
       "      <td>0.028493</td>\n",
       "      <td>0.027183</td>\n",
       "      <td>0.092749</td>\n",
       "      <td>0.076549</td>\n",
       "      <td>0.026914</td>\n",
       "      <td>0.099406</td>\n",
       "      <td>0.032409</td>\n",
       "      <td>0.038710</td>\n",
       "      <td>0.000611</td>\n",
       "      <td>0.060666</td>\n",
       "    </tr>\n",
       "    <tr>\n",
       "      <th>3</th>\n",
       "      <td>test_00003.png</td>\n",
       "      <td>0.054705</td>\n",
       "      <td>0.080344</td>\n",
       "      <td>0.047048</td>\n",
       "      <td>0.083701</td>\n",
       "      <td>0.043293</td>\n",
       "      <td>0.068830</td>\n",
       "      <td>0.026523</td>\n",
       "      <td>0.076391</td>\n",
       "      <td>0.008649</td>\n",
       "      <td>...</td>\n",
       "      <td>0.020802</td>\n",
       "      <td>0.054486</td>\n",
       "      <td>0.065079</td>\n",
       "      <td>0.060174</td>\n",
       "      <td>0.045692</td>\n",
       "      <td>0.052243</td>\n",
       "      <td>0.006735</td>\n",
       "      <td>0.036344</td>\n",
       "      <td>0.070731</td>\n",
       "      <td>0.026432</td>\n",
       "    </tr>\n",
       "    <tr>\n",
       "      <th>4</th>\n",
       "      <td>test_00004.png</td>\n",
       "      <td>0.087472</td>\n",
       "      <td>0.045188</td>\n",
       "      <td>0.091187</td>\n",
       "      <td>0.003265</td>\n",
       "      <td>0.110322</td>\n",
       "      <td>0.102048</td>\n",
       "      <td>0.048273</td>\n",
       "      <td>0.080005</td>\n",
       "      <td>0.050142</td>\n",
       "      <td>...</td>\n",
       "      <td>0.096636</td>\n",
       "      <td>0.038774</td>\n",
       "      <td>0.050342</td>\n",
       "      <td>0.044085</td>\n",
       "      <td>0.057429</td>\n",
       "      <td>0.023512</td>\n",
       "      <td>0.018324</td>\n",
       "      <td>0.002596</td>\n",
       "      <td>0.030469</td>\n",
       "      <td>0.001106</td>\n",
       "    </tr>\n",
       "  </tbody>\n",
       "</table>\n",
       "<p>5 rows × 21 columns</p>\n",
       "</div>"
      ],
      "text/plain": [
       "               0         1         2         3         4         5         6   \\\n",
       "0  test_00000.png  0.036151  0.014607  0.034591  0.079934  0.053778  0.011690   \n",
       "1  test_00001.png  0.033393  0.037818  0.021027  0.043661  0.082885  0.041105   \n",
       "2  test_00002.png  0.098902  0.047091  0.022525  0.059422  0.038273  0.011877   \n",
       "3  test_00003.png  0.054705  0.080344  0.047048  0.083701  0.043293  0.068830   \n",
       "4  test_00004.png  0.087472  0.045188  0.091187  0.003265  0.110322  0.102048   \n",
       "\n",
       "         7         8         9   ...        11        12        13        14  \\\n",
       "0  0.039329  0.079885  0.047027  ...  0.062593  0.037947  0.080989  0.066377   \n",
       "1  0.069309  0.059735  0.023879  ...  0.077569  0.053666  0.044468  0.040490   \n",
       "2  0.086344  0.054882  0.046612  ...  0.028493  0.027183  0.092749  0.076549   \n",
       "3  0.026523  0.076391  0.008649  ...  0.020802  0.054486  0.065079  0.060174   \n",
       "4  0.048273  0.080005  0.050142  ...  0.096636  0.038774  0.050342  0.044085   \n",
       "\n",
       "         15        16        17        18        19        20  \n",
       "0  0.020849  0.057315  0.056351  0.033405  0.078505  0.053430  \n",
       "1  0.090077  0.050215  0.052718  0.067940  0.030642  0.078394  \n",
       "2  0.026914  0.099406  0.032409  0.038710  0.000611  0.060666  \n",
       "3  0.045692  0.052243  0.006735  0.036344  0.070731  0.026432  \n",
       "4  0.057429  0.023512  0.018324  0.002596  0.030469  0.001106  \n",
       "\n",
       "[5 rows x 21 columns]"
      ]
     },
     "execution_count": 7,
     "metadata": {},
     "output_type": "execute_result"
    }
   ],
   "source": [
    "sample.head()\n"
   ]
  },
  {
   "cell_type": "code",
   "execution_count": 8,
   "metadata": {},
   "outputs": [
    {
     "name": "stdout",
     "output_type": "stream",
     "text": [
      "<class 'numpy.ndarray'> (50000, 32, 32, 3)\n"
     ]
    }
   ],
   "source": [
    "train_images = []\n",
    "for fname in labels[\"file_name\"]:\n",
    "    path = \"./Downloads/train_gig/\" + fname\n",
    "    img = imageio.imread(path)\n",
    "    train_images.append(img)\n",
    "train_images = np.array(train_images)\n",
    "print(type(train_images), train_images.shape)"
   ]
  },
  {
   "cell_type": "code",
   "execution_count": 9,
   "metadata": {},
   "outputs": [
    {
     "name": "stdout",
     "output_type": "stream",
     "text": [
      "<class 'numpy.ndarray'> (10000, 32, 32, 3)\n"
     ]
    }
   ],
   "source": [
    "test_images = []\n",
    "for fname in sample[0]:\n",
    "    path = \"./Downloads/test_gig/\" + fname\n",
    "    img = imageio.imread(path)\n",
    "    test_images.append(img)\n",
    "test_images = np.array(test_images )\n",
    "print(type(test_images ), test_images.shape)"
   ]
  },
  {
   "cell_type": "code",
   "execution_count": 10,
   "metadata": {},
   "outputs": [],
   "source": [
    "train_images = train_images / 255\n",
    "test_images = test_images / 255"
   ]
  },
  {
   "cell_type": "code",
   "execution_count": 11,
   "metadata": {},
   "outputs": [
    {
     "data": {
      "text/plain": [
       "array([[0., 0., 0., 0., 0., 0., 0., 0., 0., 0., 0., 1., 0., 0., 0., 0.,\n",
       "        0., 0., 0., 0.],\n",
       "       [0., 0., 0., 0., 0., 0., 0., 0., 0., 0., 0., 0., 0., 0., 0., 1.,\n",
       "        0., 0., 0., 0.],\n",
       "       [0., 0., 0., 0., 1., 0., 0., 0., 0., 0., 0., 0., 0., 0., 0., 0.,\n",
       "        0., 0., 0., 0.],\n",
       "       [0., 0., 0., 0., 0., 0., 0., 0., 0., 0., 0., 0., 0., 0., 1., 0.,\n",
       "        0., 0., 0., 0.],\n",
       "       [0., 1., 0., 0., 0., 0., 0., 0., 0., 0., 0., 0., 0., 0., 0., 0.,\n",
       "        0., 0., 0., 0.],\n",
       "       [0., 0., 0., 0., 0., 1., 0., 0., 0., 0., 0., 0., 0., 0., 0., 0.,\n",
       "        0., 0., 0., 0.],\n",
       "       [0., 0., 0., 0., 0., 0., 0., 0., 0., 0., 0., 0., 0., 0., 0., 0.,\n",
       "        0., 0., 1., 0.],\n",
       "       [0., 0., 0., 1., 0., 0., 0., 0., 0., 0., 0., 0., 0., 0., 0., 0.,\n",
       "        0., 0., 0., 0.],\n",
       "       [0., 0., 0., 0., 0., 0., 0., 0., 0., 0., 1., 0., 0., 0., 0., 0.,\n",
       "        0., 0., 0., 0.],\n",
       "       [0., 0., 0., 0., 0., 0., 0., 0., 0., 0., 0., 1., 0., 0., 0., 0.,\n",
       "        0., 0., 0., 0.]], dtype=float32)"
      ]
     },
     "execution_count": 11,
     "metadata": {},
     "output_type": "execute_result"
    }
   ],
   "source": [
    "y = labels[\"label_id\"]\n",
    "\n",
    "y_categorical = utils.to_categorical(y)\n",
    "y_categorical[0:10,]"
   ]
  },
  {
   "cell_type": "code",
   "execution_count": 12,
   "metadata": {},
   "outputs": [],
   "source": [
    "X_train_image, X_val_image = np.split(train_images, [40000])\n",
    "y_train_label, y_val_label = np.split(y_categorical, [40000])"
   ]
  },
  {
   "cell_type": "code",
   "execution_count": 22,
   "metadata": {},
   "outputs": [],
   "source": [
    "batch_size=32\n",
    "epochs=5"
   ]
  },
  {
   "cell_type": "code",
   "execution_count": 23,
   "metadata": {},
   "outputs": [
    {
     "name": "stdout",
     "output_type": "stream",
     "text": [
      "Epoch 1/5\n",
      "1250/1250 [==============================] - 728s 583ms/step - loss: 2.6144 - accuracy: 0.2100 - val_loss: 2.4704 - val_accuracy: 0.2385\n",
      "Epoch 2/5\n",
      "1250/1250 [==============================] - 793s 634ms/step - loss: 2.3508 - accuracy: 0.2758 - val_loss: 2.3350 - val_accuracy: 0.2783\n",
      "Epoch 3/5\n",
      "1250/1250 [==============================] - 814s 651ms/step - loss: 2.2300 - accuracy: 0.3148 - val_loss: 2.2219 - val_accuracy: 0.3118\n",
      "Epoch 4/5\n",
      "1250/1250 [==============================] - 805s 644ms/step - loss: 2.1406 - accuracy: 0.3385 - val_loss: 2.1881 - val_accuracy: 0.3283\n",
      "Epoch 5/5\n",
      "1250/1250 [==============================] - 755s 604ms/step - loss: 2.0729 - accuracy: 0.3581 - val_loss: 2.1060 - val_accuracy: 0.3422\n"
     ]
    },
    {
     "data": {
      "text/plain": [
       "<tensorflow.python.keras.callbacks.History at 0x28681255358>"
      ]
     },
     "execution_count": 23,
     "metadata": {},
     "output_type": "execute_result"
    }
   ],
   "source": [
    "model = Sequential()\n",
    "\n",
    "model.add(Conv2D(filters=64, kernel_size=(3,3), padding=\"same\", input_shape=(32,32,3)))\n",
    "model.add(Activation(\"relu\"))\n",
    "model.add(BatchNormalization())\n",
    "model.add(Dropout(0.25))\n",
    "\n",
    "model.add(Conv2D(filters=64, kernel_size=(3,3), padding=\"same\"))\n",
    "model.add(Activation(\"relu\"))\n",
    "model.add(BatchNormalization())\n",
    "model.add(Dropout(0.25))\n",
    "\n",
    "model.add(Conv2D(filters=64, kernel_size=(3,3), padding=\"same\"))\n",
    "model.add(Activation(\"relu\"))\n",
    "model.add(BatchNormalization())\n",
    "model.add(Dropout(0.25))\n",
    "\n",
    "model.add(Conv2D(filters=64, kernel_size=(3,3), padding=\"same\"))\n",
    "model.add(Activation(\"relu\"))\n",
    "model.add(BatchNormalization())\n",
    "model.add(Dropout(0.25))\n",
    "\n",
    "model.add(Conv2D(filters=64, kernel_size=(3,3), padding=\"same\"))\n",
    "model.add(Activation(\"relu\"))\n",
    "model.add(BatchNormalization())\n",
    "model.add(Dropout(0.25))\n",
    "\n",
    "model.add(MaxPooling2D(pool_size=(2, 2)))\n",
    "model.add(GlobalAveragePooling2D())\n",
    "\n",
    "model.add(Dense(units=20))\n",
    "model.add(Activation(\"softmax\"))\n",
    "\n",
    "model.compile(loss=\"categorical_crossentropy\",\n",
    "             optimizer=tf.keras.optimizers.RMSprop(lr=0.0001, decay=1e-6),\n",
    "              metrics=[\"accuracy\"])\n",
    "\n",
    "model.fit(X_train_image, y_train_label,\n",
    "          batch_size=batch_size,\n",
    "          epochs=epochs,\n",
    "          verbose=1,\n",
    "          validation_data=(X_val_image, y_val_label))"
   ]
  },
  {
   "cell_type": "code",
   "execution_count": 23,
   "metadata": {},
   "outputs": [
    {
     "name": "stdout",
     "output_type": "stream",
     "text": [
      "[5.215665817260742, 0.04560000076889992]\n"
     ]
    }
   ],
   "source": [
    "print(model.evaluate(X_val_image, y_val_label, verbose=0))"
   ]
  },
  {
   "cell_type": "code",
   "execution_count": 24,
   "metadata": {},
   "outputs": [
    {
     "name": "stdout",
     "output_type": "stream",
     "text": [
      "(10000, 32, 32, 3)\n",
      "<class 'numpy.ndarray'>\n",
      "(10000, 20)\n"
     ]
    }
   ],
   "source": [
    "print(test_images.shape)\n",
    "\n",
    "predictions = model.predict(test_images)\n",
    "\n",
    "print(type(predictions))\n",
    "\n",
    "print(predictions.shape)\n"
   ]
  },
  {
   "cell_type": "code",
   "execution_count": 25,
   "metadata": {},
   "outputs": [
    {
     "name": "stdout",
     "output_type": "stream",
     "text": [
      "[0.02702333 0.00698016 0.00261377 0.00832208 0.00132367 0.01160004\n",
      " 0.00808218 0.00596583 0.005077   0.32504183 0.4142036  0.02583359\n",
      " 0.00340256 0.00570288 0.0030983  0.00517105 0.00607683 0.01733541\n",
      " 0.03146173 0.08568422]\n"
     ]
    }
   ],
   "source": [
    "print(predictions[0])"
   ]
  },
  {
   "cell_type": "code",
   "execution_count": 26,
   "metadata": {},
   "outputs": [],
   "source": [
    "file_name = sample[0]\n",
    "df = pd.DataFrame(predictions)"
   ]
  },
  {
   "cell_type": "code",
   "execution_count": 27,
   "metadata": {},
   "outputs": [],
   "source": [
    "df_concat = pd.concat([file_name, df],axis=1)"
   ]
  },
  {
   "cell_type": "code",
   "execution_count": 28,
   "metadata": {},
   "outputs": [
    {
     "data": {
      "text/html": [
       "<div>\n",
       "<style scoped>\n",
       "    .dataframe tbody tr th:only-of-type {\n",
       "        vertical-align: middle;\n",
       "    }\n",
       "\n",
       "    .dataframe tbody tr th {\n",
       "        vertical-align: top;\n",
       "    }\n",
       "\n",
       "    .dataframe thead th {\n",
       "        text-align: right;\n",
       "    }\n",
       "</style>\n",
       "<table border=\"1\" class=\"dataframe\">\n",
       "  <thead>\n",
       "    <tr style=\"text-align: right;\">\n",
       "      <th></th>\n",
       "      <th>0</th>\n",
       "      <th>0</th>\n",
       "      <th>1</th>\n",
       "      <th>2</th>\n",
       "      <th>3</th>\n",
       "      <th>4</th>\n",
       "      <th>5</th>\n",
       "      <th>6</th>\n",
       "      <th>7</th>\n",
       "      <th>8</th>\n",
       "      <th>...</th>\n",
       "      <th>10</th>\n",
       "      <th>11</th>\n",
       "      <th>12</th>\n",
       "      <th>13</th>\n",
       "      <th>14</th>\n",
       "      <th>15</th>\n",
       "      <th>16</th>\n",
       "      <th>17</th>\n",
       "      <th>18</th>\n",
       "      <th>19</th>\n",
       "    </tr>\n",
       "  </thead>\n",
       "  <tbody>\n",
       "    <tr>\n",
       "      <th>0</th>\n",
       "      <td>test_00000.png</td>\n",
       "      <td>0.027023</td>\n",
       "      <td>0.006980</td>\n",
       "      <td>0.002614</td>\n",
       "      <td>0.008322</td>\n",
       "      <td>0.001324</td>\n",
       "      <td>0.011600</td>\n",
       "      <td>0.008082</td>\n",
       "      <td>0.005966</td>\n",
       "      <td>0.005077</td>\n",
       "      <td>...</td>\n",
       "      <td>0.414204</td>\n",
       "      <td>0.025834</td>\n",
       "      <td>0.003403</td>\n",
       "      <td>0.005703</td>\n",
       "      <td>0.003098</td>\n",
       "      <td>0.005171</td>\n",
       "      <td>0.006077</td>\n",
       "      <td>0.017335</td>\n",
       "      <td>0.031462</td>\n",
       "      <td>0.085684</td>\n",
       "    </tr>\n",
       "    <tr>\n",
       "      <th>1</th>\n",
       "      <td>test_00001.png</td>\n",
       "      <td>0.028833</td>\n",
       "      <td>0.021605</td>\n",
       "      <td>0.003511</td>\n",
       "      <td>0.008796</td>\n",
       "      <td>0.006071</td>\n",
       "      <td>0.003886</td>\n",
       "      <td>0.004899</td>\n",
       "      <td>0.018805</td>\n",
       "      <td>0.111331</td>\n",
       "      <td>...</td>\n",
       "      <td>0.047120</td>\n",
       "      <td>0.233613</td>\n",
       "      <td>0.192435</td>\n",
       "      <td>0.017171</td>\n",
       "      <td>0.007342</td>\n",
       "      <td>0.026206</td>\n",
       "      <td>0.171557</td>\n",
       "      <td>0.029992</td>\n",
       "      <td>0.009313</td>\n",
       "      <td>0.017581</td>\n",
       "    </tr>\n",
       "    <tr>\n",
       "      <th>2</th>\n",
       "      <td>test_00002.png</td>\n",
       "      <td>0.161220</td>\n",
       "      <td>0.063602</td>\n",
       "      <td>0.012241</td>\n",
       "      <td>0.010989</td>\n",
       "      <td>0.012859</td>\n",
       "      <td>0.015453</td>\n",
       "      <td>0.011368</td>\n",
       "      <td>0.016165</td>\n",
       "      <td>0.041393</td>\n",
       "      <td>...</td>\n",
       "      <td>0.101705</td>\n",
       "      <td>0.043769</td>\n",
       "      <td>0.026851</td>\n",
       "      <td>0.055822</td>\n",
       "      <td>0.024141</td>\n",
       "      <td>0.087196</td>\n",
       "      <td>0.026389</td>\n",
       "      <td>0.044214</td>\n",
       "      <td>0.067225</td>\n",
       "      <td>0.098288</td>\n",
       "    </tr>\n",
       "    <tr>\n",
       "      <th>3</th>\n",
       "      <td>test_00003.png</td>\n",
       "      <td>0.050730</td>\n",
       "      <td>0.012371</td>\n",
       "      <td>0.005530</td>\n",
       "      <td>0.045989</td>\n",
       "      <td>0.007782</td>\n",
       "      <td>0.056159</td>\n",
       "      <td>0.075919</td>\n",
       "      <td>0.016157</td>\n",
       "      <td>0.133007</td>\n",
       "      <td>...</td>\n",
       "      <td>0.015800</td>\n",
       "      <td>0.060570</td>\n",
       "      <td>0.076620</td>\n",
       "      <td>0.011814</td>\n",
       "      <td>0.059823</td>\n",
       "      <td>0.019305</td>\n",
       "      <td>0.038200</td>\n",
       "      <td>0.047056</td>\n",
       "      <td>0.153599</td>\n",
       "      <td>0.071543</td>\n",
       "    </tr>\n",
       "    <tr>\n",
       "      <th>4</th>\n",
       "      <td>test_00004.png</td>\n",
       "      <td>0.013687</td>\n",
       "      <td>0.062775</td>\n",
       "      <td>0.059148</td>\n",
       "      <td>0.008723</td>\n",
       "      <td>0.044880</td>\n",
       "      <td>0.007301</td>\n",
       "      <td>0.020187</td>\n",
       "      <td>0.009472</td>\n",
       "      <td>0.003982</td>\n",
       "      <td>...</td>\n",
       "      <td>0.552439</td>\n",
       "      <td>0.018991</td>\n",
       "      <td>0.002831</td>\n",
       "      <td>0.029704</td>\n",
       "      <td>0.006270</td>\n",
       "      <td>0.009764</td>\n",
       "      <td>0.014603</td>\n",
       "      <td>0.031015</td>\n",
       "      <td>0.006705</td>\n",
       "      <td>0.030686</td>\n",
       "    </tr>\n",
       "  </tbody>\n",
       "</table>\n",
       "<p>5 rows × 21 columns</p>\n",
       "</div>"
      ],
      "text/plain": [
       "               0         0         1         2         3         4         5   \\\n",
       "0  test_00000.png  0.027023  0.006980  0.002614  0.008322  0.001324  0.011600   \n",
       "1  test_00001.png  0.028833  0.021605  0.003511  0.008796  0.006071  0.003886   \n",
       "2  test_00002.png  0.161220  0.063602  0.012241  0.010989  0.012859  0.015453   \n",
       "3  test_00003.png  0.050730  0.012371  0.005530  0.045989  0.007782  0.056159   \n",
       "4  test_00004.png  0.013687  0.062775  0.059148  0.008723  0.044880  0.007301   \n",
       "\n",
       "         6         7         8   ...        10        11        12        13  \\\n",
       "0  0.008082  0.005966  0.005077  ...  0.414204  0.025834  0.003403  0.005703   \n",
       "1  0.004899  0.018805  0.111331  ...  0.047120  0.233613  0.192435  0.017171   \n",
       "2  0.011368  0.016165  0.041393  ...  0.101705  0.043769  0.026851  0.055822   \n",
       "3  0.075919  0.016157  0.133007  ...  0.015800  0.060570  0.076620  0.011814   \n",
       "4  0.020187  0.009472  0.003982  ...  0.552439  0.018991  0.002831  0.029704   \n",
       "\n",
       "         14        15        16        17        18        19  \n",
       "0  0.003098  0.005171  0.006077  0.017335  0.031462  0.085684  \n",
       "1  0.007342  0.026206  0.171557  0.029992  0.009313  0.017581  \n",
       "2  0.024141  0.087196  0.026389  0.044214  0.067225  0.098288  \n",
       "3  0.059823  0.019305  0.038200  0.047056  0.153599  0.071543  \n",
       "4  0.006270  0.009764  0.014603  0.031015  0.006705  0.030686  \n",
       "\n",
       "[5 rows x 21 columns]"
      ]
     },
     "execution_count": 28,
     "metadata": {},
     "output_type": "execute_result"
    }
   ],
   "source": [
    "df_concat.head()"
   ]
  },
  {
   "cell_type": "code",
   "execution_count": 29,
   "metadata": {},
   "outputs": [],
   "source": [
    "df_concat.to_csv('./Downloads/sample_submit_001.csv',index = False, header=None)"
   ]
  },
  {
   "cell_type": "code",
   "execution_count": null,
   "metadata": {},
   "outputs": [],
   "source": []
  }
 ],
 "metadata": {
  "kernelspec": {
   "display_name": "Python 3",
   "language": "python",
   "name": "python3"
  },
  "language_info": {
   "codemirror_mode": {
    "name": "ipython",
    "version": 3
   },
   "file_extension": ".py",
   "mimetype": "text/x-python",
   "name": "python",
   "nbconvert_exporter": "python",
   "pygments_lexer": "ipython3",
   "version": "3.6.10"
  }
 },
 "nbformat": 4,
 "nbformat_minor": 4
}
