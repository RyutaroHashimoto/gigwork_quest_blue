{
 "cells": [
  {
   "cell_type": "code",
   "execution_count": null,
   "metadata": {},
   "outputs": [],
   "source": [
    "# validation のラベルを100から20に戻す\n",
    "def cifar100to20(y_val_label):\n",
    "    y_val_label_20 = np.where(((y_val_label == 4) | (y_val_label == 30) | (y_val_label == 55) | (y_val_label == 72) | (y_val_label == 95)), 0, y_val_label)\n",
    "    y_val_label_20 = np.where(((y_val_label == 1) | (y_val_label == 32) | (y_val_label == 67) | (y_val_label == 73) | (y_val_label == 91)), 1, y_val_label_20)\n",
    "    y_val_label_20 = np.where(((y_val_label == 54) | (y_val_label == 62) | (y_val_label == 70) | (y_val_label == 82) | (y_val_label == 92)), 2, y_val_label_20)\n",
    "    y_val_label_20 = np.where(((y_val_label == 9) | (y_val_label == 10) | (y_val_label == 16) | (y_val_label == 28) | (y_val_label == 61)), 3, y_val_label_20)\n",
    "    y_val_label_20 = np.where(((y_val_label == 0) | (y_val_label == 51) | (y_val_label == 53) | (y_val_label == 57) | (y_val_label == 83)), 4, y_val_label_20)\n",
    "    y_val_label_20 = np.where(((y_val_label == 22) | (y_val_label == 39) | (y_val_label == 40) | (y_val_label == 86) | (y_val_label == 87)), 5, y_val_label_20)\n",
    "    y_val_label_20 = np.where(((y_val_label == 5) | (y_val_label == 20) | (y_val_label == 25) | (y_val_label == 84) | (y_val_label == 94)), 6, y_val_label_20)\n",
    "    y_val_label_20 = np.where(((y_val_label == 6) | (y_val_label == 7) | (y_val_label == 14) | (y_val_label == 18) | (y_val_label == 24)), 7, y_val_label_20)\n",
    "    y_val_label_20 = np.where(((y_val_label == 3) | (y_val_label == 42) | (y_val_label == 43) | (y_val_label == 88) | (y_val_label == 97)), 8, y_val_label_20)\n",
    "    y_val_label_20 = np.where(((y_val_label == 12) | (y_val_label == 17) | (y_val_label == 37) | (y_val_label == 68) | (y_val_label == 76)), 9, y_val_label_20)\n",
    "    y_val_label_20 = np.where(((y_val_label == 23) | (y_val_label == 33) | (y_val_label == 49) | (y_val_label == 60) | (y_val_label == 71)), 10, y_val_label_20)\n",
    "    y_val_label_20 = np.where(((y_val_label == 15) | (y_val_label == 19) | (y_val_label == 21) | (y_val_label == 31) | (y_val_label == 38)), 11, y_val_label_20)\n",
    "    y_val_label_20 = np.where(((y_val_label == 34) | (y_val_label == 63) | (y_val_label == 64) | (y_val_label == 66) | (y_val_label == 75)), 12, y_val_label_20)\n",
    "    y_val_label_20 = np.where(((y_val_label == 26) | (y_val_label == 45) | (y_val_label == 77) | (y_val_label == 79) | (y_val_label == 99)), 13, y_val_label_20)\n",
    "    y_val_label_20 = np.where(((y_val_label == 2) | (y_val_label == 11) | (y_val_label == 35) | (y_val_label == 46) | (y_val_label == 98)), 14, y_val_label_20)\n",
    "    y_val_label_20 = np.where(((y_val_label == 27) | (y_val_label == 29) | (y_val_label == 44) | (y_val_label == 78) | (y_val_label == 93)), 15, y_val_label_20)\n",
    "    y_val_label_20 = np.where(((y_val_label == 36) | (y_val_label == 50) | (y_val_label == 65) | (y_val_label == 74) | (y_val_label == 80)), 16, y_val_label_20)\n",
    "    y_val_label_20 = np.where(((y_val_label == 47) | (y_val_label == 52) | (y_val_label == 56) | (y_val_label == 59) | (y_val_label == 96)), 17, y_val_label_20)\n",
    "    y_val_label_20 = np.where(((y_val_label == 8) | (y_val_label == 13) | (y_val_label == 48) | (y_val_label == 58) | (y_val_label == 90)), 18, y_val_label_20)\n",
    "    y_val_label_20 = np.where(((y_val_label == 41) | (y_val_label == 69) | (y_val_label == 81) | (y_val_label == 85) | (y_val_label == 89)), 19, y_val_label_20)\n",
    "    \n",
    "    return y_val_label_20\n",
    "\n",
    "y_val_label_20 = cifar100to20(y_val_label)"
   ]
  },
  {
   "cell_type": "code",
   "execution_count": null,
   "metadata": {},
   "outputs": [],
   "source": [
    "from sklearn.metrics import log_loss\n",
    "def cifar20_val_eval(model, valid_image, label):\n",
    "    val_predictions = model.predict(X_val_image/255)\n",
    "    df = pd.DataFrame(val_predictions)\n",
    "    df_val_20 = pd.DataFrame()\n",
    "\n",
    "    # cifar100 から cifar20に戻す\n",
    "    df_val_20[0] = df[4] + df[30] + df[55] + df[72] + df[95]\n",
    "    df_val_20[1] = df[1] + df[32] + df[67] + df[73] + df[91]\n",
    "    df_val_20[2] = df[54] + df[62] + df[70] + df[82] + df[92]\n",
    "    df_val_20[3] = df[9] + df[10] + df[16] + df[28] + df[61]\n",
    "    df_val_20[4] = df[0] + df[51] + df[53] + df[57] + df[83]\n",
    "    df_val_20[5] = df[22] + df[39] + df[40] + df[86] + df[87]\n",
    "    df_val_20[6] = df[5] + df[20] + df[25] + df[84] + df[94]\n",
    "    df_val_20[7] = df[6] + df[7] + df[14] + df[18] + df[24]\n",
    "    df_val_20[8] = df[3] + df[42] + df[43] + df[88] + df[97]\n",
    "    df_val_20[9] = df[12] + df[17] + df[37] + df[68] + df[76]\n",
    "    df_val_20[10] = df[23] + df[33] + df[49] + df[60] + df[71]\n",
    "    df_val_20[11] = df[15] + df[19] + df[21] + df[31] + df[38]\n",
    "    df_val_20[12] = df[34] + df[63] + df[64] + df[66] + df[75]\n",
    "    df_val_20[13] = df[26] + df[45] + df[77] + df[79] + df[99]\n",
    "    df_val_20[14] = df[2] + df[11] + df[35] + df[46] + df[98]\n",
    "    df_val_20[15] = df[27] + df[29] + df[44] + df[78] + df[93]\n",
    "    df_val_20[16] = df[36] + df[50] + df[65] + df[74] + df[80]\n",
    "    df_val_20[17] = df[47] + df[52] + df[56] + df[59] + df[96]\n",
    "    df_val_20[18] = df[8] + df[13] + df[48] + df[58] + df[90]\n",
    "    df_val_20[19] = df[41] + df[69] + df[81] + df[85] + df[89]\n",
    "\n",
    "    print(\"loss:\", log_loss(label, df_val_20))\n",
    "cifar20_val_eval(model, X_val_image/255, y_val_label_20)"
   ]
  }
 ],
 "metadata": {
  "kernelspec": {
   "display_name": "Python 3",
   "language": "python",
   "name": "python3"
  },
  "language_info": {
   "codemirror_mode": {
    "name": "ipython",
    "version": 3
   },
   "file_extension": ".py",
   "mimetype": "text/x-python",
   "name": "python",
   "nbconvert_exporter": "python",
   "pygments_lexer": "ipython3",
   "version": "3.7.4"
  }
 },
 "nbformat": 4,
 "nbformat_minor": 4
}
