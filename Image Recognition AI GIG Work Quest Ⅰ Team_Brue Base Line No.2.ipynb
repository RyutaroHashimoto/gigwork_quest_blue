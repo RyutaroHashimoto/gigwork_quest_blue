{
 "cells": [
  {
   "cell_type": "code",
   "execution_count": 1,
   "metadata": {},
   "outputs": [
    {
     "name": "stdout",
     "output_type": "stream",
     "text": [
      "2.2.0\n"
     ]
    }
   ],
   "source": [
    "import numpy as np\n",
    "import pandas as pd\n",
    "from matplotlib import pyplot as plt\n",
    "import imageio\n",
    "from keras import utils\n",
    "from keras.models import Sequential\n",
    "from keras.layers import Dense, Flatten, Activation\n",
    "from keras.layers import Conv2D, MaxPooling2D\n",
    "from keras import optimizers\n",
    "\n",
    "from pathlib import Path\n",
    "# from fastai import *\n",
    "# from fastai.vision import *\n",
    "\n",
    "import tensorflow as tf\n",
    "\n",
    "print(tf.__version__)"
   ]
  },
  {
   "cell_type": "code",
   "execution_count": 2,
   "metadata": {},
   "outputs": [],
   "source": [
    "labels = pd.read_csv(\"./Downloads/train_master.tsv\", sep=\"\\t\") #教師ラベルの読み込み"
   ]
  },
  {
   "cell_type": "code",
   "execution_count": 3,
   "metadata": {},
   "outputs": [
    {
     "data": {
      "text/html": [
       "<div>\n",
       "<style scoped>\n",
       "    .dataframe tbody tr th:only-of-type {\n",
       "        vertical-align: middle;\n",
       "    }\n",
       "\n",
       "    .dataframe tbody tr th {\n",
       "        vertical-align: top;\n",
       "    }\n",
       "\n",
       "    .dataframe thead th {\n",
       "        text-align: right;\n",
       "    }\n",
       "</style>\n",
       "<table border=\"1\" class=\"dataframe\">\n",
       "  <thead>\n",
       "    <tr style=\"text-align: right;\">\n",
       "      <th></th>\n",
       "      <th>file_name</th>\n",
       "      <th>label_id</th>\n",
       "    </tr>\n",
       "  </thead>\n",
       "  <tbody>\n",
       "    <tr>\n",
       "      <th>0</th>\n",
       "      <td>train_00000.png</td>\n",
       "      <td>11</td>\n",
       "    </tr>\n",
       "    <tr>\n",
       "      <th>1</th>\n",
       "      <td>train_00001.png</td>\n",
       "      <td>15</td>\n",
       "    </tr>\n",
       "    <tr>\n",
       "      <th>2</th>\n",
       "      <td>train_00002.png</td>\n",
       "      <td>4</td>\n",
       "    </tr>\n",
       "    <tr>\n",
       "      <th>3</th>\n",
       "      <td>train_00003.png</td>\n",
       "      <td>14</td>\n",
       "    </tr>\n",
       "    <tr>\n",
       "      <th>4</th>\n",
       "      <td>train_00004.png</td>\n",
       "      <td>1</td>\n",
       "    </tr>\n",
       "  </tbody>\n",
       "</table>\n",
       "</div>"
      ],
      "text/plain": [
       "         file_name  label_id\n",
       "0  train_00000.png        11\n",
       "1  train_00001.png        15\n",
       "2  train_00002.png         4\n",
       "3  train_00003.png        14\n",
       "4  train_00004.png         1"
      ]
     },
     "execution_count": 3,
     "metadata": {},
     "output_type": "execute_result"
    }
   ],
   "source": [
    "labels.head()"
   ]
  },
  {
   "cell_type": "code",
   "execution_count": 4,
   "metadata": {},
   "outputs": [],
   "source": [
    "master = pd.read_csv(\"./Downloads/label_master.tsv\", sep=\"\\t\") #ラベルマスタの読み込み"
   ]
  },
  {
   "cell_type": "code",
   "execution_count": 5,
   "metadata": {},
   "outputs": [
    {
     "data": {
      "text/html": [
       "<div>\n",
       "<style scoped>\n",
       "    .dataframe tbody tr th:only-of-type {\n",
       "        vertical-align: middle;\n",
       "    }\n",
       "\n",
       "    .dataframe tbody tr th {\n",
       "        vertical-align: top;\n",
       "    }\n",
       "\n",
       "    .dataframe thead th {\n",
       "        text-align: right;\n",
       "    }\n",
       "</style>\n",
       "<table border=\"1\" class=\"dataframe\">\n",
       "  <thead>\n",
       "    <tr style=\"text-align: right;\">\n",
       "      <th></th>\n",
       "      <th>label_id</th>\n",
       "      <th>label_name</th>\n",
       "    </tr>\n",
       "  </thead>\n",
       "  <tbody>\n",
       "    <tr>\n",
       "      <th>0</th>\n",
       "      <td>0</td>\n",
       "      <td>aquatic_mammals</td>\n",
       "    </tr>\n",
       "    <tr>\n",
       "      <th>1</th>\n",
       "      <td>1</td>\n",
       "      <td>fish</td>\n",
       "    </tr>\n",
       "    <tr>\n",
       "      <th>2</th>\n",
       "      <td>2</td>\n",
       "      <td>flowers</td>\n",
       "    </tr>\n",
       "    <tr>\n",
       "      <th>3</th>\n",
       "      <td>3</td>\n",
       "      <td>food_containers</td>\n",
       "    </tr>\n",
       "    <tr>\n",
       "      <th>4</th>\n",
       "      <td>4</td>\n",
       "      <td>fruit_and_vegetables</td>\n",
       "    </tr>\n",
       "  </tbody>\n",
       "</table>\n",
       "</div>"
      ],
      "text/plain": [
       "   label_id            label_name\n",
       "0         0       aquatic_mammals\n",
       "1         1                  fish\n",
       "2         2               flowers\n",
       "3         3       food_containers\n",
       "4         4  fruit_and_vegetables"
      ]
     },
     "execution_count": 5,
     "metadata": {},
     "output_type": "execute_result"
    }
   ],
   "source": [
    "master.head()"
   ]
  },
  {
   "cell_type": "code",
   "execution_count": 6,
   "metadata": {},
   "outputs": [],
   "source": [
    "sample = pd.read_csv(\"./Downloads/sample_submit.csv\", header=None, sep=\",\")"
   ]
  },
  {
   "cell_type": "code",
   "execution_count": 55,
   "metadata": {},
   "outputs": [
    {
     "data": {
      "text/html": [
       "<div>\n",
       "<style scoped>\n",
       "    .dataframe tbody tr th:only-of-type {\n",
       "        vertical-align: middle;\n",
       "    }\n",
       "\n",
       "    .dataframe tbody tr th {\n",
       "        vertical-align: top;\n",
       "    }\n",
       "\n",
       "    .dataframe thead th {\n",
       "        text-align: right;\n",
       "    }\n",
       "</style>\n",
       "<table border=\"1\" class=\"dataframe\">\n",
       "  <thead>\n",
       "    <tr style=\"text-align: right;\">\n",
       "      <th></th>\n",
       "      <th>0</th>\n",
       "      <th>1</th>\n",
       "      <th>2</th>\n",
       "      <th>3</th>\n",
       "      <th>4</th>\n",
       "      <th>5</th>\n",
       "      <th>6</th>\n",
       "      <th>7</th>\n",
       "      <th>8</th>\n",
       "      <th>9</th>\n",
       "      <th>...</th>\n",
       "      <th>11</th>\n",
       "      <th>12</th>\n",
       "      <th>13</th>\n",
       "      <th>14</th>\n",
       "      <th>15</th>\n",
       "      <th>16</th>\n",
       "      <th>17</th>\n",
       "      <th>18</th>\n",
       "      <th>19</th>\n",
       "      <th>20</th>\n",
       "    </tr>\n",
       "  </thead>\n",
       "  <tbody>\n",
       "    <tr>\n",
       "      <th>0</th>\n",
       "      <td>test_00000.png</td>\n",
       "      <td>0.036151</td>\n",
       "      <td>0.014607</td>\n",
       "      <td>0.034591</td>\n",
       "      <td>0.079934</td>\n",
       "      <td>0.053778</td>\n",
       "      <td>0.011690</td>\n",
       "      <td>0.039329</td>\n",
       "      <td>0.079885</td>\n",
       "      <td>0.047027</td>\n",
       "      <td>...</td>\n",
       "      <td>0.062593</td>\n",
       "      <td>0.037947</td>\n",
       "      <td>0.080989</td>\n",
       "      <td>0.066377</td>\n",
       "      <td>0.020849</td>\n",
       "      <td>0.057315</td>\n",
       "      <td>0.056351</td>\n",
       "      <td>0.033405</td>\n",
       "      <td>0.078505</td>\n",
       "      <td>0.053430</td>\n",
       "    </tr>\n",
       "    <tr>\n",
       "      <th>1</th>\n",
       "      <td>test_00001.png</td>\n",
       "      <td>0.033393</td>\n",
       "      <td>0.037818</td>\n",
       "      <td>0.021027</td>\n",
       "      <td>0.043661</td>\n",
       "      <td>0.082885</td>\n",
       "      <td>0.041105</td>\n",
       "      <td>0.069309</td>\n",
       "      <td>0.059735</td>\n",
       "      <td>0.023879</td>\n",
       "      <td>...</td>\n",
       "      <td>0.077569</td>\n",
       "      <td>0.053666</td>\n",
       "      <td>0.044468</td>\n",
       "      <td>0.040490</td>\n",
       "      <td>0.090077</td>\n",
       "      <td>0.050215</td>\n",
       "      <td>0.052718</td>\n",
       "      <td>0.067940</td>\n",
       "      <td>0.030642</td>\n",
       "      <td>0.078394</td>\n",
       "    </tr>\n",
       "    <tr>\n",
       "      <th>2</th>\n",
       "      <td>test_00002.png</td>\n",
       "      <td>0.098902</td>\n",
       "      <td>0.047091</td>\n",
       "      <td>0.022525</td>\n",
       "      <td>0.059422</td>\n",
       "      <td>0.038273</td>\n",
       "      <td>0.011877</td>\n",
       "      <td>0.086344</td>\n",
       "      <td>0.054882</td>\n",
       "      <td>0.046612</td>\n",
       "      <td>...</td>\n",
       "      <td>0.028493</td>\n",
       "      <td>0.027183</td>\n",
       "      <td>0.092749</td>\n",
       "      <td>0.076549</td>\n",
       "      <td>0.026914</td>\n",
       "      <td>0.099406</td>\n",
       "      <td>0.032409</td>\n",
       "      <td>0.038710</td>\n",
       "      <td>0.000611</td>\n",
       "      <td>0.060666</td>\n",
       "    </tr>\n",
       "    <tr>\n",
       "      <th>3</th>\n",
       "      <td>test_00003.png</td>\n",
       "      <td>0.054705</td>\n",
       "      <td>0.080344</td>\n",
       "      <td>0.047048</td>\n",
       "      <td>0.083701</td>\n",
       "      <td>0.043293</td>\n",
       "      <td>0.068830</td>\n",
       "      <td>0.026523</td>\n",
       "      <td>0.076391</td>\n",
       "      <td>0.008649</td>\n",
       "      <td>...</td>\n",
       "      <td>0.020802</td>\n",
       "      <td>0.054486</td>\n",
       "      <td>0.065079</td>\n",
       "      <td>0.060174</td>\n",
       "      <td>0.045692</td>\n",
       "      <td>0.052243</td>\n",
       "      <td>0.006735</td>\n",
       "      <td>0.036344</td>\n",
       "      <td>0.070731</td>\n",
       "      <td>0.026432</td>\n",
       "    </tr>\n",
       "    <tr>\n",
       "      <th>4</th>\n",
       "      <td>test_00004.png</td>\n",
       "      <td>0.087472</td>\n",
       "      <td>0.045188</td>\n",
       "      <td>0.091187</td>\n",
       "      <td>0.003265</td>\n",
       "      <td>0.110322</td>\n",
       "      <td>0.102048</td>\n",
       "      <td>0.048273</td>\n",
       "      <td>0.080005</td>\n",
       "      <td>0.050142</td>\n",
       "      <td>...</td>\n",
       "      <td>0.096636</td>\n",
       "      <td>0.038774</td>\n",
       "      <td>0.050342</td>\n",
       "      <td>0.044085</td>\n",
       "      <td>0.057429</td>\n",
       "      <td>0.023512</td>\n",
       "      <td>0.018324</td>\n",
       "      <td>0.002596</td>\n",
       "      <td>0.030469</td>\n",
       "      <td>0.001106</td>\n",
       "    </tr>\n",
       "  </tbody>\n",
       "</table>\n",
       "<p>5 rows × 21 columns</p>\n",
       "</div>"
      ],
      "text/plain": [
       "               0         1         2         3         4         5         6   \\\n",
       "0  test_00000.png  0.036151  0.014607  0.034591  0.079934  0.053778  0.011690   \n",
       "1  test_00001.png  0.033393  0.037818  0.021027  0.043661  0.082885  0.041105   \n",
       "2  test_00002.png  0.098902  0.047091  0.022525  0.059422  0.038273  0.011877   \n",
       "3  test_00003.png  0.054705  0.080344  0.047048  0.083701  0.043293  0.068830   \n",
       "4  test_00004.png  0.087472  0.045188  0.091187  0.003265  0.110322  0.102048   \n",
       "\n",
       "         7         8         9   ...        11        12        13        14  \\\n",
       "0  0.039329  0.079885  0.047027  ...  0.062593  0.037947  0.080989  0.066377   \n",
       "1  0.069309  0.059735  0.023879  ...  0.077569  0.053666  0.044468  0.040490   \n",
       "2  0.086344  0.054882  0.046612  ...  0.028493  0.027183  0.092749  0.076549   \n",
       "3  0.026523  0.076391  0.008649  ...  0.020802  0.054486  0.065079  0.060174   \n",
       "4  0.048273  0.080005  0.050142  ...  0.096636  0.038774  0.050342  0.044085   \n",
       "\n",
       "         15        16        17        18        19        20  \n",
       "0  0.020849  0.057315  0.056351  0.033405  0.078505  0.053430  \n",
       "1  0.090077  0.050215  0.052718  0.067940  0.030642  0.078394  \n",
       "2  0.026914  0.099406  0.032409  0.038710  0.000611  0.060666  \n",
       "3  0.045692  0.052243  0.006735  0.036344  0.070731  0.026432  \n",
       "4  0.057429  0.023512  0.018324  0.002596  0.030469  0.001106  \n",
       "\n",
       "[5 rows x 21 columns]"
      ]
     },
     "execution_count": 55,
     "metadata": {},
     "output_type": "execute_result"
    }
   ],
   "source": [
    "sample.head()\n"
   ]
  },
  {
   "cell_type": "code",
   "execution_count": 8,
   "metadata": {},
   "outputs": [
    {
     "name": "stdout",
     "output_type": "stream",
     "text": [
      "<class 'numpy.ndarray'> (50000, 32, 32, 3)\n"
     ]
    }
   ],
   "source": [
    "train_images = []\n",
    "for fname in labels[\"file_name\"]:\n",
    "    path = \"./Downloads/train_gig/\" + fname\n",
    "    img = imageio.imread(path)\n",
    "    train_images.append(img)\n",
    "train_images = np.array(train_images)\n",
    "print(type(train_images), train_images.shape)"
   ]
  },
  {
   "cell_type": "code",
   "execution_count": 9,
   "metadata": {},
   "outputs": [
    {
     "name": "stdout",
     "output_type": "stream",
     "text": [
      "<class 'numpy.ndarray'> (10000, 32, 32, 3)\n"
     ]
    }
   ],
   "source": [
    "test_images = []\n",
    "for fname in sample[0]:\n",
    "    path = \"./Downloads/test_gig/\" + fname\n",
    "    img = imageio.imread(path)\n",
    "    test_images.append(img)\n",
    "test_images = np.array(test_images )\n",
    "print(type(test_images ), test_images.shape)"
   ]
  },
  {
   "cell_type": "code",
   "execution_count": 10,
   "metadata": {},
   "outputs": [],
   "source": [
    "train_images = train_images / 255\n",
    "test_images = test_images / 255"
   ]
  },
  {
   "cell_type": "code",
   "execution_count": 11,
   "metadata": {},
   "outputs": [
    {
     "data": {
      "text/plain": [
       "array([[0., 0., 0., 0., 0., 0., 0., 0., 0., 0., 0., 1., 0., 0., 0., 0.,\n",
       "        0., 0., 0., 0.],\n",
       "       [0., 0., 0., 0., 0., 0., 0., 0., 0., 0., 0., 0., 0., 0., 0., 1.,\n",
       "        0., 0., 0., 0.],\n",
       "       [0., 0., 0., 0., 1., 0., 0., 0., 0., 0., 0., 0., 0., 0., 0., 0.,\n",
       "        0., 0., 0., 0.],\n",
       "       [0., 0., 0., 0., 0., 0., 0., 0., 0., 0., 0., 0., 0., 0., 1., 0.,\n",
       "        0., 0., 0., 0.],\n",
       "       [0., 1., 0., 0., 0., 0., 0., 0., 0., 0., 0., 0., 0., 0., 0., 0.,\n",
       "        0., 0., 0., 0.],\n",
       "       [0., 0., 0., 0., 0., 1., 0., 0., 0., 0., 0., 0., 0., 0., 0., 0.,\n",
       "        0., 0., 0., 0.],\n",
       "       [0., 0., 0., 0., 0., 0., 0., 0., 0., 0., 0., 0., 0., 0., 0., 0.,\n",
       "        0., 0., 1., 0.],\n",
       "       [0., 0., 0., 1., 0., 0., 0., 0., 0., 0., 0., 0., 0., 0., 0., 0.,\n",
       "        0., 0., 0., 0.],\n",
       "       [0., 0., 0., 0., 0., 0., 0., 0., 0., 0., 1., 0., 0., 0., 0., 0.,\n",
       "        0., 0., 0., 0.],\n",
       "       [0., 0., 0., 0., 0., 0., 0., 0., 0., 0., 0., 1., 0., 0., 0., 0.,\n",
       "        0., 0., 0., 0.]], dtype=float32)"
      ]
     },
     "execution_count": 11,
     "metadata": {},
     "output_type": "execute_result"
    }
   ],
   "source": [
    "y = labels[\"label_id\"]\n",
    "\n",
    "y_categorical = utils.to_categorical(y)\n",
    "y_categorical[0:10,]"
   ]
  },
  {
   "cell_type": "code",
   "execution_count": 12,
   "metadata": {},
   "outputs": [],
   "source": [
    "X_train_image, X_val_image = np.split(train_images, [40000])\n",
    "y_train_label, y_val_label = np.split(y_categorical, [40000])"
   ]
  },
  {
   "cell_type": "code",
   "execution_count": 13,
   "metadata": {},
   "outputs": [
    {
     "name": "stdout",
     "output_type": "stream",
     "text": [
      "Model: \"sequential\"\n",
      "_________________________________________________________________\n",
      "Layer (type)                 Output Shape              Param #   \n",
      "=================================================================\n",
      "mobilenetv2_1.00_160 (Model) (None, 1280)              2257984   \n",
      "_________________________________________________________________\n",
      "dense (Dense)                (None, 20)                25620     \n",
      "=================================================================\n",
      "Total params: 2,283,604\n",
      "Trainable params: 2,249,492\n",
      "Non-trainable params: 34,112\n",
      "_________________________________________________________________\n"
     ]
    }
   ],
   "source": [
    "inputs = tf.keras.Input(shape=(None, None, 3))\n",
    "x = tf.keras.layers.Lambda(lambda img: tf.image.resize(img, (160, 160)))(inputs)\n",
    "x = tf.keras.layers.Lambda(tf.keras.applications.mobilenet_v2.preprocess_input)(x)\n",
    "\n",
    "base_model = tf.keras.applications.mobilenet_v2.MobileNetV2(\n",
    "    weights='imagenet', input_tensor=x, input_shape=(160, 160, 3),\n",
    "    include_top=False, pooling='avg'\n",
    ")\n",
    "\n",
    "model = tf.keras.Sequential([\n",
    "    base_model,\n",
    "    tf.keras.layers.Dense(20, activation='softmax')\n",
    "])\n",
    "\n",
    "model.summary()"
   ]
  },
  {
   "cell_type": "code",
   "execution_count": 19,
   "metadata": {},
   "outputs": [
    {
     "name": "stdout",
     "output_type": "stream",
     "text": [
      "110\n"
     ]
    }
   ],
   "source": [
    "layer_names = [l.name for l in base_model.layers]\n",
    "idx = layer_names.index('block_12_expand')\n",
    "print(idx)"
   ]
  },
  {
   "cell_type": "code",
   "execution_count": 20,
   "metadata": {},
   "outputs": [],
   "source": [
    "base_model.trainable = True\n",
    "\n",
    "for layer in base_model.layers[:idx]:\n",
    "    layer.trainable = False"
   ]
  },
  {
   "cell_type": "code",
   "execution_count": 21,
   "metadata": {},
   "outputs": [
    {
     "name": "stdout",
     "output_type": "stream",
     "text": [
      "Model: \"sequential\"\n",
      "_________________________________________________________________\n",
      "Layer (type)                 Output Shape              Param #   \n",
      "=================================================================\n",
      "mobilenetv2_1.00_160 (Model) (None, 1280)              2257984   \n",
      "_________________________________________________________________\n",
      "dense (Dense)                (None, 20)                25620     \n",
      "=================================================================\n",
      "Total params: 2,283,604\n",
      "Trainable params: 1,825,236\n",
      "Non-trainable params: 458,368\n",
      "_________________________________________________________________\n"
     ]
    }
   ],
   "source": [
    "model.compile(optimizer=tf.keras.optimizers.RMSprop(learning_rate=0.0001),\n",
    "              loss='categorical_crossentropy',\n",
    "              metrics=['accuracy'])\n",
    "\n",
    "model.summary()"
   ]
  },
  {
   "cell_type": "code",
   "execution_count": 22,
   "metadata": {},
   "outputs": [
    {
     "name": "stdout",
     "output_type": "stream",
     "text": [
      "125/125 [==============================] - 1054s 8s/step - loss: 2.5377 - accuracy: 0.2293 - val_loss: 5.2510 - val_accuracy: 0.0506\n"
     ]
    },
    {
     "data": {
      "text/plain": [
       "<tensorflow.python.keras.callbacks.History at 0x2e6488392b0>"
      ]
     },
     "execution_count": 22,
     "metadata": {},
     "output_type": "execute_result"
    }
   ],
   "source": [
    "model.fit(X_train_image, y_train_label, epochs=1, validation_split=0.2, batch_size=256)"
   ]
  },
  {
   "cell_type": "code",
   "execution_count": 23,
   "metadata": {},
   "outputs": [
    {
     "name": "stdout",
     "output_type": "stream",
     "text": [
      "[5.215665817260742, 0.04560000076889992]\n"
     ]
    }
   ],
   "source": [
    "print(model.evaluate(X_val_image, y_val_label, verbose=0))"
   ]
  },
  {
   "cell_type": "code",
   "execution_count": 24,
   "metadata": {},
   "outputs": [
    {
     "name": "stdout",
     "output_type": "stream",
     "text": [
      "(10000, 32, 32, 3)\n",
      "<class 'numpy.ndarray'>\n",
      "(10000, 20)\n"
     ]
    }
   ],
   "source": [
    "print(test_images.shape)\n",
    "\n",
    "predictions = model.predict(test_images)\n",
    "\n",
    "print(type(predictions))\n",
    "\n",
    "print(predictions.shape)\n"
   ]
  },
  {
   "cell_type": "code",
   "execution_count": 26,
   "metadata": {},
   "outputs": [
    {
     "name": "stdout",
     "output_type": "stream",
     "text": [
      "[1.7375313e-02 3.0343321e-01 1.0214645e-03 5.3686790e-02 1.3339324e-03\n",
      " 1.8290549e-03 3.4014985e-03 5.0057448e-04 4.9680501e-04 2.8190727e-03\n",
      " 5.2079344e-01 1.2612721e-02 1.2764088e-03 6.8059009e-03 3.5298933e-04\n",
      " 4.2038327e-03 4.2284377e-02 1.8641753e-02 3.3098290e-04 6.7998054e-03]\n"
     ]
    }
   ],
   "source": [
    "print(predictions[0])"
   ]
  },
  {
   "cell_type": "code",
   "execution_count": 69,
   "metadata": {},
   "outputs": [],
   "source": [
    "file_name = sample[0]\n",
    "df = pd.DataFrame(predictions)"
   ]
  },
  {
   "cell_type": "code",
   "execution_count": 73,
   "metadata": {},
   "outputs": [],
   "source": [
    "df_concat = pd.concat([file_name, df],axis=1)"
   ]
  },
  {
   "cell_type": "code",
   "execution_count": 75,
   "metadata": {},
   "outputs": [
    {
     "data": {
      "text/html": [
       "<div>\n",
       "<style scoped>\n",
       "    .dataframe tbody tr th:only-of-type {\n",
       "        vertical-align: middle;\n",
       "    }\n",
       "\n",
       "    .dataframe tbody tr th {\n",
       "        vertical-align: top;\n",
       "    }\n",
       "\n",
       "    .dataframe thead th {\n",
       "        text-align: right;\n",
       "    }\n",
       "</style>\n",
       "<table border=\"1\" class=\"dataframe\">\n",
       "  <thead>\n",
       "    <tr style=\"text-align: right;\">\n",
       "      <th></th>\n",
       "      <th>0</th>\n",
       "      <th>0</th>\n",
       "      <th>1</th>\n",
       "      <th>2</th>\n",
       "      <th>3</th>\n",
       "      <th>4</th>\n",
       "      <th>5</th>\n",
       "      <th>6</th>\n",
       "      <th>7</th>\n",
       "      <th>8</th>\n",
       "      <th>...</th>\n",
       "      <th>10</th>\n",
       "      <th>11</th>\n",
       "      <th>12</th>\n",
       "      <th>13</th>\n",
       "      <th>14</th>\n",
       "      <th>15</th>\n",
       "      <th>16</th>\n",
       "      <th>17</th>\n",
       "      <th>18</th>\n",
       "      <th>19</th>\n",
       "    </tr>\n",
       "  </thead>\n",
       "  <tbody>\n",
       "    <tr>\n",
       "      <th>0</th>\n",
       "      <td>test_00000.png</td>\n",
       "      <td>0.017375</td>\n",
       "      <td>0.303433</td>\n",
       "      <td>0.001021</td>\n",
       "      <td>0.053687</td>\n",
       "      <td>0.001334</td>\n",
       "      <td>0.001829</td>\n",
       "      <td>0.003401</td>\n",
       "      <td>0.000501</td>\n",
       "      <td>0.000497</td>\n",
       "      <td>...</td>\n",
       "      <td>0.520793</td>\n",
       "      <td>0.012613</td>\n",
       "      <td>0.001276</td>\n",
       "      <td>0.006806</td>\n",
       "      <td>0.000353</td>\n",
       "      <td>0.004204</td>\n",
       "      <td>0.042284</td>\n",
       "      <td>0.018642</td>\n",
       "      <td>0.000331</td>\n",
       "      <td>0.006800</td>\n",
       "    </tr>\n",
       "    <tr>\n",
       "      <th>1</th>\n",
       "      <td>test_00001.png</td>\n",
       "      <td>0.018297</td>\n",
       "      <td>0.294005</td>\n",
       "      <td>0.001040</td>\n",
       "      <td>0.050353</td>\n",
       "      <td>0.001352</td>\n",
       "      <td>0.002090</td>\n",
       "      <td>0.003657</td>\n",
       "      <td>0.000548</td>\n",
       "      <td>0.000526</td>\n",
       "      <td>...</td>\n",
       "      <td>0.526874</td>\n",
       "      <td>0.013410</td>\n",
       "      <td>0.001413</td>\n",
       "      <td>0.007399</td>\n",
       "      <td>0.000403</td>\n",
       "      <td>0.004523</td>\n",
       "      <td>0.044028</td>\n",
       "      <td>0.019362</td>\n",
       "      <td>0.000383</td>\n",
       "      <td>0.007252</td>\n",
       "    </tr>\n",
       "    <tr>\n",
       "      <th>2</th>\n",
       "      <td>test_00002.png</td>\n",
       "      <td>0.017118</td>\n",
       "      <td>0.291644</td>\n",
       "      <td>0.001023</td>\n",
       "      <td>0.053425</td>\n",
       "      <td>0.001321</td>\n",
       "      <td>0.001894</td>\n",
       "      <td>0.003582</td>\n",
       "      <td>0.000517</td>\n",
       "      <td>0.000505</td>\n",
       "      <td>...</td>\n",
       "      <td>0.531862</td>\n",
       "      <td>0.013106</td>\n",
       "      <td>0.001269</td>\n",
       "      <td>0.006741</td>\n",
       "      <td>0.000351</td>\n",
       "      <td>0.004254</td>\n",
       "      <td>0.041935</td>\n",
       "      <td>0.019287</td>\n",
       "      <td>0.000346</td>\n",
       "      <td>0.006878</td>\n",
       "    </tr>\n",
       "    <tr>\n",
       "      <th>3</th>\n",
       "      <td>test_00003.png</td>\n",
       "      <td>0.018576</td>\n",
       "      <td>0.271628</td>\n",
       "      <td>0.001044</td>\n",
       "      <td>0.051754</td>\n",
       "      <td>0.001478</td>\n",
       "      <td>0.002454</td>\n",
       "      <td>0.003677</td>\n",
       "      <td>0.000558</td>\n",
       "      <td>0.000577</td>\n",
       "      <td>...</td>\n",
       "      <td>0.545555</td>\n",
       "      <td>0.013845</td>\n",
       "      <td>0.001774</td>\n",
       "      <td>0.008103</td>\n",
       "      <td>0.000458</td>\n",
       "      <td>0.005172</td>\n",
       "      <td>0.044567</td>\n",
       "      <td>0.018488</td>\n",
       "      <td>0.000411</td>\n",
       "      <td>0.007039</td>\n",
       "    </tr>\n",
       "    <tr>\n",
       "      <th>4</th>\n",
       "      <td>test_00004.png</td>\n",
       "      <td>0.017738</td>\n",
       "      <td>0.304332</td>\n",
       "      <td>0.001012</td>\n",
       "      <td>0.052868</td>\n",
       "      <td>0.001322</td>\n",
       "      <td>0.001923</td>\n",
       "      <td>0.003459</td>\n",
       "      <td>0.000512</td>\n",
       "      <td>0.000514</td>\n",
       "      <td>...</td>\n",
       "      <td>0.518879</td>\n",
       "      <td>0.012927</td>\n",
       "      <td>0.001371</td>\n",
       "      <td>0.007031</td>\n",
       "      <td>0.000362</td>\n",
       "      <td>0.004379</td>\n",
       "      <td>0.042487</td>\n",
       "      <td>0.018722</td>\n",
       "      <td>0.000350</td>\n",
       "      <td>0.006936</td>\n",
       "    </tr>\n",
       "  </tbody>\n",
       "</table>\n",
       "<p>5 rows × 21 columns</p>\n",
       "</div>"
      ],
      "text/plain": [
       "               0         0         1         2         3         4         5   \\\n",
       "0  test_00000.png  0.017375  0.303433  0.001021  0.053687  0.001334  0.001829   \n",
       "1  test_00001.png  0.018297  0.294005  0.001040  0.050353  0.001352  0.002090   \n",
       "2  test_00002.png  0.017118  0.291644  0.001023  0.053425  0.001321  0.001894   \n",
       "3  test_00003.png  0.018576  0.271628  0.001044  0.051754  0.001478  0.002454   \n",
       "4  test_00004.png  0.017738  0.304332  0.001012  0.052868  0.001322  0.001923   \n",
       "\n",
       "         6         7         8   ...        10        11        12        13  \\\n",
       "0  0.003401  0.000501  0.000497  ...  0.520793  0.012613  0.001276  0.006806   \n",
       "1  0.003657  0.000548  0.000526  ...  0.526874  0.013410  0.001413  0.007399   \n",
       "2  0.003582  0.000517  0.000505  ...  0.531862  0.013106  0.001269  0.006741   \n",
       "3  0.003677  0.000558  0.000577  ...  0.545555  0.013845  0.001774  0.008103   \n",
       "4  0.003459  0.000512  0.000514  ...  0.518879  0.012927  0.001371  0.007031   \n",
       "\n",
       "         14        15        16        17        18        19  \n",
       "0  0.000353  0.004204  0.042284  0.018642  0.000331  0.006800  \n",
       "1  0.000403  0.004523  0.044028  0.019362  0.000383  0.007252  \n",
       "2  0.000351  0.004254  0.041935  0.019287  0.000346  0.006878  \n",
       "3  0.000458  0.005172  0.044567  0.018488  0.000411  0.007039  \n",
       "4  0.000362  0.004379  0.042487  0.018722  0.000350  0.006936  \n",
       "\n",
       "[5 rows x 21 columns]"
      ]
     },
     "execution_count": 75,
     "metadata": {},
     "output_type": "execute_result"
    }
   ],
   "source": [
    "df_concat.head()"
   ]
  },
  {
   "cell_type": "code",
   "execution_count": 77,
   "metadata": {},
   "outputs": [],
   "source": [
    "df_concat.to_csv('./Downloads/sample_submit.csv',index = False, header=None)"
   ]
  },
  {
   "cell_type": "code",
   "execution_count": null,
   "metadata": {},
   "outputs": [],
   "source": []
  }
 ],
 "metadata": {
  "kernelspec": {
   "display_name": "Python 3",
   "language": "python",
   "name": "python3"
  },
  "language_info": {
   "codemirror_mode": {
    "name": "ipython",
    "version": 3
   },
   "file_extension": ".py",
   "mimetype": "text/x-python",
   "name": "python",
   "nbconvert_exporter": "python",
   "pygments_lexer": "ipython3",
   "version": "3.6.10"
  }
 },
 "nbformat": 4,
 "nbformat_minor": 4
}
