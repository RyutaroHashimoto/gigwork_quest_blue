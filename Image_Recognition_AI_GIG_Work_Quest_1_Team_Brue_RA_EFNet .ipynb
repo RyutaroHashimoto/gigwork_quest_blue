{
  "nbformat": 4,
  "nbformat_minor": 0,
  "metadata": {
    "colab": {
      "name": "Image Recognition AI GIG Work Quest 1 Team_Brue_RA_EFNet.ipynb",
      "provenance": [],
      "collapsed_sections": []
    },
    "kernelspec": {
      "name": "python3",
      "display_name": "Python 3"
    },
    "accelerator": "GPU"
  },
  "cells": [
    {
      "cell_type": "code",
      "metadata": {
        "colab": {
          "base_uri": "https://localhost:8080/"
        },
        "id": "SLMND_Faa0P-",
        "outputId": "bed27e38-103d-47fa-c720-65831174b902"
      },
      "source": [
        "%tensorflow_version 2.x\n",
        "# # !pip install tensorflow-addons==0.6.0\n",
        "# # !pip install tensorflow-io==0.9.1\n",
        "# # !pip install efficientnet\n",
        "!pip install -U git+https://github.com/qubvel/efficientnet"
      ],
      "execution_count": null,
      "outputs": [
        {
          "output_type": "stream",
          "text": [
            "Collecting git+https://github.com/qubvel/efficientnet\n",
            "  Cloning https://github.com/qubvel/efficientnet to /tmp/pip-req-build-pkakkydb\n",
            "  Running command git clone -q https://github.com/qubvel/efficientnet /tmp/pip-req-build-pkakkydb\n",
            "Collecting keras_applications<=1.0.8,>=1.0.7\n",
            "\u001b[?25l  Downloading https://files.pythonhosted.org/packages/71/e3/19762fdfc62877ae9102edf6342d71b28fbfd9dea3d2f96a882ce099b03f/Keras_Applications-1.0.8-py3-none-any.whl (50kB)\n",
            "\u001b[K     |████████████████████████████████| 51kB 5.7MB/s \n",
            "\u001b[?25hRequirement already satisfied, skipping upgrade: scikit-image in /usr/local/lib/python3.7/dist-packages (from efficientnet==1.1.1) (0.16.2)\n",
            "Requirement already satisfied, skipping upgrade: h5py in /usr/local/lib/python3.7/dist-packages (from keras_applications<=1.0.8,>=1.0.7->efficientnet==1.1.1) (2.10.0)\n",
            "Requirement already satisfied, skipping upgrade: numpy>=1.9.1 in /usr/local/lib/python3.7/dist-packages (from keras_applications<=1.0.8,>=1.0.7->efficientnet==1.1.1) (1.19.5)\n",
            "Requirement already satisfied, skipping upgrade: pillow>=4.3.0 in /usr/local/lib/python3.7/dist-packages (from scikit-image->efficientnet==1.1.1) (7.0.0)\n",
            "Requirement already satisfied, skipping upgrade: PyWavelets>=0.4.0 in /usr/local/lib/python3.7/dist-packages (from scikit-image->efficientnet==1.1.1) (1.1.1)\n",
            "Requirement already satisfied, skipping upgrade: scipy>=0.19.0 in /usr/local/lib/python3.7/dist-packages (from scikit-image->efficientnet==1.1.1) (1.4.1)\n",
            "Requirement already satisfied, skipping upgrade: networkx>=2.0 in /usr/local/lib/python3.7/dist-packages (from scikit-image->efficientnet==1.1.1) (2.5)\n",
            "Requirement already satisfied, skipping upgrade: imageio>=2.3.0 in /usr/local/lib/python3.7/dist-packages (from scikit-image->efficientnet==1.1.1) (2.4.1)\n",
            "Requirement already satisfied, skipping upgrade: matplotlib!=3.0.0,>=2.0.0 in /usr/local/lib/python3.7/dist-packages (from scikit-image->efficientnet==1.1.1) (3.2.2)\n",
            "Requirement already satisfied, skipping upgrade: six in /usr/local/lib/python3.7/dist-packages (from h5py->keras_applications<=1.0.8,>=1.0.7->efficientnet==1.1.1) (1.15.0)\n",
            "Requirement already satisfied, skipping upgrade: decorator>=4.3.0 in /usr/local/lib/python3.7/dist-packages (from networkx>=2.0->scikit-image->efficientnet==1.1.1) (4.4.2)\n",
            "Requirement already satisfied, skipping upgrade: pyparsing!=2.0.4,!=2.1.2,!=2.1.6,>=2.0.1 in /usr/local/lib/python3.7/dist-packages (from matplotlib!=3.0.0,>=2.0.0->scikit-image->efficientnet==1.1.1) (2.4.7)\n",
            "Requirement already satisfied, skipping upgrade: cycler>=0.10 in /usr/local/lib/python3.7/dist-packages (from matplotlib!=3.0.0,>=2.0.0->scikit-image->efficientnet==1.1.1) (0.10.0)\n",
            "Requirement already satisfied, skipping upgrade: kiwisolver>=1.0.1 in /usr/local/lib/python3.7/dist-packages (from matplotlib!=3.0.0,>=2.0.0->scikit-image->efficientnet==1.1.1) (1.3.1)\n",
            "Requirement already satisfied, skipping upgrade: python-dateutil>=2.1 in /usr/local/lib/python3.7/dist-packages (from matplotlib!=3.0.0,>=2.0.0->scikit-image->efficientnet==1.1.1) (2.8.1)\n",
            "Building wheels for collected packages: efficientnet\n",
            "  Building wheel for efficientnet (setup.py) ... \u001b[?25l\u001b[?25hdone\n",
            "  Created wheel for efficientnet: filename=efficientnet-1.1.1-cp37-none-any.whl size=18421 sha256=59d4001aa3602f396b05844ba2481ed7e26b5c98aa9a8d2525b83b019039c602\n",
            "  Stored in directory: /tmp/pip-ephem-wheel-cache-esvj4d4c/wheels/64/60/2e/30ebaa76ed1626e86bfb0cc0579b737fdb7d9ff8cb9522663a\n",
            "Successfully built efficientnet\n",
            "Installing collected packages: keras-applications, efficientnet\n",
            "Successfully installed efficientnet-1.1.1 keras-applications-1.0.8\n"
          ],
          "name": "stdout"
        }
      ]
    },
    {
      "cell_type": "code",
      "metadata": {
        "colab": {
          "base_uri": "https://localhost:8080/"
        },
        "id": "MOub_weYDmEn",
        "outputId": "71dd98e2-ec82-43f5-d79c-782ee00212a4"
      },
      "source": [
        "!nvidia-smi"
      ],
      "execution_count": null,
      "outputs": [
        {
          "output_type": "stream",
          "text": [
            "Tue Mar 16 03:29:32 2021       \n",
            "+-----------------------------------------------------------------------------+\n",
            "| NVIDIA-SMI 460.56       Driver Version: 460.32.03    CUDA Version: 11.2     |\n",
            "|-------------------------------+----------------------+----------------------+\n",
            "| GPU  Name        Persistence-M| Bus-Id        Disp.A | Volatile Uncorr. ECC |\n",
            "| Fan  Temp  Perf  Pwr:Usage/Cap|         Memory-Usage | GPU-Util  Compute M. |\n",
            "|                               |                      |               MIG M. |\n",
            "|===============================+======================+======================|\n",
            "|   0  Tesla V100-SXM2...  Off  | 00000000:00:04.0 Off |                    0 |\n",
            "| N/A   32C    P0    23W / 300W |      0MiB / 16160MiB |      0%      Default |\n",
            "|                               |                      |                  N/A |\n",
            "+-------------------------------+----------------------+----------------------+\n",
            "                                                                               \n",
            "+-----------------------------------------------------------------------------+\n",
            "| Processes:                                                                  |\n",
            "|  GPU   GI   CI        PID   Type   Process name                  GPU Memory |\n",
            "|        ID   ID                                                   Usage      |\n",
            "|=============================================================================|\n",
            "|  No running processes found                                                 |\n",
            "+-----------------------------------------------------------------------------+\n"
          ],
          "name": "stdout"
        }
      ]
    },
    {
      "cell_type": "code",
      "metadata": {
        "colab": {
          "base_uri": "https://localhost:8080/"
        },
        "id": "1CQqFeko426O",
        "outputId": "a93348c8-0b5a-4b2b-d0b1-a2ed0fa15d2a"
      },
      "source": [
        "from google.colab import drive\n",
        "drive.mount('/content/drive')"
      ],
      "execution_count": 1,
      "outputs": [
        {
          "output_type": "stream",
          "text": [
            "Mounted at /content/drive\n"
          ],
          "name": "stdout"
        }
      ]
    },
    {
      "cell_type": "markdown",
      "metadata": {
        "id": "4ovDvRGHL_Lb"
      },
      "source": [
        " # Import library"
      ]
    },
    {
      "cell_type": "code",
      "metadata": {
        "id": "053QJ9Yw1HV3"
      },
      "source": [
        "# ライブラリの読み込み\r\n",
        "\r\n",
        "import os\r\n",
        "import sys\r\n",
        "import random\r\n",
        "import shutil\r\n",
        "import gc\r\n",
        "import pandas as pd\r\n",
        "import numpy as np\r\n",
        "import cv2\r\n",
        "import matplotlib.pyplot as plt\r\n",
        "import keras\r\n",
        "import keras.models as M\r\n",
        "import keras.layers as L\r\n",
        "import keras.backend as K\r\n",
        "import tensorflow as tf\r\n",
        "\r\n",
        "from skimage.io import imread\r\n",
        "from keras.preprocessing.image import ImageDataGenerator\r\n",
        "from keras.preprocessing.image import array_to_img, img_to_array, load_img\r\n",
        "from keras import optimizers\r\n",
        "from keras.callbacks import EarlyStopping, ReduceLROnPlateau, ModelCheckpoint\r\n",
        "from keras.constraints import max_norm\r\n",
        "from keras.applications.imagenet_utils import decode_predictions\r\n",
        "from PIL import Image, ImageEnhance, ImageOps\r\n",
        "from keras.applications.inception_v3 import InceptionV3\r\n",
        "from keras.applications.inception_resnet_v2 import InceptionResNetV2\r\n",
        "from keras.applications.xception import Xception\r\n",
        "from keras.datasets import cifar100\r\n",
        "from efficientnet.keras import EfficientNetB0\r\n",
        "from efficientnet.keras import EfficientNetB7\r\n",
        "from efficientnet.keras import center_crop_and_resize, preprocess_input\r\n",
        "from sklearn.model_selection import train_test_split, StratifiedShuffleSplit\r\n",
        "from sklearn.metrics import accuracy_score\r\n",
        "from keras.models import Sequential,Model\r\n",
        "from keras.layers import Dense, Dropout, BatchNormalization, Flatten, GlobalMaxPooling2D, GlobalAveragePooling2D"
      ],
      "execution_count": null,
      "outputs": []
    },
    {
      "cell_type": "code",
      "metadata": {
        "colab": {
          "base_uri": "https://localhost:8080/"
        },
        "id": "rvNHvfdM15F2",
        "outputId": "afd9e67c-b8d7-4b23-c666-a746abe24680"
      },
      "source": [
        "# ディレクトリ移動\r\n",
        "%cd drive/MyDrive/mokumoku/dataset"
      ],
      "execution_count": null,
      "outputs": [
        {
          "output_type": "stream",
          "text": [
            "/content/drive/MyDrive/mokumoku/dataset\n"
          ],
          "name": "stdout"
        }
      ]
    },
    {
      "cell_type": "code",
      "metadata": {
        "colab": {
          "base_uri": "https://localhost:8080/"
        },
        "id": "yFFMnguk2JmM",
        "outputId": "9fde45e1-a622-4ba5-c5ea-cfd203a4282d"
      },
      "source": [
        "!ls"
      ],
      "execution_count": null,
      "outputs": [
        {
          "output_type": "stream",
          "text": [
            " cifar100_submit_TTA_EffNet_dcr0.4_Logloss0.6727629181444228.csv\n",
            "'Image Recognition_Efn.png'\n",
            " inputs\n",
            " label_master.tsv\n",
            " mymodule\n",
            " output\n",
            " sample_submit.csv\n",
            " submit_001.csv\n",
            " submit_002.csv\n",
            " submit_003.csv\n",
            " submit_004.csv\n",
            " submit_005.csv\n",
            " submit_TTA_EffNet_dcr0.4_Logloss0.40247903813919744.csv\n",
            " test\n",
            " test_data.npy\n",
            " test.zip\n",
            " train\n",
            " train_master.tsv\n",
            " train.zip\n",
            " X_training_data.npy\n",
            " X_training_data_sorted.npy\n",
            " X_train.npy\n",
            " X_valid.npy\n",
            " y_training_data.npy\n",
            " y_training_data_sorted.npy\n",
            " y_train.npy\n",
            " y_valid.npy\n"
          ],
          "name": "stdout"
        }
      ]
    },
    {
      "cell_type": "markdown",
      "metadata": {
        "id": "kjv1799OM7AK"
      },
      "source": [
        "# Reading Data"
      ]
    },
    {
      "cell_type": "code",
      "metadata": {
        "id": "Z0lkEwyX62hk"
      },
      "source": [
        "labels = pd.read_csv(\"train_master.tsv\", sep=\"\\t\") #教師ラベルの読み込み"
      ],
      "execution_count": null,
      "outputs": []
    },
    {
      "cell_type": "code",
      "metadata": {
        "colab": {
          "base_uri": "https://localhost:8080/",
          "height": 202
        },
        "id": "FPzTHzpO69w8",
        "outputId": "93199dbc-1e54-4471-9f81-5d8d4bd5a709"
      },
      "source": [
        "labels.head()"
      ],
      "execution_count": null,
      "outputs": [
        {
          "output_type": "execute_result",
          "data": {
            "text/html": [
              "<div>\n",
              "<style scoped>\n",
              "    .dataframe tbody tr th:only-of-type {\n",
              "        vertical-align: middle;\n",
              "    }\n",
              "\n",
              "    .dataframe tbody tr th {\n",
              "        vertical-align: top;\n",
              "    }\n",
              "\n",
              "    .dataframe thead th {\n",
              "        text-align: right;\n",
              "    }\n",
              "</style>\n",
              "<table border=\"1\" class=\"dataframe\">\n",
              "  <thead>\n",
              "    <tr style=\"text-align: right;\">\n",
              "      <th></th>\n",
              "      <th>file_name</th>\n",
              "      <th>label_id</th>\n",
              "    </tr>\n",
              "  </thead>\n",
              "  <tbody>\n",
              "    <tr>\n",
              "      <th>0</th>\n",
              "      <td>train_00000.png</td>\n",
              "      <td>11</td>\n",
              "    </tr>\n",
              "    <tr>\n",
              "      <th>1</th>\n",
              "      <td>train_00001.png</td>\n",
              "      <td>15</td>\n",
              "    </tr>\n",
              "    <tr>\n",
              "      <th>2</th>\n",
              "      <td>train_00002.png</td>\n",
              "      <td>4</td>\n",
              "    </tr>\n",
              "    <tr>\n",
              "      <th>3</th>\n",
              "      <td>train_00003.png</td>\n",
              "      <td>14</td>\n",
              "    </tr>\n",
              "    <tr>\n",
              "      <th>4</th>\n",
              "      <td>train_00004.png</td>\n",
              "      <td>1</td>\n",
              "    </tr>\n",
              "  </tbody>\n",
              "</table>\n",
              "</div>"
            ],
            "text/plain": [
              "         file_name  label_id\n",
              "0  train_00000.png        11\n",
              "1  train_00001.png        15\n",
              "2  train_00002.png         4\n",
              "3  train_00003.png        14\n",
              "4  train_00004.png         1"
            ]
          },
          "metadata": {
            "tags": []
          },
          "execution_count": 23
        }
      ]
    },
    {
      "cell_type": "code",
      "metadata": {
        "id": "sZag5DZA69cr"
      },
      "source": [
        "master = pd.read_csv(\"label_master.tsv\", sep=\"\\t\") #ラベルマスタの読み込み"
      ],
      "execution_count": null,
      "outputs": []
    },
    {
      "cell_type": "code",
      "metadata": {
        "colab": {
          "base_uri": "https://localhost:8080/",
          "height": 202
        },
        "id": "6GvGH5-D671i",
        "outputId": "94187644-e32a-4ead-d559-376789352ba3"
      },
      "source": [
        "master.head()"
      ],
      "execution_count": null,
      "outputs": [
        {
          "output_type": "execute_result",
          "data": {
            "text/html": [
              "<div>\n",
              "<style scoped>\n",
              "    .dataframe tbody tr th:only-of-type {\n",
              "        vertical-align: middle;\n",
              "    }\n",
              "\n",
              "    .dataframe tbody tr th {\n",
              "        vertical-align: top;\n",
              "    }\n",
              "\n",
              "    .dataframe thead th {\n",
              "        text-align: right;\n",
              "    }\n",
              "</style>\n",
              "<table border=\"1\" class=\"dataframe\">\n",
              "  <thead>\n",
              "    <tr style=\"text-align: right;\">\n",
              "      <th></th>\n",
              "      <th>label_id</th>\n",
              "      <th>label_name</th>\n",
              "    </tr>\n",
              "  </thead>\n",
              "  <tbody>\n",
              "    <tr>\n",
              "      <th>0</th>\n",
              "      <td>0</td>\n",
              "      <td>aquatic_mammals</td>\n",
              "    </tr>\n",
              "    <tr>\n",
              "      <th>1</th>\n",
              "      <td>1</td>\n",
              "      <td>fish</td>\n",
              "    </tr>\n",
              "    <tr>\n",
              "      <th>2</th>\n",
              "      <td>2</td>\n",
              "      <td>flowers</td>\n",
              "    </tr>\n",
              "    <tr>\n",
              "      <th>3</th>\n",
              "      <td>3</td>\n",
              "      <td>food_containers</td>\n",
              "    </tr>\n",
              "    <tr>\n",
              "      <th>4</th>\n",
              "      <td>4</td>\n",
              "      <td>fruit_and_vegetables</td>\n",
              "    </tr>\n",
              "  </tbody>\n",
              "</table>\n",
              "</div>"
            ],
            "text/plain": [
              "   label_id            label_name\n",
              "0         0       aquatic_mammals\n",
              "1         1                  fish\n",
              "2         2               flowers\n",
              "3         3       food_containers\n",
              "4         4  fruit_and_vegetables"
            ]
          },
          "metadata": {
            "tags": []
          },
          "execution_count": 25
        }
      ]
    },
    {
      "cell_type": "code",
      "metadata": {
        "id": "Nmpnw7o73zVZ"
      },
      "source": [
        "sample = pd.read_csv(\"sample_submit.csv\", header=None, sep=\",\")"
      ],
      "execution_count": null,
      "outputs": []
    },
    {
      "cell_type": "code",
      "metadata": {
        "colab": {
          "base_uri": "https://localhost:8080/",
          "height": 222
        },
        "id": "9R8kpPU-RPZh",
        "outputId": "4a45fcf1-21c1-4b97-b773-66a62c36fe3d"
      },
      "source": [
        "sample.head()"
      ],
      "execution_count": null,
      "outputs": [
        {
          "output_type": "execute_result",
          "data": {
            "text/html": [
              "<div>\n",
              "<style scoped>\n",
              "    .dataframe tbody tr th:only-of-type {\n",
              "        vertical-align: middle;\n",
              "    }\n",
              "\n",
              "    .dataframe tbody tr th {\n",
              "        vertical-align: top;\n",
              "    }\n",
              "\n",
              "    .dataframe thead th {\n",
              "        text-align: right;\n",
              "    }\n",
              "</style>\n",
              "<table border=\"1\" class=\"dataframe\">\n",
              "  <thead>\n",
              "    <tr style=\"text-align: right;\">\n",
              "      <th></th>\n",
              "      <th>0</th>\n",
              "      <th>1</th>\n",
              "      <th>2</th>\n",
              "      <th>3</th>\n",
              "      <th>4</th>\n",
              "      <th>5</th>\n",
              "      <th>6</th>\n",
              "      <th>7</th>\n",
              "      <th>8</th>\n",
              "      <th>9</th>\n",
              "      <th>10</th>\n",
              "      <th>11</th>\n",
              "      <th>12</th>\n",
              "      <th>13</th>\n",
              "      <th>14</th>\n",
              "      <th>15</th>\n",
              "      <th>16</th>\n",
              "      <th>17</th>\n",
              "      <th>18</th>\n",
              "      <th>19</th>\n",
              "      <th>20</th>\n",
              "    </tr>\n",
              "  </thead>\n",
              "  <tbody>\n",
              "    <tr>\n",
              "      <th>0</th>\n",
              "      <td>test_00000.png</td>\n",
              "      <td>0.036151</td>\n",
              "      <td>0.014607</td>\n",
              "      <td>0.034591</td>\n",
              "      <td>0.079934</td>\n",
              "      <td>0.053778</td>\n",
              "      <td>0.011690</td>\n",
              "      <td>0.039329</td>\n",
              "      <td>0.079885</td>\n",
              "      <td>0.047027</td>\n",
              "      <td>0.055246</td>\n",
              "      <td>0.062593</td>\n",
              "      <td>0.037947</td>\n",
              "      <td>0.080989</td>\n",
              "      <td>0.066377</td>\n",
              "      <td>0.020849</td>\n",
              "      <td>0.057315</td>\n",
              "      <td>0.056351</td>\n",
              "      <td>0.033405</td>\n",
              "      <td>0.078505</td>\n",
              "      <td>0.053430</td>\n",
              "    </tr>\n",
              "    <tr>\n",
              "      <th>1</th>\n",
              "      <td>test_00001.png</td>\n",
              "      <td>0.033393</td>\n",
              "      <td>0.037818</td>\n",
              "      <td>0.021027</td>\n",
              "      <td>0.043661</td>\n",
              "      <td>0.082885</td>\n",
              "      <td>0.041105</td>\n",
              "      <td>0.069309</td>\n",
              "      <td>0.059735</td>\n",
              "      <td>0.023879</td>\n",
              "      <td>0.001008</td>\n",
              "      <td>0.077569</td>\n",
              "      <td>0.053666</td>\n",
              "      <td>0.044468</td>\n",
              "      <td>0.040490</td>\n",
              "      <td>0.090077</td>\n",
              "      <td>0.050215</td>\n",
              "      <td>0.052718</td>\n",
              "      <td>0.067940</td>\n",
              "      <td>0.030642</td>\n",
              "      <td>0.078394</td>\n",
              "    </tr>\n",
              "    <tr>\n",
              "      <th>2</th>\n",
              "      <td>test_00002.png</td>\n",
              "      <td>0.098902</td>\n",
              "      <td>0.047091</td>\n",
              "      <td>0.022525</td>\n",
              "      <td>0.059422</td>\n",
              "      <td>0.038273</td>\n",
              "      <td>0.011877</td>\n",
              "      <td>0.086344</td>\n",
              "      <td>0.054882</td>\n",
              "      <td>0.046612</td>\n",
              "      <td>0.050381</td>\n",
              "      <td>0.028493</td>\n",
              "      <td>0.027183</td>\n",
              "      <td>0.092749</td>\n",
              "      <td>0.076549</td>\n",
              "      <td>0.026914</td>\n",
              "      <td>0.099406</td>\n",
              "      <td>0.032409</td>\n",
              "      <td>0.038710</td>\n",
              "      <td>0.000611</td>\n",
              "      <td>0.060666</td>\n",
              "    </tr>\n",
              "    <tr>\n",
              "      <th>3</th>\n",
              "      <td>test_00003.png</td>\n",
              "      <td>0.054705</td>\n",
              "      <td>0.080344</td>\n",
              "      <td>0.047048</td>\n",
              "      <td>0.083701</td>\n",
              "      <td>0.043293</td>\n",
              "      <td>0.068830</td>\n",
              "      <td>0.026523</td>\n",
              "      <td>0.076391</td>\n",
              "      <td>0.008649</td>\n",
              "      <td>0.071797</td>\n",
              "      <td>0.020802</td>\n",
              "      <td>0.054486</td>\n",
              "      <td>0.065079</td>\n",
              "      <td>0.060174</td>\n",
              "      <td>0.045692</td>\n",
              "      <td>0.052243</td>\n",
              "      <td>0.006735</td>\n",
              "      <td>0.036344</td>\n",
              "      <td>0.070731</td>\n",
              "      <td>0.026432</td>\n",
              "    </tr>\n",
              "    <tr>\n",
              "      <th>4</th>\n",
              "      <td>test_00004.png</td>\n",
              "      <td>0.087472</td>\n",
              "      <td>0.045188</td>\n",
              "      <td>0.091187</td>\n",
              "      <td>0.003265</td>\n",
              "      <td>0.110322</td>\n",
              "      <td>0.102048</td>\n",
              "      <td>0.048273</td>\n",
              "      <td>0.080005</td>\n",
              "      <td>0.050142</td>\n",
              "      <td>0.018821</td>\n",
              "      <td>0.096636</td>\n",
              "      <td>0.038774</td>\n",
              "      <td>0.050342</td>\n",
              "      <td>0.044085</td>\n",
              "      <td>0.057429</td>\n",
              "      <td>0.023512</td>\n",
              "      <td>0.018324</td>\n",
              "      <td>0.002596</td>\n",
              "      <td>0.030469</td>\n",
              "      <td>0.001106</td>\n",
              "    </tr>\n",
              "  </tbody>\n",
              "</table>\n",
              "</div>"
            ],
            "text/plain": [
              "               0         1         2   ...        18        19        20\n",
              "0  test_00000.png  0.036151  0.014607  ...  0.033405  0.078505  0.053430\n",
              "1  test_00001.png  0.033393  0.037818  ...  0.067940  0.030642  0.078394\n",
              "2  test_00002.png  0.098902  0.047091  ...  0.038710  0.000611  0.060666\n",
              "3  test_00003.png  0.054705  0.080344  ...  0.036344  0.070731  0.026432\n",
              "4  test_00004.png  0.087472  0.045188  ...  0.002596  0.030469  0.001106\n",
              "\n",
              "[5 rows x 21 columns]"
            ]
          },
          "metadata": {
            "tags": []
          },
          "execution_count": 27
        }
      ]
    },
    {
      "cell_type": "code",
      "metadata": {
        "id": "jsPL5snkSfN3"
      },
      "source": [
        "# X_train = np.load('X_training_data_sorted.npy')"
      ],
      "execution_count": null,
      "outputs": []
    },
    {
      "cell_type": "code",
      "metadata": {
        "id": "sNjXI8jXSqfa"
      },
      "source": [
        "# Y_train = np.load('y_training_data_sorted.npy')"
      ],
      "execution_count": null,
      "outputs": []
    },
    {
      "cell_type": "code",
      "metadata": {
        "id": "_wm-sPAJSrJD"
      },
      "source": [
        "# X_test = np.load('test_data.npy')"
      ],
      "execution_count": null,
      "outputs": []
    },
    {
      "cell_type": "code",
      "metadata": {
        "colab": {
          "base_uri": "https://localhost:8080/"
        },
        "id": "xG70Rak6Fkns",
        "outputId": "a8e6f1fe-9933-48bc-d60c-0dd47638c688"
      },
      "source": [
        "Y_train"
      ],
      "execution_count": null,
      "outputs": [
        {
          "output_type": "execute_result",
          "data": {
            "text/plain": [
              "array([11, 15,  4, ...,  8,  7,  1], dtype=int32)"
            ]
          },
          "metadata": {
            "tags": []
          },
          "execution_count": 31
        }
      ]
    },
    {
      "cell_type": "code",
      "metadata": {
        "id": "NEq7o2phLNil",
        "colab": {
          "base_uri": "https://localhost:8080/"
        },
        "outputId": "78260a6b-7e4a-46ef-95c5-375ec3ec143f"
      },
      "source": [
        "(X_train, Y_train), (X_test, Y_test) = cifar100.load_data(label_mode='fine')"
      ],
      "execution_count": null,
      "outputs": [
        {
          "output_type": "stream",
          "text": [
            "Downloading data from https://www.cs.toronto.edu/~kriz/cifar-100-python.tar.gz\n",
            "169009152/169001437 [==============================] - 6s 0us/step\n"
          ],
          "name": "stdout"
        }
      ]
    },
    {
      "cell_type": "markdown",
      "metadata": {
        "id": "2_W0PYSGFoGP"
      },
      "source": [
        "# Normalization"
      ]
    },
    {
      "cell_type": "code",
      "metadata": {
        "id": "3iFSBFZ5SSsQ"
      },
      "source": [
        "# train = X_train / 255\n",
        "# test = X_test / 255\n",
        "# randAugument のコードで標準化するため\n",
        "train = X_train\n",
        "test = X_test"
      ],
      "execution_count": null,
      "outputs": []
    },
    {
      "cell_type": "markdown",
      "metadata": {
        "id": "CBweHLTjFx3A"
      },
      "source": [
        "# Splitting Data"
      ]
    },
    {
      "cell_type": "code",
      "metadata": {
        "colab": {
          "base_uri": "https://localhost:8080/"
        },
        "id": "r8Bwa_YSTwje",
        "outputId": "f529cc18-9f04-4078-87c8-61aa9c548d61"
      },
      "source": [
        "# Spliting the training data into a training data and a validation data.\r\n",
        "val_index_list = []\r\n",
        "st = StratifiedShuffleSplit(n_splits = 2, test_size = 0.2, random_state = 1)\r\n",
        "for train_index, val_index in st.split(train, Y_train):\r\n",
        "    val_index_list.append(val_index)\r\n",
        "    X_train_image, X_val_image, y_train_label, y_val_label = train[train_index], train[val_index], Y_train[train_index], Y_train[val_index]\r\n",
        "    df_val = labels.iloc[val_index]\r\n",
        "print(\"The number of training data : \", X_train_image.shape[0])\r\n",
        "print(\"The number of validation data : \", X_val_image.shape[0])"
      ],
      "execution_count": null,
      "outputs": [
        {
          "output_type": "stream",
          "text": [
            "The number of training data :  40000\n",
            "The number of validation data :  10000\n"
          ],
          "name": "stdout"
        }
      ]
    },
    {
      "cell_type": "code",
      "metadata": {
        "colab": {
          "base_uri": "https://localhost:8080/",
          "height": 415
        },
        "id": "ZtH0thyPK3SU",
        "outputId": "7fe702ec-d6e2-4f5e-b9b6-57d9db408a39"
      },
      "source": [
        "df_val"
      ],
      "execution_count": null,
      "outputs": [
        {
          "output_type": "execute_result",
          "data": {
            "text/html": [
              "<div>\n",
              "<style scoped>\n",
              "    .dataframe tbody tr th:only-of-type {\n",
              "        vertical-align: middle;\n",
              "    }\n",
              "\n",
              "    .dataframe tbody tr th {\n",
              "        vertical-align: top;\n",
              "    }\n",
              "\n",
              "    .dataframe thead th {\n",
              "        text-align: right;\n",
              "    }\n",
              "</style>\n",
              "<table border=\"1\" class=\"dataframe\">\n",
              "  <thead>\n",
              "    <tr style=\"text-align: right;\">\n",
              "      <th></th>\n",
              "      <th>file_name</th>\n",
              "      <th>label_id</th>\n",
              "    </tr>\n",
              "  </thead>\n",
              "  <tbody>\n",
              "    <tr>\n",
              "      <th>43035</th>\n",
              "      <td>train_43035.png</td>\n",
              "      <td>3</td>\n",
              "    </tr>\n",
              "    <tr>\n",
              "      <th>26211</th>\n",
              "      <td>train_26211.png</td>\n",
              "      <td>1</td>\n",
              "    </tr>\n",
              "    <tr>\n",
              "      <th>4522</th>\n",
              "      <td>train_04522.png</td>\n",
              "      <td>5</td>\n",
              "    </tr>\n",
              "    <tr>\n",
              "      <th>45187</th>\n",
              "      <td>train_45187.png</td>\n",
              "      <td>5</td>\n",
              "    </tr>\n",
              "    <tr>\n",
              "      <th>1148</th>\n",
              "      <td>train_01148.png</td>\n",
              "      <td>0</td>\n",
              "    </tr>\n",
              "    <tr>\n",
              "      <th>...</th>\n",
              "      <td>...</td>\n",
              "      <td>...</td>\n",
              "    </tr>\n",
              "    <tr>\n",
              "      <th>3999</th>\n",
              "      <td>train_03999.png</td>\n",
              "      <td>14</td>\n",
              "    </tr>\n",
              "    <tr>\n",
              "      <th>34320</th>\n",
              "      <td>train_34320.png</td>\n",
              "      <td>4</td>\n",
              "    </tr>\n",
              "    <tr>\n",
              "      <th>27970</th>\n",
              "      <td>train_27970.png</td>\n",
              "      <td>10</td>\n",
              "    </tr>\n",
              "    <tr>\n",
              "      <th>13354</th>\n",
              "      <td>train_13354.png</td>\n",
              "      <td>19</td>\n",
              "    </tr>\n",
              "    <tr>\n",
              "      <th>9064</th>\n",
              "      <td>train_09064.png</td>\n",
              "      <td>7</td>\n",
              "    </tr>\n",
              "  </tbody>\n",
              "</table>\n",
              "<p>10000 rows × 2 columns</p>\n",
              "</div>"
            ],
            "text/plain": [
              "             file_name  label_id\n",
              "43035  train_43035.png         3\n",
              "26211  train_26211.png         1\n",
              "4522   train_04522.png         5\n",
              "45187  train_45187.png         5\n",
              "1148   train_01148.png         0\n",
              "...                ...       ...\n",
              "3999   train_03999.png        14\n",
              "34320  train_34320.png         4\n",
              "27970  train_27970.png        10\n",
              "13354  train_13354.png        19\n",
              "9064   train_09064.png         7\n",
              "\n",
              "[10000 rows x 2 columns]"
            ]
          },
          "metadata": {
            "tags": []
          },
          "execution_count": 47
        }
      ]
    },
    {
      "cell_type": "markdown",
      "metadata": {
        "id": "IBJmX064GPx6"
      },
      "source": [
        "# Setting Callbacks"
      ]
    },
    {
      "cell_type": "code",
      "metadata": {
        "id": "1h4OyH5KYabA"
      },
      "source": [
        "early_stopping = EarlyStopping(\r\n",
        "    monitor='val_loss',\r\n",
        "    patience=10,\r\n",
        "    verbose=1\r\n",
        ")"
      ],
      "execution_count": null,
      "outputs": []
    },
    {
      "cell_type": "code",
      "metadata": {
        "id": "xstWShgdYa4K"
      },
      "source": [
        "reduce_lr = ReduceLROnPlateau(\r\n",
        "    monitor='val_loss',\r\n",
        "    factor=0.1,\r\n",
        "    patience=3,\r\n",
        "    verbose=1\r\n",
        ")"
      ],
      "execution_count": null,
      "outputs": []
    },
    {
      "cell_type": "code",
      "metadata": {
        "colab": {
          "base_uri": "https://localhost:8080/"
        },
        "id": "TiyrteRJWStm",
        "outputId": "18d371c9-cfd9-4cff-cb35-7bb68c13680f"
      },
      "source": [
        "# ModelCheckpoint\r\n",
        "weights_dir='./'\r\n",
        "if os.path.exists(weights_dir)==False:os.mkdir(weights_dir)\r\n",
        "model_checkpoint = ModelCheckpoint(\r\n",
        "    weights_dir + \"val_loss{val_loss:.3f}.hdf5\",\r\n",
        "    monitor='val_loss',\r\n",
        "    verbose=1,\r\n",
        "    save_best_only=True,\r\n",
        "    save_weights_only=True,\r\n",
        "    period=3\r\n",
        ")\r\n"
      ],
      "execution_count": null,
      "outputs": [
        {
          "output_type": "stream",
          "text": [
            "WARNING:tensorflow:`period` argument is deprecated. Please use `save_freq` to specify the frequency in number of batches seen.\n"
          ],
          "name": "stdout"
        }
      ]
    },
    {
      "cell_type": "markdown",
      "metadata": {
        "id": "KrsXJQekKUoB"
      },
      "source": [
        "# Setting Various Parameters"
      ]
    },
    {
      "cell_type": "code",
      "metadata": {
        "id": "GgV1IwiCKcLR"
      },
      "source": [
        "batch_size = 32\r\n",
        "epochs = 50\r\n",
        "\r\n",
        "steps_per_epoch  = X_train_image.shape[0] // batch_size\r\n",
        "validation_steps = X_val_image.shape[0] // batch_size"
      ],
      "execution_count": null,
      "outputs": []
    },
    {
      "cell_type": "markdown",
      "metadata": {
        "id": "iCJhOphrJtYx"
      },
      "source": [
        "# Data Augmentation"
      ]
    },
    {
      "cell_type": "code",
      "metadata": {
        "id": "jOIcjukW0VYV"
      },
      "source": [
        "datagen = ImageDataGenerator(\r\n",
        "    featurewise_center = False,\r\n",
        "    samplewise_center = False,\r\n",
        "    featurewise_std_normalization = False,\r\n",
        "    samplewise_std_normalization = False,\r\n",
        "    zca_whitening = False,\r\n",
        "    rotation_range = 0,\r\n",
        "    width_shift_range = 0.1,\r\n",
        "    height_shift_range = 0.1,\r\n",
        "    horizontal_flip = True,\r\n",
        "    vertical_flip = False\r\n",
        ")"
      ],
      "execution_count": null,
      "outputs": []
    },
    {
      "cell_type": "markdown",
      "metadata": {
        "id": "DojZAGNNGW-D"
      },
      "source": [
        "# Fine Tuning by EfficientNetB0"
      ]
    },
    {
      "cell_type": "markdown",
      "metadata": {
        "id": "t0_ETl3XHWpb"
      },
      "source": [
        "### （１）Resizing images"
      ]
    },
    {
      "cell_type": "code",
      "metadata": {
        "id": "qi_ERMvl_wHf"
      },
      "source": [
        "inputs = tf.keras.Input(shape=(None, None, 3))\r\n",
        "x = tf.keras.layers.Lambda(lambda img: tf.image.resize(img, (224, 224)))(inputs)\r\n",
        "# x = tf.keras.layers.Lambda(EfficientNetB0.)(x)"
      ],
      "execution_count": null,
      "outputs": []
    },
    {
      "cell_type": "markdown",
      "metadata": {
        "id": "G09p-MepHwF3"
      },
      "source": [
        "### （２）Loading the trained model"
      ]
    },
    {
      "cell_type": "code",
      "metadata": {
        "id": "1StH4BWB1IPZ",
        "colab": {
          "base_uri": "https://localhost:8080/"
        },
        "outputId": "68fe715d-3401-4660-e153-9164c7e3a605"
      },
      "source": [
        "# from efficientnet import EfficientNetB0\n",
        "input_shape = (224, 224, 3)\n",
        "base_model = EfficientNetB0(\n",
        "                            input_shape=input_shape,\n",
        "                            weights='imagenet',\n",
        "                            include_top=False,\n",
        "                            drop_connect_rate=0.4, #正則化 defalt値は0.2\n",
        "                            input_tensor=x)\n"
      ],
      "execution_count": null,
      "outputs": [
        {
          "output_type": "stream",
          "text": [
            "Downloading data from https://github.com/Callidior/keras-applications/releases/download/efficientnet/efficientnet-b0_weights_tf_dim_ordering_tf_kernels_autoaugment_notop.h5\n",
            "16809984/16804768 [==============================] - 1s 0us/step\n"
          ],
          "name": "stdout"
        }
      ]
    },
    {
      "cell_type": "markdown",
      "metadata": {
        "id": "sbw9x0cRICuD"
      },
      "source": [
        "### （３）Rebuild the model"
      ]
    },
    {
      "cell_type": "code",
      "metadata": {
        "id": "dzPFHbXS1IMp"
      },
      "source": [
        "x = base_model.output\n",
        "x = GlobalAveragePooling2D()(x)\n",
        "x = Dense(512, activation='relu')(x)\n",
        "x = Dropout(rate=0.25)(x)\n",
        "predictions = Dense(100, activation='softmax')(x)"
      ],
      "execution_count": null,
      "outputs": []
    },
    {
      "cell_type": "code",
      "metadata": {
        "id": "uaTG-2toaf90"
      },
      "source": [
        "# base_model.trainable = False"
      ],
      "execution_count": null,
      "outputs": []
    },
    {
      "cell_type": "code",
      "metadata": {
        "id": "jy5Z456K1IJ8"
      },
      "source": [
        "# ネットワーク定義\n",
        "model = Model(inputs = base_model.input, outputs = predictions)"
      ],
      "execution_count": null,
      "outputs": []
    },
    {
      "cell_type": "code",
      "metadata": {
        "id": "27a9Czv-8hZU",
        "colab": {
          "base_uri": "https://localhost:8080/"
        },
        "outputId": "13c479b6-b050-43de-9842-8367cb188ccf"
      },
      "source": [
        "print(model.summary())"
      ],
      "execution_count": null,
      "outputs": [
        {
          "output_type": "stream",
          "text": [
            "Model: \"model\"\n",
            "__________________________________________________________________________________________________\n",
            "Layer (type)                    Output Shape         Param #     Connected to                     \n",
            "==================================================================================================\n",
            "input_1 (InputLayer)            [(None, None, None,  0                                            \n",
            "__________________________________________________________________________________________________\n",
            "lambda (Lambda)                 (None, 224, 224, 3)  0           input_1[0][0]                    \n",
            "__________________________________________________________________________________________________\n",
            "stem_conv (Conv2D)              (None, 112, 112, 32) 864         lambda[0][0]                     \n",
            "__________________________________________________________________________________________________\n",
            "stem_bn (BatchNormalization)    (None, 112, 112, 32) 128         stem_conv[0][0]                  \n",
            "__________________________________________________________________________________________________\n",
            "stem_activation (Activation)    (None, 112, 112, 32) 0           stem_bn[0][0]                    \n",
            "__________________________________________________________________________________________________\n",
            "block1a_dwconv (DepthwiseConv2D (None, 112, 112, 32) 288         stem_activation[0][0]            \n",
            "__________________________________________________________________________________________________\n",
            "block1a_bn (BatchNormalization) (None, 112, 112, 32) 128         block1a_dwconv[0][0]             \n",
            "__________________________________________________________________________________________________\n",
            "block1a_activation (Activation) (None, 112, 112, 32) 0           block1a_bn[0][0]                 \n",
            "__________________________________________________________________________________________________\n",
            "block1a_se_squeeze (GlobalAvera (None, 32)           0           block1a_activation[0][0]         \n",
            "__________________________________________________________________________________________________\n",
            "block1a_se_reshape (Reshape)    (None, 1, 1, 32)     0           block1a_se_squeeze[0][0]         \n",
            "__________________________________________________________________________________________________\n",
            "block1a_se_reduce (Conv2D)      (None, 1, 1, 8)      264         block1a_se_reshape[0][0]         \n",
            "__________________________________________________________________________________________________\n",
            "block1a_se_expand (Conv2D)      (None, 1, 1, 32)     288         block1a_se_reduce[0][0]          \n",
            "__________________________________________________________________________________________________\n",
            "block1a_se_excite (Multiply)    (None, 112, 112, 32) 0           block1a_activation[0][0]         \n",
            "                                                                 block1a_se_expand[0][0]          \n",
            "__________________________________________________________________________________________________\n",
            "block1a_project_conv (Conv2D)   (None, 112, 112, 16) 512         block1a_se_excite[0][0]          \n",
            "__________________________________________________________________________________________________\n",
            "block1a_project_bn (BatchNormal (None, 112, 112, 16) 64          block1a_project_conv[0][0]       \n",
            "__________________________________________________________________________________________________\n",
            "block2a_expand_conv (Conv2D)    (None, 112, 112, 96) 1536        block1a_project_bn[0][0]         \n",
            "__________________________________________________________________________________________________\n",
            "block2a_expand_bn (BatchNormali (None, 112, 112, 96) 384         block2a_expand_conv[0][0]        \n",
            "__________________________________________________________________________________________________\n",
            "block2a_expand_activation (Acti (None, 112, 112, 96) 0           block2a_expand_bn[0][0]          \n",
            "__________________________________________________________________________________________________\n",
            "block2a_dwconv (DepthwiseConv2D (None, 56, 56, 96)   864         block2a_expand_activation[0][0]  \n",
            "__________________________________________________________________________________________________\n",
            "block2a_bn (BatchNormalization) (None, 56, 56, 96)   384         block2a_dwconv[0][0]             \n",
            "__________________________________________________________________________________________________\n",
            "block2a_activation (Activation) (None, 56, 56, 96)   0           block2a_bn[0][0]                 \n",
            "__________________________________________________________________________________________________\n",
            "block2a_se_squeeze (GlobalAvera (None, 96)           0           block2a_activation[0][0]         \n",
            "__________________________________________________________________________________________________\n",
            "block2a_se_reshape (Reshape)    (None, 1, 1, 96)     0           block2a_se_squeeze[0][0]         \n",
            "__________________________________________________________________________________________________\n",
            "block2a_se_reduce (Conv2D)      (None, 1, 1, 4)      388         block2a_se_reshape[0][0]         \n",
            "__________________________________________________________________________________________________\n",
            "block2a_se_expand (Conv2D)      (None, 1, 1, 96)     480         block2a_se_reduce[0][0]          \n",
            "__________________________________________________________________________________________________\n",
            "block2a_se_excite (Multiply)    (None, 56, 56, 96)   0           block2a_activation[0][0]         \n",
            "                                                                 block2a_se_expand[0][0]          \n",
            "__________________________________________________________________________________________________\n",
            "block2a_project_conv (Conv2D)   (None, 56, 56, 24)   2304        block2a_se_excite[0][0]          \n",
            "__________________________________________________________________________________________________\n",
            "block2a_project_bn (BatchNormal (None, 56, 56, 24)   96          block2a_project_conv[0][0]       \n",
            "__________________________________________________________________________________________________\n",
            "block2b_expand_conv (Conv2D)    (None, 56, 56, 144)  3456        block2a_project_bn[0][0]         \n",
            "__________________________________________________________________________________________________\n",
            "block2b_expand_bn (BatchNormali (None, 56, 56, 144)  576         block2b_expand_conv[0][0]        \n",
            "__________________________________________________________________________________________________\n",
            "block2b_expand_activation (Acti (None, 56, 56, 144)  0           block2b_expand_bn[0][0]          \n",
            "__________________________________________________________________________________________________\n",
            "block2b_dwconv (DepthwiseConv2D (None, 56, 56, 144)  1296        block2b_expand_activation[0][0]  \n",
            "__________________________________________________________________________________________________\n",
            "block2b_bn (BatchNormalization) (None, 56, 56, 144)  576         block2b_dwconv[0][0]             \n",
            "__________________________________________________________________________________________________\n",
            "block2b_activation (Activation) (None, 56, 56, 144)  0           block2b_bn[0][0]                 \n",
            "__________________________________________________________________________________________________\n",
            "block2b_se_squeeze (GlobalAvera (None, 144)          0           block2b_activation[0][0]         \n",
            "__________________________________________________________________________________________________\n",
            "block2b_se_reshape (Reshape)    (None, 1, 1, 144)    0           block2b_se_squeeze[0][0]         \n",
            "__________________________________________________________________________________________________\n",
            "block2b_se_reduce (Conv2D)      (None, 1, 1, 6)      870         block2b_se_reshape[0][0]         \n",
            "__________________________________________________________________________________________________\n",
            "block2b_se_expand (Conv2D)      (None, 1, 1, 144)    1008        block2b_se_reduce[0][0]          \n",
            "__________________________________________________________________________________________________\n",
            "block2b_se_excite (Multiply)    (None, 56, 56, 144)  0           block2b_activation[0][0]         \n",
            "                                                                 block2b_se_expand[0][0]          \n",
            "__________________________________________________________________________________________________\n",
            "block2b_project_conv (Conv2D)   (None, 56, 56, 24)   3456        block2b_se_excite[0][0]          \n",
            "__________________________________________________________________________________________________\n",
            "block2b_project_bn (BatchNormal (None, 56, 56, 24)   96          block2b_project_conv[0][0]       \n",
            "__________________________________________________________________________________________________\n",
            "block2b_drop (FixedDropout)     (None, 56, 56, 24)   0           block2b_project_bn[0][0]         \n",
            "__________________________________________________________________________________________________\n",
            "block2b_add (Add)               (None, 56, 56, 24)   0           block2b_drop[0][0]               \n",
            "                                                                 block2a_project_bn[0][0]         \n",
            "__________________________________________________________________________________________________\n",
            "block3a_expand_conv (Conv2D)    (None, 56, 56, 144)  3456        block2b_add[0][0]                \n",
            "__________________________________________________________________________________________________\n",
            "block3a_expand_bn (BatchNormali (None, 56, 56, 144)  576         block3a_expand_conv[0][0]        \n",
            "__________________________________________________________________________________________________\n",
            "block3a_expand_activation (Acti (None, 56, 56, 144)  0           block3a_expand_bn[0][0]          \n",
            "__________________________________________________________________________________________________\n",
            "block3a_dwconv (DepthwiseConv2D (None, 28, 28, 144)  3600        block3a_expand_activation[0][0]  \n",
            "__________________________________________________________________________________________________\n",
            "block3a_bn (BatchNormalization) (None, 28, 28, 144)  576         block3a_dwconv[0][0]             \n",
            "__________________________________________________________________________________________________\n",
            "block3a_activation (Activation) (None, 28, 28, 144)  0           block3a_bn[0][0]                 \n",
            "__________________________________________________________________________________________________\n",
            "block3a_se_squeeze (GlobalAvera (None, 144)          0           block3a_activation[0][0]         \n",
            "__________________________________________________________________________________________________\n",
            "block3a_se_reshape (Reshape)    (None, 1, 1, 144)    0           block3a_se_squeeze[0][0]         \n",
            "__________________________________________________________________________________________________\n",
            "block3a_se_reduce (Conv2D)      (None, 1, 1, 6)      870         block3a_se_reshape[0][0]         \n",
            "__________________________________________________________________________________________________\n",
            "block3a_se_expand (Conv2D)      (None, 1, 1, 144)    1008        block3a_se_reduce[0][0]          \n",
            "__________________________________________________________________________________________________\n",
            "block3a_se_excite (Multiply)    (None, 28, 28, 144)  0           block3a_activation[0][0]         \n",
            "                                                                 block3a_se_expand[0][0]          \n",
            "__________________________________________________________________________________________________\n",
            "block3a_project_conv (Conv2D)   (None, 28, 28, 40)   5760        block3a_se_excite[0][0]          \n",
            "__________________________________________________________________________________________________\n",
            "block3a_project_bn (BatchNormal (None, 28, 28, 40)   160         block3a_project_conv[0][0]       \n",
            "__________________________________________________________________________________________________\n",
            "block3b_expand_conv (Conv2D)    (None, 28, 28, 240)  9600        block3a_project_bn[0][0]         \n",
            "__________________________________________________________________________________________________\n",
            "block3b_expand_bn (BatchNormali (None, 28, 28, 240)  960         block3b_expand_conv[0][0]        \n",
            "__________________________________________________________________________________________________\n",
            "block3b_expand_activation (Acti (None, 28, 28, 240)  0           block3b_expand_bn[0][0]          \n",
            "__________________________________________________________________________________________________\n",
            "block3b_dwconv (DepthwiseConv2D (None, 28, 28, 240)  6000        block3b_expand_activation[0][0]  \n",
            "__________________________________________________________________________________________________\n",
            "block3b_bn (BatchNormalization) (None, 28, 28, 240)  960         block3b_dwconv[0][0]             \n",
            "__________________________________________________________________________________________________\n",
            "block3b_activation (Activation) (None, 28, 28, 240)  0           block3b_bn[0][0]                 \n",
            "__________________________________________________________________________________________________\n",
            "block3b_se_squeeze (GlobalAvera (None, 240)          0           block3b_activation[0][0]         \n",
            "__________________________________________________________________________________________________\n",
            "block3b_se_reshape (Reshape)    (None, 1, 1, 240)    0           block3b_se_squeeze[0][0]         \n",
            "__________________________________________________________________________________________________\n",
            "block3b_se_reduce (Conv2D)      (None, 1, 1, 10)     2410        block3b_se_reshape[0][0]         \n",
            "__________________________________________________________________________________________________\n",
            "block3b_se_expand (Conv2D)      (None, 1, 1, 240)    2640        block3b_se_reduce[0][0]          \n",
            "__________________________________________________________________________________________________\n",
            "block3b_se_excite (Multiply)    (None, 28, 28, 240)  0           block3b_activation[0][0]         \n",
            "                                                                 block3b_se_expand[0][0]          \n",
            "__________________________________________________________________________________________________\n",
            "block3b_project_conv (Conv2D)   (None, 28, 28, 40)   9600        block3b_se_excite[0][0]          \n",
            "__________________________________________________________________________________________________\n",
            "block3b_project_bn (BatchNormal (None, 28, 28, 40)   160         block3b_project_conv[0][0]       \n",
            "__________________________________________________________________________________________________\n",
            "block3b_drop (FixedDropout)     (None, 28, 28, 40)   0           block3b_project_bn[0][0]         \n",
            "__________________________________________________________________________________________________\n",
            "block3b_add (Add)               (None, 28, 28, 40)   0           block3b_drop[0][0]               \n",
            "                                                                 block3a_project_bn[0][0]         \n",
            "__________________________________________________________________________________________________\n",
            "block4a_expand_conv (Conv2D)    (None, 28, 28, 240)  9600        block3b_add[0][0]                \n",
            "__________________________________________________________________________________________________\n",
            "block4a_expand_bn (BatchNormali (None, 28, 28, 240)  960         block4a_expand_conv[0][0]        \n",
            "__________________________________________________________________________________________________\n",
            "block4a_expand_activation (Acti (None, 28, 28, 240)  0           block4a_expand_bn[0][0]          \n",
            "__________________________________________________________________________________________________\n",
            "block4a_dwconv (DepthwiseConv2D (None, 14, 14, 240)  2160        block4a_expand_activation[0][0]  \n",
            "__________________________________________________________________________________________________\n",
            "block4a_bn (BatchNormalization) (None, 14, 14, 240)  960         block4a_dwconv[0][0]             \n",
            "__________________________________________________________________________________________________\n",
            "block4a_activation (Activation) (None, 14, 14, 240)  0           block4a_bn[0][0]                 \n",
            "__________________________________________________________________________________________________\n",
            "block4a_se_squeeze (GlobalAvera (None, 240)          0           block4a_activation[0][0]         \n",
            "__________________________________________________________________________________________________\n",
            "block4a_se_reshape (Reshape)    (None, 1, 1, 240)    0           block4a_se_squeeze[0][0]         \n",
            "__________________________________________________________________________________________________\n",
            "block4a_se_reduce (Conv2D)      (None, 1, 1, 10)     2410        block4a_se_reshape[0][0]         \n",
            "__________________________________________________________________________________________________\n",
            "block4a_se_expand (Conv2D)      (None, 1, 1, 240)    2640        block4a_se_reduce[0][0]          \n",
            "__________________________________________________________________________________________________\n",
            "block4a_se_excite (Multiply)    (None, 14, 14, 240)  0           block4a_activation[0][0]         \n",
            "                                                                 block4a_se_expand[0][0]          \n",
            "__________________________________________________________________________________________________\n",
            "block4a_project_conv (Conv2D)   (None, 14, 14, 80)   19200       block4a_se_excite[0][0]          \n",
            "__________________________________________________________________________________________________\n",
            "block4a_project_bn (BatchNormal (None, 14, 14, 80)   320         block4a_project_conv[0][0]       \n",
            "__________________________________________________________________________________________________\n",
            "block4b_expand_conv (Conv2D)    (None, 14, 14, 480)  38400       block4a_project_bn[0][0]         \n",
            "__________________________________________________________________________________________________\n",
            "block4b_expand_bn (BatchNormali (None, 14, 14, 480)  1920        block4b_expand_conv[0][0]        \n",
            "__________________________________________________________________________________________________\n",
            "block4b_expand_activation (Acti (None, 14, 14, 480)  0           block4b_expand_bn[0][0]          \n",
            "__________________________________________________________________________________________________\n",
            "block4b_dwconv (DepthwiseConv2D (None, 14, 14, 480)  4320        block4b_expand_activation[0][0]  \n",
            "__________________________________________________________________________________________________\n",
            "block4b_bn (BatchNormalization) (None, 14, 14, 480)  1920        block4b_dwconv[0][0]             \n",
            "__________________________________________________________________________________________________\n",
            "block4b_activation (Activation) (None, 14, 14, 480)  0           block4b_bn[0][0]                 \n",
            "__________________________________________________________________________________________________\n",
            "block4b_se_squeeze (GlobalAvera (None, 480)          0           block4b_activation[0][0]         \n",
            "__________________________________________________________________________________________________\n",
            "block4b_se_reshape (Reshape)    (None, 1, 1, 480)    0           block4b_se_squeeze[0][0]         \n",
            "__________________________________________________________________________________________________\n",
            "block4b_se_reduce (Conv2D)      (None, 1, 1, 20)     9620        block4b_se_reshape[0][0]         \n",
            "__________________________________________________________________________________________________\n",
            "block4b_se_expand (Conv2D)      (None, 1, 1, 480)    10080       block4b_se_reduce[0][0]          \n",
            "__________________________________________________________________________________________________\n",
            "block4b_se_excite (Multiply)    (None, 14, 14, 480)  0           block4b_activation[0][0]         \n",
            "                                                                 block4b_se_expand[0][0]          \n",
            "__________________________________________________________________________________________________\n",
            "block4b_project_conv (Conv2D)   (None, 14, 14, 80)   38400       block4b_se_excite[0][0]          \n",
            "__________________________________________________________________________________________________\n",
            "block4b_project_bn (BatchNormal (None, 14, 14, 80)   320         block4b_project_conv[0][0]       \n",
            "__________________________________________________________________________________________________\n",
            "block4b_drop (FixedDropout)     (None, 14, 14, 80)   0           block4b_project_bn[0][0]         \n",
            "__________________________________________________________________________________________________\n",
            "block4b_add (Add)               (None, 14, 14, 80)   0           block4b_drop[0][0]               \n",
            "                                                                 block4a_project_bn[0][0]         \n",
            "__________________________________________________________________________________________________\n",
            "block4c_expand_conv (Conv2D)    (None, 14, 14, 480)  38400       block4b_add[0][0]                \n",
            "__________________________________________________________________________________________________\n",
            "block4c_expand_bn (BatchNormali (None, 14, 14, 480)  1920        block4c_expand_conv[0][0]        \n",
            "__________________________________________________________________________________________________\n",
            "block4c_expand_activation (Acti (None, 14, 14, 480)  0           block4c_expand_bn[0][0]          \n",
            "__________________________________________________________________________________________________\n",
            "block4c_dwconv (DepthwiseConv2D (None, 14, 14, 480)  4320        block4c_expand_activation[0][0]  \n",
            "__________________________________________________________________________________________________\n",
            "block4c_bn (BatchNormalization) (None, 14, 14, 480)  1920        block4c_dwconv[0][0]             \n",
            "__________________________________________________________________________________________________\n",
            "block4c_activation (Activation) (None, 14, 14, 480)  0           block4c_bn[0][0]                 \n",
            "__________________________________________________________________________________________________\n",
            "block4c_se_squeeze (GlobalAvera (None, 480)          0           block4c_activation[0][0]         \n",
            "__________________________________________________________________________________________________\n",
            "block4c_se_reshape (Reshape)    (None, 1, 1, 480)    0           block4c_se_squeeze[0][0]         \n",
            "__________________________________________________________________________________________________\n",
            "block4c_se_reduce (Conv2D)      (None, 1, 1, 20)     9620        block4c_se_reshape[0][0]         \n",
            "__________________________________________________________________________________________________\n",
            "block4c_se_expand (Conv2D)      (None, 1, 1, 480)    10080       block4c_se_reduce[0][0]          \n",
            "__________________________________________________________________________________________________\n",
            "block4c_se_excite (Multiply)    (None, 14, 14, 480)  0           block4c_activation[0][0]         \n",
            "                                                                 block4c_se_expand[0][0]          \n",
            "__________________________________________________________________________________________________\n",
            "block4c_project_conv (Conv2D)   (None, 14, 14, 80)   38400       block4c_se_excite[0][0]          \n",
            "__________________________________________________________________________________________________\n",
            "block4c_project_bn (BatchNormal (None, 14, 14, 80)   320         block4c_project_conv[0][0]       \n",
            "__________________________________________________________________________________________________\n",
            "block4c_drop (FixedDropout)     (None, 14, 14, 80)   0           block4c_project_bn[0][0]         \n",
            "__________________________________________________________________________________________________\n",
            "block4c_add (Add)               (None, 14, 14, 80)   0           block4c_drop[0][0]               \n",
            "                                                                 block4b_add[0][0]                \n",
            "__________________________________________________________________________________________________\n",
            "block5a_expand_conv (Conv2D)    (None, 14, 14, 480)  38400       block4c_add[0][0]                \n",
            "__________________________________________________________________________________________________\n",
            "block5a_expand_bn (BatchNormali (None, 14, 14, 480)  1920        block5a_expand_conv[0][0]        \n",
            "__________________________________________________________________________________________________\n",
            "block5a_expand_activation (Acti (None, 14, 14, 480)  0           block5a_expand_bn[0][0]          \n",
            "__________________________________________________________________________________________________\n",
            "block5a_dwconv (DepthwiseConv2D (None, 14, 14, 480)  12000       block5a_expand_activation[0][0]  \n",
            "__________________________________________________________________________________________________\n",
            "block5a_bn (BatchNormalization) (None, 14, 14, 480)  1920        block5a_dwconv[0][0]             \n",
            "__________________________________________________________________________________________________\n",
            "block5a_activation (Activation) (None, 14, 14, 480)  0           block5a_bn[0][0]                 \n",
            "__________________________________________________________________________________________________\n",
            "block5a_se_squeeze (GlobalAvera (None, 480)          0           block5a_activation[0][0]         \n",
            "__________________________________________________________________________________________________\n",
            "block5a_se_reshape (Reshape)    (None, 1, 1, 480)    0           block5a_se_squeeze[0][0]         \n",
            "__________________________________________________________________________________________________\n",
            "block5a_se_reduce (Conv2D)      (None, 1, 1, 20)     9620        block5a_se_reshape[0][0]         \n",
            "__________________________________________________________________________________________________\n",
            "block5a_se_expand (Conv2D)      (None, 1, 1, 480)    10080       block5a_se_reduce[0][0]          \n",
            "__________________________________________________________________________________________________\n",
            "block5a_se_excite (Multiply)    (None, 14, 14, 480)  0           block5a_activation[0][0]         \n",
            "                                                                 block5a_se_expand[0][0]          \n",
            "__________________________________________________________________________________________________\n",
            "block5a_project_conv (Conv2D)   (None, 14, 14, 112)  53760       block5a_se_excite[0][0]          \n",
            "__________________________________________________________________________________________________\n",
            "block5a_project_bn (BatchNormal (None, 14, 14, 112)  448         block5a_project_conv[0][0]       \n",
            "__________________________________________________________________________________________________\n",
            "block5b_expand_conv (Conv2D)    (None, 14, 14, 672)  75264       block5a_project_bn[0][0]         \n",
            "__________________________________________________________________________________________________\n",
            "block5b_expand_bn (BatchNormali (None, 14, 14, 672)  2688        block5b_expand_conv[0][0]        \n",
            "__________________________________________________________________________________________________\n",
            "block5b_expand_activation (Acti (None, 14, 14, 672)  0           block5b_expand_bn[0][0]          \n",
            "__________________________________________________________________________________________________\n",
            "block5b_dwconv (DepthwiseConv2D (None, 14, 14, 672)  16800       block5b_expand_activation[0][0]  \n",
            "__________________________________________________________________________________________________\n",
            "block5b_bn (BatchNormalization) (None, 14, 14, 672)  2688        block5b_dwconv[0][0]             \n",
            "__________________________________________________________________________________________________\n",
            "block5b_activation (Activation) (None, 14, 14, 672)  0           block5b_bn[0][0]                 \n",
            "__________________________________________________________________________________________________\n",
            "block5b_se_squeeze (GlobalAvera (None, 672)          0           block5b_activation[0][0]         \n",
            "__________________________________________________________________________________________________\n",
            "block5b_se_reshape (Reshape)    (None, 1, 1, 672)    0           block5b_se_squeeze[0][0]         \n",
            "__________________________________________________________________________________________________\n",
            "block5b_se_reduce (Conv2D)      (None, 1, 1, 28)     18844       block5b_se_reshape[0][0]         \n",
            "__________________________________________________________________________________________________\n",
            "block5b_se_expand (Conv2D)      (None, 1, 1, 672)    19488       block5b_se_reduce[0][0]          \n",
            "__________________________________________________________________________________________________\n",
            "block5b_se_excite (Multiply)    (None, 14, 14, 672)  0           block5b_activation[0][0]         \n",
            "                                                                 block5b_se_expand[0][0]          \n",
            "__________________________________________________________________________________________________\n",
            "block5b_project_conv (Conv2D)   (None, 14, 14, 112)  75264       block5b_se_excite[0][0]          \n",
            "__________________________________________________________________________________________________\n",
            "block5b_project_bn (BatchNormal (None, 14, 14, 112)  448         block5b_project_conv[0][0]       \n",
            "__________________________________________________________________________________________________\n",
            "block5b_drop (FixedDropout)     (None, 14, 14, 112)  0           block5b_project_bn[0][0]         \n",
            "__________________________________________________________________________________________________\n",
            "block5b_add (Add)               (None, 14, 14, 112)  0           block5b_drop[0][0]               \n",
            "                                                                 block5a_project_bn[0][0]         \n",
            "__________________________________________________________________________________________________\n",
            "block5c_expand_conv (Conv2D)    (None, 14, 14, 672)  75264       block5b_add[0][0]                \n",
            "__________________________________________________________________________________________________\n",
            "block5c_expand_bn (BatchNormali (None, 14, 14, 672)  2688        block5c_expand_conv[0][0]        \n",
            "__________________________________________________________________________________________________\n",
            "block5c_expand_activation (Acti (None, 14, 14, 672)  0           block5c_expand_bn[0][0]          \n",
            "__________________________________________________________________________________________________\n",
            "block5c_dwconv (DepthwiseConv2D (None, 14, 14, 672)  16800       block5c_expand_activation[0][0]  \n",
            "__________________________________________________________________________________________________\n",
            "block5c_bn (BatchNormalization) (None, 14, 14, 672)  2688        block5c_dwconv[0][0]             \n",
            "__________________________________________________________________________________________________\n",
            "block5c_activation (Activation) (None, 14, 14, 672)  0           block5c_bn[0][0]                 \n",
            "__________________________________________________________________________________________________\n",
            "block5c_se_squeeze (GlobalAvera (None, 672)          0           block5c_activation[0][0]         \n",
            "__________________________________________________________________________________________________\n",
            "block5c_se_reshape (Reshape)    (None, 1, 1, 672)    0           block5c_se_squeeze[0][0]         \n",
            "__________________________________________________________________________________________________\n",
            "block5c_se_reduce (Conv2D)      (None, 1, 1, 28)     18844       block5c_se_reshape[0][0]         \n",
            "__________________________________________________________________________________________________\n",
            "block5c_se_expand (Conv2D)      (None, 1, 1, 672)    19488       block5c_se_reduce[0][0]          \n",
            "__________________________________________________________________________________________________\n",
            "block5c_se_excite (Multiply)    (None, 14, 14, 672)  0           block5c_activation[0][0]         \n",
            "                                                                 block5c_se_expand[0][0]          \n",
            "__________________________________________________________________________________________________\n",
            "block5c_project_conv (Conv2D)   (None, 14, 14, 112)  75264       block5c_se_excite[0][0]          \n",
            "__________________________________________________________________________________________________\n",
            "block5c_project_bn (BatchNormal (None, 14, 14, 112)  448         block5c_project_conv[0][0]       \n",
            "__________________________________________________________________________________________________\n",
            "block5c_drop (FixedDropout)     (None, 14, 14, 112)  0           block5c_project_bn[0][0]         \n",
            "__________________________________________________________________________________________________\n",
            "block5c_add (Add)               (None, 14, 14, 112)  0           block5c_drop[0][0]               \n",
            "                                                                 block5b_add[0][0]                \n",
            "__________________________________________________________________________________________________\n",
            "block6a_expand_conv (Conv2D)    (None, 14, 14, 672)  75264       block5c_add[0][0]                \n",
            "__________________________________________________________________________________________________\n",
            "block6a_expand_bn (BatchNormali (None, 14, 14, 672)  2688        block6a_expand_conv[0][0]        \n",
            "__________________________________________________________________________________________________\n",
            "block6a_expand_activation (Acti (None, 14, 14, 672)  0           block6a_expand_bn[0][0]          \n",
            "__________________________________________________________________________________________________\n",
            "block6a_dwconv (DepthwiseConv2D (None, 7, 7, 672)    16800       block6a_expand_activation[0][0]  \n",
            "__________________________________________________________________________________________________\n",
            "block6a_bn (BatchNormalization) (None, 7, 7, 672)    2688        block6a_dwconv[0][0]             \n",
            "__________________________________________________________________________________________________\n",
            "block6a_activation (Activation) (None, 7, 7, 672)    0           block6a_bn[0][0]                 \n",
            "__________________________________________________________________________________________________\n",
            "block6a_se_squeeze (GlobalAvera (None, 672)          0           block6a_activation[0][0]         \n",
            "__________________________________________________________________________________________________\n",
            "block6a_se_reshape (Reshape)    (None, 1, 1, 672)    0           block6a_se_squeeze[0][0]         \n",
            "__________________________________________________________________________________________________\n",
            "block6a_se_reduce (Conv2D)      (None, 1, 1, 28)     18844       block6a_se_reshape[0][0]         \n",
            "__________________________________________________________________________________________________\n",
            "block6a_se_expand (Conv2D)      (None, 1, 1, 672)    19488       block6a_se_reduce[0][0]          \n",
            "__________________________________________________________________________________________________\n",
            "block6a_se_excite (Multiply)    (None, 7, 7, 672)    0           block6a_activation[0][0]         \n",
            "                                                                 block6a_se_expand[0][0]          \n",
            "__________________________________________________________________________________________________\n",
            "block6a_project_conv (Conv2D)   (None, 7, 7, 192)    129024      block6a_se_excite[0][0]          \n",
            "__________________________________________________________________________________________________\n",
            "block6a_project_bn (BatchNormal (None, 7, 7, 192)    768         block6a_project_conv[0][0]       \n",
            "__________________________________________________________________________________________________\n",
            "block6b_expand_conv (Conv2D)    (None, 7, 7, 1152)   221184      block6a_project_bn[0][0]         \n",
            "__________________________________________________________________________________________________\n",
            "block6b_expand_bn (BatchNormali (None, 7, 7, 1152)   4608        block6b_expand_conv[0][0]        \n",
            "__________________________________________________________________________________________________\n",
            "block6b_expand_activation (Acti (None, 7, 7, 1152)   0           block6b_expand_bn[0][0]          \n",
            "__________________________________________________________________________________________________\n",
            "block6b_dwconv (DepthwiseConv2D (None, 7, 7, 1152)   28800       block6b_expand_activation[0][0]  \n",
            "__________________________________________________________________________________________________\n",
            "block6b_bn (BatchNormalization) (None, 7, 7, 1152)   4608        block6b_dwconv[0][0]             \n",
            "__________________________________________________________________________________________________\n",
            "block6b_activation (Activation) (None, 7, 7, 1152)   0           block6b_bn[0][0]                 \n",
            "__________________________________________________________________________________________________\n",
            "block6b_se_squeeze (GlobalAvera (None, 1152)         0           block6b_activation[0][0]         \n",
            "__________________________________________________________________________________________________\n",
            "block6b_se_reshape (Reshape)    (None, 1, 1, 1152)   0           block6b_se_squeeze[0][0]         \n",
            "__________________________________________________________________________________________________\n",
            "block6b_se_reduce (Conv2D)      (None, 1, 1, 48)     55344       block6b_se_reshape[0][0]         \n",
            "__________________________________________________________________________________________________\n",
            "block6b_se_expand (Conv2D)      (None, 1, 1, 1152)   56448       block6b_se_reduce[0][0]          \n",
            "__________________________________________________________________________________________________\n",
            "block6b_se_excite (Multiply)    (None, 7, 7, 1152)   0           block6b_activation[0][0]         \n",
            "                                                                 block6b_se_expand[0][0]          \n",
            "__________________________________________________________________________________________________\n",
            "block6b_project_conv (Conv2D)   (None, 7, 7, 192)    221184      block6b_se_excite[0][0]          \n",
            "__________________________________________________________________________________________________\n",
            "block6b_project_bn (BatchNormal (None, 7, 7, 192)    768         block6b_project_conv[0][0]       \n",
            "__________________________________________________________________________________________________\n",
            "block6b_drop (FixedDropout)     (None, 7, 7, 192)    0           block6b_project_bn[0][0]         \n",
            "__________________________________________________________________________________________________\n",
            "block6b_add (Add)               (None, 7, 7, 192)    0           block6b_drop[0][0]               \n",
            "                                                                 block6a_project_bn[0][0]         \n",
            "__________________________________________________________________________________________________\n",
            "block6c_expand_conv (Conv2D)    (None, 7, 7, 1152)   221184      block6b_add[0][0]                \n",
            "__________________________________________________________________________________________________\n",
            "block6c_expand_bn (BatchNormali (None, 7, 7, 1152)   4608        block6c_expand_conv[0][0]        \n",
            "__________________________________________________________________________________________________\n",
            "block6c_expand_activation (Acti (None, 7, 7, 1152)   0           block6c_expand_bn[0][0]          \n",
            "__________________________________________________________________________________________________\n",
            "block6c_dwconv (DepthwiseConv2D (None, 7, 7, 1152)   28800       block6c_expand_activation[0][0]  \n",
            "__________________________________________________________________________________________________\n",
            "block6c_bn (BatchNormalization) (None, 7, 7, 1152)   4608        block6c_dwconv[0][0]             \n",
            "__________________________________________________________________________________________________\n",
            "block6c_activation (Activation) (None, 7, 7, 1152)   0           block6c_bn[0][0]                 \n",
            "__________________________________________________________________________________________________\n",
            "block6c_se_squeeze (GlobalAvera (None, 1152)         0           block6c_activation[0][0]         \n",
            "__________________________________________________________________________________________________\n",
            "block6c_se_reshape (Reshape)    (None, 1, 1, 1152)   0           block6c_se_squeeze[0][0]         \n",
            "__________________________________________________________________________________________________\n",
            "block6c_se_reduce (Conv2D)      (None, 1, 1, 48)     55344       block6c_se_reshape[0][0]         \n",
            "__________________________________________________________________________________________________\n",
            "block6c_se_expand (Conv2D)      (None, 1, 1, 1152)   56448       block6c_se_reduce[0][0]          \n",
            "__________________________________________________________________________________________________\n",
            "block6c_se_excite (Multiply)    (None, 7, 7, 1152)   0           block6c_activation[0][0]         \n",
            "                                                                 block6c_se_expand[0][0]          \n",
            "__________________________________________________________________________________________________\n",
            "block6c_project_conv (Conv2D)   (None, 7, 7, 192)    221184      block6c_se_excite[0][0]          \n",
            "__________________________________________________________________________________________________\n",
            "block6c_project_bn (BatchNormal (None, 7, 7, 192)    768         block6c_project_conv[0][0]       \n",
            "__________________________________________________________________________________________________\n",
            "block6c_drop (FixedDropout)     (None, 7, 7, 192)    0           block6c_project_bn[0][0]         \n",
            "__________________________________________________________________________________________________\n",
            "block6c_add (Add)               (None, 7, 7, 192)    0           block6c_drop[0][0]               \n",
            "                                                                 block6b_add[0][0]                \n",
            "__________________________________________________________________________________________________\n",
            "block6d_expand_conv (Conv2D)    (None, 7, 7, 1152)   221184      block6c_add[0][0]                \n",
            "__________________________________________________________________________________________________\n",
            "block6d_expand_bn (BatchNormali (None, 7, 7, 1152)   4608        block6d_expand_conv[0][0]        \n",
            "__________________________________________________________________________________________________\n",
            "block6d_expand_activation (Acti (None, 7, 7, 1152)   0           block6d_expand_bn[0][0]          \n",
            "__________________________________________________________________________________________________\n",
            "block6d_dwconv (DepthwiseConv2D (None, 7, 7, 1152)   28800       block6d_expand_activation[0][0]  \n",
            "__________________________________________________________________________________________________\n",
            "block6d_bn (BatchNormalization) (None, 7, 7, 1152)   4608        block6d_dwconv[0][0]             \n",
            "__________________________________________________________________________________________________\n",
            "block6d_activation (Activation) (None, 7, 7, 1152)   0           block6d_bn[0][0]                 \n",
            "__________________________________________________________________________________________________\n",
            "block6d_se_squeeze (GlobalAvera (None, 1152)         0           block6d_activation[0][0]         \n",
            "__________________________________________________________________________________________________\n",
            "block6d_se_reshape (Reshape)    (None, 1, 1, 1152)   0           block6d_se_squeeze[0][0]         \n",
            "__________________________________________________________________________________________________\n",
            "block6d_se_reduce (Conv2D)      (None, 1, 1, 48)     55344       block6d_se_reshape[0][0]         \n",
            "__________________________________________________________________________________________________\n",
            "block6d_se_expand (Conv2D)      (None, 1, 1, 1152)   56448       block6d_se_reduce[0][0]          \n",
            "__________________________________________________________________________________________________\n",
            "block6d_se_excite (Multiply)    (None, 7, 7, 1152)   0           block6d_activation[0][0]         \n",
            "                                                                 block6d_se_expand[0][0]          \n",
            "__________________________________________________________________________________________________\n",
            "block6d_project_conv (Conv2D)   (None, 7, 7, 192)    221184      block6d_se_excite[0][0]          \n",
            "__________________________________________________________________________________________________\n",
            "block6d_project_bn (BatchNormal (None, 7, 7, 192)    768         block6d_project_conv[0][0]       \n",
            "__________________________________________________________________________________________________\n",
            "block6d_drop (FixedDropout)     (None, 7, 7, 192)    0           block6d_project_bn[0][0]         \n",
            "__________________________________________________________________________________________________\n",
            "block6d_add (Add)               (None, 7, 7, 192)    0           block6d_drop[0][0]               \n",
            "                                                                 block6c_add[0][0]                \n",
            "__________________________________________________________________________________________________\n",
            "block7a_expand_conv (Conv2D)    (None, 7, 7, 1152)   221184      block6d_add[0][0]                \n",
            "__________________________________________________________________________________________________\n",
            "block7a_expand_bn (BatchNormali (None, 7, 7, 1152)   4608        block7a_expand_conv[0][0]        \n",
            "__________________________________________________________________________________________________\n",
            "block7a_expand_activation (Acti (None, 7, 7, 1152)   0           block7a_expand_bn[0][0]          \n",
            "__________________________________________________________________________________________________\n",
            "block7a_dwconv (DepthwiseConv2D (None, 7, 7, 1152)   10368       block7a_expand_activation[0][0]  \n",
            "__________________________________________________________________________________________________\n",
            "block7a_bn (BatchNormalization) (None, 7, 7, 1152)   4608        block7a_dwconv[0][0]             \n",
            "__________________________________________________________________________________________________\n",
            "block7a_activation (Activation) (None, 7, 7, 1152)   0           block7a_bn[0][0]                 \n",
            "__________________________________________________________________________________________________\n",
            "block7a_se_squeeze (GlobalAvera (None, 1152)         0           block7a_activation[0][0]         \n",
            "__________________________________________________________________________________________________\n",
            "block7a_se_reshape (Reshape)    (None, 1, 1, 1152)   0           block7a_se_squeeze[0][0]         \n",
            "__________________________________________________________________________________________________\n",
            "block7a_se_reduce (Conv2D)      (None, 1, 1, 48)     55344       block7a_se_reshape[0][0]         \n",
            "__________________________________________________________________________________________________\n",
            "block7a_se_expand (Conv2D)      (None, 1, 1, 1152)   56448       block7a_se_reduce[0][0]          \n",
            "__________________________________________________________________________________________________\n",
            "block7a_se_excite (Multiply)    (None, 7, 7, 1152)   0           block7a_activation[0][0]         \n",
            "                                                                 block7a_se_expand[0][0]          \n",
            "__________________________________________________________________________________________________\n",
            "block7a_project_conv (Conv2D)   (None, 7, 7, 320)    368640      block7a_se_excite[0][0]          \n",
            "__________________________________________________________________________________________________\n",
            "block7a_project_bn (BatchNormal (None, 7, 7, 320)    1280        block7a_project_conv[0][0]       \n",
            "__________________________________________________________________________________________________\n",
            "top_conv (Conv2D)               (None, 7, 7, 1280)   409600      block7a_project_bn[0][0]         \n",
            "__________________________________________________________________________________________________\n",
            "top_bn (BatchNormalization)     (None, 7, 7, 1280)   5120        top_conv[0][0]                   \n",
            "__________________________________________________________________________________________________\n",
            "top_activation (Activation)     (None, 7, 7, 1280)   0           top_bn[0][0]                     \n",
            "__________________________________________________________________________________________________\n",
            "global_average_pooling2d (Globa (None, 1280)         0           top_activation[0][0]             \n",
            "__________________________________________________________________________________________________\n",
            "dense (Dense)                   (None, 512)          655872      global_average_pooling2d[0][0]   \n",
            "__________________________________________________________________________________________________\n",
            "dropout (Dropout)               (None, 512)          0           dense[0][0]                      \n",
            "__________________________________________________________________________________________________\n",
            "dense_1 (Dense)                 (None, 20)           10260       dropout[0][0]                    \n",
            "==================================================================================================\n",
            "Total params: 4,715,696\n",
            "Trainable params: 4,673,680\n",
            "Non-trainable params: 42,016\n",
            "__________________________________________________________________________________________________\n",
            "None\n"
          ],
          "name": "stdout"
        }
      ]
    },
    {
      "cell_type": "markdown",
      "metadata": {
        "id": "CKKMCS7tII4E"
      },
      "source": [
        "### （４）Training the model"
      ]
    },
    {
      "cell_type": "code",
      "metadata": {
        "id": "s8BLMgBHUhku"
      },
      "source": [
        "y_train_categorical = keras.utils.to_categorical(y_train_label)\r\n",
        "y_val_categorical = keras.utils.to_categorical(y_val_label)"
      ],
      "execution_count": null,
      "outputs": []
    },
    {
      "cell_type": "code",
      "metadata": {
        "colab": {
          "base_uri": "https://localhost:8080/"
        },
        "id": "aBc7hoCAUmWs",
        "outputId": "b6d2dfb1-ba8d-4aef-b482-92fb81be4767"
      },
      "source": [
        "y_train_categorical.shape"
      ],
      "execution_count": null,
      "outputs": [
        {
          "output_type": "execute_result",
          "data": {
            "text/plain": [
              "(40000, 20)"
            ]
          },
          "metadata": {
            "tags": []
          },
          "execution_count": 60
        }
      ]
    },
    {
      "cell_type": "code",
      "metadata": {
        "id": "zAxeH0sD1IGx"
      },
      "source": [
        "# Compile\n",
        "model.compile(optimizer=tf.keras.optimizers.Adam(), loss='categorical_crossentropy', metrics=['accuracy'])"
      ],
      "execution_count": null,
      "outputs": []
    },
    {
      "cell_type": "code",
      "metadata": {
        "id": "MSzX7IqmQBut",
        "colab": {
          "base_uri": "https://localhost:8080/"
        },
        "outputId": "d6e476f1-b487-4a8f-9612-bc4a46fc1f77"
      },
      "source": [
        "y_val_label.shape"
      ],
      "execution_count": null,
      "outputs": [
        {
          "output_type": "execute_result",
          "data": {
            "text/plain": [
              "(10000,)"
            ]
          },
          "metadata": {
            "tags": []
          },
          "execution_count": 62
        }
      ]
    },
    {
      "cell_type": "markdown",
      "metadata": {
        "id": "W6mSDKljg8lr"
      },
      "source": [
        "## RandAugument"
      ]
    },
    {
      "cell_type": "code",
      "metadata": {
        "id": "tAHOMlFHg75H"
      },
      "source": [
        "class Rand_Augment():\r\n",
        "    def __init__(self, Numbers=None, max_Magnitude=None):\r\n",
        "        self.transforms = ['autocontrast', 'equalize', 'rotate', 'solarize', 'color', 'posterize',\r\n",
        "                           'contrast', 'brightness', 'sharpness', 'shearX', 'shearY', 'translateX', 'translateY']\r\n",
        "        if Numbers is None:\r\n",
        "            self.Numbers = len(self.transforms) // 2\r\n",
        "        else:\r\n",
        "            self.Numbers = Numbers\r\n",
        "        if max_Magnitude is None:\r\n",
        "            self.max_Magnitude = 10\r\n",
        "        else:\r\n",
        "            self.max_Magnitude = max_Magnitude\r\n",
        "        fillcolor = 128\r\n",
        "        self.ranges = {\r\n",
        "            # these  Magnitude   range , you  must test  it  yourself , see  what  will happen  after these  operation ,\r\n",
        "            # it is no  need to obey  the value  in  autoaugment.py\r\n",
        "            \"shearX\": np.linspace(0, 0.3, 10),\r\n",
        "            \"shearY\": np.linspace(0, 0.3, 10),\r\n",
        "            \"translateX\": np.linspace(0, 0.2, 10),\r\n",
        "            \"translateY\": np.linspace(0, 0.2, 10),\r\n",
        "            \"rotate\": np.linspace(0, 360, 10),\r\n",
        "            \"color\": np.linspace(0.0, 0.9, 10),\r\n",
        "            \"posterize\": np.round(np.linspace(8, 4, 10), 0).astype(np.int),\r\n",
        "            \"solarize\": np.linspace(256, 231, 10),\r\n",
        "            \"contrast\": np.linspace(0.0, 0.5, 10),\r\n",
        "            \"sharpness\": np.linspace(0.0, 0.9, 10),\r\n",
        "            \"brightness\": np.linspace(0.0, 0.3, 10),\r\n",
        "            \"autocontrast\": [0] * 10,\r\n",
        "            \"equalize\": [0] * 10,           \r\n",
        "            \"invert\": [0] * 10\r\n",
        "        }\r\n",
        "        self.func = {\r\n",
        "            \"shearX\": lambda img, magnitude: img.transform(\r\n",
        "                img.size, Image.AFFINE, (1, magnitude * random.choice([-1, 1]), 0, 0, 1, 0),\r\n",
        "                Image.BICUBIC, fill=fillcolor),\r\n",
        "            \"shearY\": lambda img, magnitude: img.transform(\r\n",
        "                img.size, Image.AFFINE, (1, 0, 0, magnitude * random.choice([-1, 1]), 1, 0),\r\n",
        "                Image.BICUBIC, fill=fillcolor),\r\n",
        "            \"translateX\": lambda img, magnitude: img.transform(\r\n",
        "                img.size, Image.AFFINE, (1, 0, magnitude * img.size[0] * random.choice([-1, 1]), 0, 1, 0),\r\n",
        "                fill=fillcolor),\r\n",
        "            \"translateY\": lambda img, magnitude: img.transform(\r\n",
        "                img.size, Image.AFFINE, (1, 0, 0, 0, 1, magnitude * img.size[1] * random.choice([-1, 1])),\r\n",
        "                fill=fillcolor),\r\n",
        "            \"rotate\": lambda img, magnitude: self.rotate_with_fill(img, magnitude),\r\n",
        "            # \"rotate\": lambda img, magnitude: img.rotate(magnitude * random.choice([-1, 1])),\r\n",
        "            \"color\": lambda img, magnitude: ImageEnhance.Color(img).enhance(1 + magnitude * random.choice([-1, 1])),\r\n",
        "            \"posterize\": lambda img, magnitude: ImageOps.posterize(img, magnitude),\r\n",
        "            \"solarize\": lambda img, magnitude: ImageOps.solarize(img, magnitude),\r\n",
        "            \"contrast\": lambda img, magnitude: ImageEnhance.Contrast(img).enhance(\r\n",
        "                1 + magnitude * random.choice([-1, 1])),\r\n",
        "            \"sharpness\": lambda img, magnitude: ImageEnhance.Sharpness(img).enhance(\r\n",
        "                1 + magnitude * random.choice([-1, 1])),\r\n",
        "            \"brightness\": lambda img, magnitude: ImageEnhance.Brightness(img).enhance(\r\n",
        "                1 + magnitude * random.choice([-1, 1])),\r\n",
        "            \"autocontrast\": lambda img, magnitude: ImageOps.autocontrast(img),\r\n",
        "            \"equalize\": lambda img, magnitude: img,\r\n",
        "            \"invert\": lambda img, magnitude: ImageOps.invert(img)\r\n",
        "        }\r\n",
        "\r\n",
        "    def rand_augment(self):\r\n",
        "        \"\"\"Generate a set of distortions.\r\n",
        "             Args:\r\n",
        "             N: Number of augmentation transformations to apply sequentially. N  is len(transforms)/2  will be best\r\n",
        "             M: Max_Magnitude for all the transformations. should be  <= self.max_Magnitude \"\"\"\r\n",
        "\r\n",
        "        M = np.random.randint(0, self.max_Magnitude, self.Numbers)\r\n",
        "\r\n",
        "        sampled_ops = np.random.choice(self.transforms, self.Numbers)\r\n",
        "        return [(op, Magnitude) for (op, Magnitude) in zip(sampled_ops, M)]\r\n",
        "\r\n",
        "    def __call__(self, image):\r\n",
        "        operations = self.rand_augment()\r\n",
        "        for (op_name, M) in operations:\r\n",
        "            operation = self.func[op_name]\r\n",
        "            mag = self.ranges[op_name][M]\r\n",
        "            image = operation(image, mag)\r\n",
        "        return image\r\n",
        "\r\n",
        "    def rotate_with_fill(self, img, magnitude):\r\n",
        "        #  I  don't know why  rotate  must change to RGBA , it is  copy  from Autoaugment - pytorch\r\n",
        "        rot = img.convert(\"RGBA\").rotate(magnitude)\r\n",
        "        return Image.composite(rot, Image.new(\"RGBA\", rot.size, (128,) * 4), rot).convert(img.mode)\r\n",
        "\r\n",
        "    def test_single_operation(self, image, op_name, M=-1):\r\n",
        "        '''\r\n",
        "        :param image: image\r\n",
        "        :param op_name: operation name in   self.transforms\r\n",
        "        :param M: -1  stands  for the  max   Magnitude  in  there operation\r\n",
        "        :return:\r\n",
        "        '''\r\n",
        "        operation = self.func[op_name]\r\n",
        "        mag = self.ranges[op_name][M]\r\n",
        "        image = operation(image, mag)\r\n",
        "        return image"
      ],
      "execution_count": null,
      "outputs": []
    },
    {
      "cell_type": "code",
      "metadata": {
        "id": "hwgkEHcKhAc-"
      },
      "source": [
        "img_augment = Rand_Augment(Numbers=2, max_Magnitude=10)\r\n",
        "\r\n",
        "def get_random_data(x_train_i, y_train_i, data_aug):\r\n",
        "    x = array_to_img(x_train_i)\r\n",
        "\r\n",
        "    if data_aug:\r\n",
        "\r\n",
        "        seed_image = img_augment(x)\r\n",
        "        seed_image = img_to_array(seed_image)\r\n",
        "\r\n",
        "    else:\r\n",
        "        seed_image = x_train_i\r\n",
        "\r\n",
        "    seed_image = seed_image / 255\r\n",
        "\r\n",
        "    return seed_image, y_train_i\r\n",
        "\r\n",
        "def data_generator(x_train, y_train, batch_size, data_aug):\r\n",
        "    '''data generator for fit_generator'''\r\n",
        "    n = len(x_train)\r\n",
        "    i = 0\r\n",
        "    while True:\r\n",
        "        image_data = []\r\n",
        "        label_data = []\r\n",
        "        for b in range(batch_size):\r\n",
        "            if i==0:\r\n",
        "                p = np.random.permutation(len(x_train))\r\n",
        "                x_train = x_train[p]\r\n",
        "                y_train = y_train[p]\r\n",
        "            image, label = get_random_data(x_train[i], y_train[i], data_aug)\r\n",
        "            image_data.append(image)\r\n",
        "            label_data.append(label)\r\n",
        "            i = (i+1) % n\r\n",
        "        image_data = np.array(image_data)\r\n",
        "        label_data = np.array(label_data)\r\n",
        "        yield image_data, label_data"
      ],
      "execution_count": null,
      "outputs": []
    },
    {
      "cell_type": "code",
      "metadata": {
        "id": "E_Pl67xs00vh"
      },
      "source": [
        "%%time\r\n",
        "\r\n",
        "hist = model.fit_generator(\r\n",
        "                           data_generator(X_train_image, y_train_categorical, batch_size = batch_size, data_aug=True),\r\n",
        "                           steps_per_epoch = X_train_image.shape[0] // batch_size,\r\n",
        "                           epochs = epochs,\r\n",
        "                           validation_data = data_generator(X_val_image, y_val_categorical, batch_size, data_aug = False),\r\n",
        "                           validation_steps= X_val_image.shape[0] // batch_size,\r\n",
        "                           callbacks = [early_stopping, reduce_lr],\r\n",
        "                           shuffle = True,\r\n",
        "                           verbose = 1)\r\n",
        "\r\n",
        "# 1250/1250 [==============================] - 270s 216ms/step - loss: 0.5757 - accuracy: 0.8214 - val_loss: 0.7091 - val_accuracy: 0.8140"
      ],
      "execution_count": null,
      "outputs": []
    },
    {
      "cell_type": "code",
      "metadata": {
        "id": "Oxe1FhCOsR-C",
        "colab": {
          "base_uri": "https://localhost:8080/"
        },
        "outputId": "76d3e923-e923-4780-be20-16fe75919c92"
      },
      "source": [
        "def my_eval(model,x,t):\r\n",
        "    #model: 評価したいモデル, x: 予測する画像 shape = (batch,32,32,3) t:one-hot表現のlabel\r\n",
        "    ev = model.evaluate(x,t)\r\n",
        "    print(\"loss:\" ,end = \" \")\r\n",
        "    print(ev[0])\r\n",
        "    print(\"acc: \", end = \"\")\r\n",
        "    print(ev[1])\r\n",
        "\r\n",
        "my_eval(model,X_val_image/255, y_val_categorical)\r\n",
        "# num=2, magnitude=10, loss: 0.8692713975906372"
      ],
      "execution_count": null,
      "outputs": [
        {
          "output_type": "stream",
          "text": [
            "313/313 [==============================] - 8s 22ms/step - loss: 0.4607 - accuracy: 0.8884\n",
            "loss: 0.46071621775627136\n",
            "acc: 0.8884000182151794\n"
          ],
          "name": "stdout"
        }
      ]
    },
    {
      "cell_type": "code",
      "metadata": {
        "id": "m-aQrlqasWLj"
      },
      "source": [
        "predictions = model.predict(test/255)\r\n",
        "# [0.9517145752906799, 0.7093999981880188]"
      ],
      "execution_count": null,
      "outputs": []
    },
    {
      "cell_type": "code",
      "metadata": {
        "id": "D-z13AiysZPi"
      },
      "source": [
        "# 予測結果の提出\r\n",
        "file_name = sample[0]\r\n",
        "df = pd.DataFrame(predictions)\r\n",
        "df_concat = pd.concat([file_name, df],axis=1)\r\n",
        "# df_concat.to_csv('submit_005.csv',index = False, header=None)"
      ],
      "execution_count": null,
      "outputs": []
    },
    {
      "cell_type": "code",
      "metadata": {
        "id": "iPZaYd191eF2"
      },
      "source": [
        "df_20 =pd.DataFrame()"
      ],
      "execution_count": null,
      "outputs": []
    },
    {
      "cell_type": "code",
      "metadata": {
        "id": "gM7TTmpR1Fcw"
      },
      "source": [
        "# cifar100 から cifar20に戻す\r\n",
        "\r\n",
        "df_20[0] = df[4] + df[30] + df[55] + df[72] + df[95]\r\n",
        "df_20[1] = df[1] + df[32] + df[67] + df[73] + df[91]\r\n",
        "df_20[2] = df[54] + df[62] + df[70] + df[82] + df[92]\r\n",
        "df_20[3] = df[9] + df[10] + df[16] + df[28] + df[61]\r\n",
        "df_20[4] = df[0] + df[51] + df[53] + df[57] + df[83]\r\n",
        "df_20[5] = df[22] + df[39] + df[40] + df[86] + df[87]\r\n",
        "df_20[6] = df[5] + df[20] + df[25] + df[84] + df[94]\r\n",
        "df_20[7] = df[6] + df[7] + df[14] + df[18] + df[24]\r\n",
        "df_20[8] = df[3] + df[42] + df[43] + df[88] + df[97]\r\n",
        "df_20[9] = df[12] + df[17] + df[37] + df[68] + df[76]\r\n",
        "df_20[10] = df[23] + df[33] + df[49] + df[60] + df[71]\r\n",
        "df_20[11] = df[15] + df[19] + df[21] + df[31] + df[38]\r\n",
        "df_20[12] = df[34] + df[63] + df[64] + df[66] + df[75]\r\n",
        "df_20[13] = df[26] + df[45] + df[77] + df[79] + df[99]\r\n",
        "df_20[14] = df[2] + df[11] + df[35] + df[46] + df[98]\r\n",
        "df_20[15] = df[27] + df[29] + df[44] + df[78] + df[93]\r\n",
        "df_20[16] = df[36] + df[50] + df[65] + df[74] + df[80]\r\n",
        "df_20[17] = df[47] + df[52] + df[56] + df[59] + df[96]\r\n",
        "df_20[18] = df[8] + df[13] + df[48] + df[58] + df[90]\r\n",
        "df_20[19] = df[41] + df[69] + df[81] + df[85] + df[89]"
      ],
      "execution_count": null,
      "outputs": []
    },
    {
      "cell_type": "code",
      "metadata": {
        "id": "x2V0mzWT3-gO"
      },
      "source": [
        "df_concat = pd.concat([file_name, df_20],axis=1)\r\n",
        "df_concat.to_csv('submit_006.csv',index = False, header=None)"
      ],
      "execution_count": null,
      "outputs": []
    },
    {
      "cell_type": "markdown",
      "metadata": {
        "id": "VejW1szeId0j"
      },
      "source": [
        "### （５）Evaluating the model"
      ]
    },
    {
      "cell_type": "code",
      "metadata": {
        "id": "S39vhiufz58X",
        "colab": {
          "base_uri": "https://localhost:8080/",
          "height": 295
        },
        "outputId": "45b272c9-a260-42b7-c3d3-2627d75687c8"
      },
      "source": [
        "# ----------------------------------------------\r\n",
        "# Some plots\r\n",
        "# ----------------------------------------------\r\n",
        "fig, (axL, axR) = plt.subplots(ncols=2, figsize=(10,4))\r\n",
        "\r\n",
        "# loss\r\n",
        "def plot_history_loss(fit):\r\n",
        "    # Plot the loss in the history\r\n",
        "    axL.plot(fit.history['loss'],label=\"loss for training\")\r\n",
        "    axL.plot(fit.history['val_loss'],label=\"loss for validation\")\r\n",
        "    axL.set_title('model loss')\r\n",
        "    axL.set_xlabel('epoch')\r\n",
        "    axL.set_ylabel('loss')\r\n",
        "    axL.legend(loc='upper right')\r\n",
        "\r\n",
        "# acc\r\n",
        "def plot_history_acc(fit):\r\n",
        "    # Plot the loss in the history\r\n",
        "    axR.plot(fit.history['accuracy'],label=\"loss for training\")\r\n",
        "    axR.plot(fit.history['val_accuracy'],label=\"loss for validation\")\r\n",
        "    axR.set_title('model accuracy')\r\n",
        "    axR.set_xlabel('epoch')\r\n",
        "    axR.set_ylabel('accuracy')\r\n",
        "    axR.legend(loc='upper left')\r\n",
        "\r\n",
        "plot_history_loss(hist)\r\n",
        "plot_history_acc(hist)\r\n",
        "plt.show()\r\n",
        "fig.savefig('Image Recognition_Efn.png')\r\n",
        "plt.close()"
      ],
      "execution_count": null,
      "outputs": [
        {
          "output_type": "display_data",
          "data": {
            "image/png": "[encoded data removed]",
            "text/plain": [
              "<Figure size 720x288 with 2 Axes>"
            ]
          },
          "metadata": {
            "tags": [],
            "needs_background": "light"
          }
        }
      ]
    },
    {
      "cell_type": "code",
      "metadata": {
        "id": "05CR0ZMaW8ar",
        "colab": {
          "base_uri": "https://localhost:8080/"
        },
        "outputId": "c8e08ca1-dff9-431f-c84e-6e9648dca61b"
      },
      "source": [
        "score_Efn = model.evaluate(X_val_image/255, y_val_categorical, verbose=1)\r\n",
        "print(\"evaluate loss: {0[0]}\".format(score_Efn))\r\n",
        "print(\"evaluate acc: {0[1]}\".format(score_Efn))"
      ],
      "execution_count": null,
      "outputs": [
        {
          "output_type": "stream",
          "text": [
            "313/313 [==============================] - 7s 22ms/step - loss: 0.4607 - accuracy: 0.8884\n",
            "evaluate loss: 0.46071621775627136\n",
            "evaluate acc: 0.8884000182151794\n"
          ],
          "name": "stdout"
        }
      ]
    },
    {
      "cell_type": "code",
      "metadata": {
        "id": "yCJ4661NXgD-",
        "colab": {
          "base_uri": "https://localhost:8080/"
        },
        "outputId": "7fefc03c-fd6c-4126-9653-ad92ffba25d6"
      },
      "source": [
        "predictions_val_Efn = model.predict(X_val_image/255)\r\n",
        "from sklearn.metrics import log_loss\r\n",
        "log_loss_Efn = log_loss(y_val_categorical,predictions_val_Efn)\r\n",
        "print(\"EfficinetNetB0_logloss:{0}\".format(log_loss_Efn))"
      ],
      "execution_count": null,
      "outputs": [
        {
          "output_type": "stream",
          "text": [
            "EfficinetNetB0_logloss:0.4607161067219758\n"
          ],
          "name": "stdout"
        }
      ]
    },
    {
      "cell_type": "markdown",
      "metadata": {
        "id": "06m3CYa7P4xg"
      },
      "source": [
        "### （６）Test Time Augmentation with Validation Data"
      ]
    },
    {
      "cell_type": "code",
      "metadata": {
        "id": "VZUkTMqkP9is"
      },
      "source": [
        "def tta(model,test_size,generator,batch_size ,epochs = 10):\r\n",
        "    #test_time_augmentation\r\n",
        "    #batch_sizeは，test_sizeの約数でないといけない．\r\n",
        "    pred = np.zeros(shape = (test_size, 100), dtype = float)\r\n",
        "    step_per_epoch = test_size //batch_size\r\n",
        "    for epoch in range(epochs):\r\n",
        "        for step in range(step_per_epoch):\r\n",
        "            sta = batch_size * step\r\n",
        "            end = sta + batch_size\r\n",
        "            tmp_x = generator.__next__()\r\n",
        "            pred[sta:end] += model.predict(tmp_x)\r\n",
        "    return pred / epochs\r\n",
        "\r\n",
        "def tta_generator(test):\r\n",
        "    return ImageDataGenerator(rotation_range = 0 , \r\n",
        "                              height_shift_range = 0.1,\r\n",
        "                              width_shift_range = 0.1,\r\n",
        "                              horizontal_flip = True,\r\n",
        "                              vertical_flip = False).flow(test,batch_size = batch_size,shuffle = False)\r\n"
      ],
      "execution_count": null,
      "outputs": []
    },
    {
      "cell_type": "code",
      "metadata": {
        "colab": {
          "base_uri": "https://localhost:8080/"
        },
        "id": "j2u72ejPY41R",
        "outputId": "ef7210cf-e329-47a7-8189-35a82bfd20d3"
      },
      "source": [
        "batch_size = 20\r\n",
        "tta_epochs = 20\r\n",
        "tta_pred_Efn = tta(model, X_val_image.shape[0], tta_generator(X_val_image/255), batch_size, epochs = tta_epochs)\r\n",
        "\r\n",
        "TTA_log_loss_Efn = log_loss(y_val_categorical,tta_pred_Efn)\r\n",
        "\r\n",
        "print( accuracy_score( np.argmax(tta_pred_Efn,axis = 1) , np.argmax(y_val_categorical,axis = 1)))\r\n",
        "print( \"TTA_EfficinetNetB0_logloss:{0}\".format(TTA_log_loss_Efn))"
      ],
      "execution_count": null,
      "outputs": [
        {
          "output_type": "stream",
          "text": [
            "0.8787\n",
            "TTA_EfficinetNetB0_logloss:0.4138309879696729\n"
          ],
          "name": "stdout"
        }
      ]
    },
    {
      "cell_type": "markdown",
      "metadata": {
        "id": "8Fbe0cf6ImCv"
      },
      "source": [
        "### （７）Predicting Image Classification"
      ]
    },
    {
      "cell_type": "code",
      "metadata": {
        "id": "cbD-otgKTMXL"
      },
      "source": [
        "batch_size = 20\r\n",
        "tta_epochs = 50\r\n",
        "tta_prediciton_Efn = tta(model,test.shape[0],tta_generator(test/255),batch_size ,epochs = tta_epochs)"
      ],
      "execution_count": null,
      "outputs": []
    },
    {
      "cell_type": "code",
      "metadata": {
        "colab": {
          "base_uri": "https://localhost:8080/",
          "height": 309
        },
        "id": "HsXTv9-NLqMj",
        "outputId": "cf4059d1-cdcb-400a-eb2c-5506b118ff41"
      },
      "source": [
        "file_name = sample[0]\r\n",
        "df = pd.DataFrame(tta_prediciton_Efn)\r\n",
        "df_concat = pd.concat([file_name, df],axis=1)\r\n",
        "df_concat.head()"
      ],
      "execution_count": null,
      "outputs": [
        {
          "output_type": "execute_result",
          "data": {
            "text/html": [
              "<div>\n",
              "<style scoped>\n",
              "    .dataframe tbody tr th:only-of-type {\n",
              "        vertical-align: middle;\n",
              "    }\n",
              "\n",
              "    .dataframe tbody tr th {\n",
              "        vertical-align: top;\n",
              "    }\n",
              "\n",
              "    .dataframe thead th {\n",
              "        text-align: right;\n",
              "    }\n",
              "</style>\n",
              "<table border=\"1\" class=\"dataframe\">\n",
              "  <thead>\n",
              "    <tr style=\"text-align: right;\">\n",
              "      <th></th>\n",
              "      <th>0</th>\n",
              "      <th>0</th>\n",
              "      <th>1</th>\n",
              "      <th>2</th>\n",
              "      <th>3</th>\n",
              "      <th>4</th>\n",
              "      <th>5</th>\n",
              "      <th>6</th>\n",
              "      <th>7</th>\n",
              "      <th>8</th>\n",
              "      <th>9</th>\n",
              "      <th>10</th>\n",
              "      <th>11</th>\n",
              "      <th>12</th>\n",
              "      <th>13</th>\n",
              "      <th>14</th>\n",
              "      <th>15</th>\n",
              "      <th>16</th>\n",
              "      <th>17</th>\n",
              "      <th>18</th>\n",
              "      <th>19</th>\n",
              "    </tr>\n",
              "  </thead>\n",
              "  <tbody>\n",
              "    <tr>\n",
              "      <th>0</th>\n",
              "      <td>test_00000.png</td>\n",
              "      <td>1.725729e-03</td>\n",
              "      <td>4.749680e-05</td>\n",
              "      <td>4.195087e-05</td>\n",
              "      <td>2.322845e-05</td>\n",
              "      <td>2.029682e-06</td>\n",
              "      <td>1.097612e-03</td>\n",
              "      <td>9.374155e-05</td>\n",
              "      <td>3.749180e-06</td>\n",
              "      <td>7.716825e-05</td>\n",
              "      <td>9.848945e-01</td>\n",
              "      <td>6.383600e-03</td>\n",
              "      <td>2.005344e-05</td>\n",
              "      <td>9.478384e-05</td>\n",
              "      <td>3.965071e-04</td>\n",
              "      <td>7.666991e-04</td>\n",
              "      <td>6.301570e-06</td>\n",
              "      <td>1.270804e-04</td>\n",
              "      <td>2.025308e-03</td>\n",
              "      <td>7.484485e-04</td>\n",
              "      <td>1.424029e-03</td>\n",
              "    </tr>\n",
              "    <tr>\n",
              "      <th>1</th>\n",
              "      <td>test_00001.png</td>\n",
              "      <td>2.686098e-03</td>\n",
              "      <td>1.101208e-04</td>\n",
              "      <td>1.843309e-05</td>\n",
              "      <td>5.576760e-02</td>\n",
              "      <td>6.222037e-05</td>\n",
              "      <td>2.886441e-04</td>\n",
              "      <td>5.453349e-03</td>\n",
              "      <td>2.647039e-04</td>\n",
              "      <td>3.428698e-04</td>\n",
              "      <td>1.053813e-03</td>\n",
              "      <td>8.666117e-01</td>\n",
              "      <td>2.391151e-03</td>\n",
              "      <td>1.887236e-04</td>\n",
              "      <td>1.054715e-04</td>\n",
              "      <td>2.455860e-02</td>\n",
              "      <td>4.329851e-05</td>\n",
              "      <td>3.689291e-02</td>\n",
              "      <td>2.898936e-03</td>\n",
              "      <td>3.029862e-05</td>\n",
              "      <td>2.310178e-04</td>\n",
              "    </tr>\n",
              "    <tr>\n",
              "      <th>2</th>\n",
              "      <td>test_00002.png</td>\n",
              "      <td>9.998102e-01</td>\n",
              "      <td>2.574067e-06</td>\n",
              "      <td>1.383260e-10</td>\n",
              "      <td>5.298951e-10</td>\n",
              "      <td>1.035667e-08</td>\n",
              "      <td>4.698551e-10</td>\n",
              "      <td>5.079983e-11</td>\n",
              "      <td>1.882859e-07</td>\n",
              "      <td>7.170200e-05</td>\n",
              "      <td>4.546704e-08</td>\n",
              "      <td>1.252949e-08</td>\n",
              "      <td>1.154098e-05</td>\n",
              "      <td>8.254513e-08</td>\n",
              "      <td>9.912720e-09</td>\n",
              "      <td>4.481035e-08</td>\n",
              "      <td>9.661822e-05</td>\n",
              "      <td>6.978453e-06</td>\n",
              "      <td>3.175932e-10</td>\n",
              "      <td>4.000242e-09</td>\n",
              "      <td>5.198148e-09</td>\n",
              "    </tr>\n",
              "    <tr>\n",
              "      <th>3</th>\n",
              "      <td>test_00003.png</td>\n",
              "      <td>7.274374e-06</td>\n",
              "      <td>5.118198e-06</td>\n",
              "      <td>3.080354e-06</td>\n",
              "      <td>2.059908e-06</td>\n",
              "      <td>9.983998e-01</td>\n",
              "      <td>7.145071e-06</td>\n",
              "      <td>1.244357e-05</td>\n",
              "      <td>2.175898e-07</td>\n",
              "      <td>2.895137e-06</td>\n",
              "      <td>7.066166e-07</td>\n",
              "      <td>3.166476e-06</td>\n",
              "      <td>1.491344e-03</td>\n",
              "      <td>8.424277e-07</td>\n",
              "      <td>4.047526e-05</td>\n",
              "      <td>1.783816e-06</td>\n",
              "      <td>1.347770e-05</td>\n",
              "      <td>5.949274e-06</td>\n",
              "      <td>6.549682e-07</td>\n",
              "      <td>6.207379e-08</td>\n",
              "      <td>1.485022e-06</td>\n",
              "    </tr>\n",
              "    <tr>\n",
              "      <th>4</th>\n",
              "      <td>test_00004.png</td>\n",
              "      <td>8.273549e-08</td>\n",
              "      <td>4.448740e-08</td>\n",
              "      <td>1.102799e-08</td>\n",
              "      <td>4.907933e-09</td>\n",
              "      <td>2.321794e-10</td>\n",
              "      <td>2.817710e-08</td>\n",
              "      <td>1.595786e-08</td>\n",
              "      <td>3.067633e-09</td>\n",
              "      <td>2.937428e-11</td>\n",
              "      <td>1.130087e-06</td>\n",
              "      <td>9.999986e-01</td>\n",
              "      <td>1.046044e-09</td>\n",
              "      <td>3.452016e-11</td>\n",
              "      <td>1.327155e-09</td>\n",
              "      <td>5.124155e-12</td>\n",
              "      <td>1.371969e-09</td>\n",
              "      <td>6.358652e-10</td>\n",
              "      <td>2.723043e-08</td>\n",
              "      <td>1.013762e-10</td>\n",
              "      <td>3.022532e-08</td>\n",
              "    </tr>\n",
              "  </tbody>\n",
              "</table>\n",
              "</div>"
            ],
            "text/plain": [
              "               0             0   ...            18            19\n",
              "0  test_00000.png  1.725729e-03  ...  7.484485e-04  1.424029e-03\n",
              "1  test_00001.png  2.686098e-03  ...  3.029862e-05  2.310178e-04\n",
              "2  test_00002.png  9.998102e-01  ...  4.000242e-09  5.198148e-09\n",
              "3  test_00003.png  7.274374e-06  ...  6.207379e-08  1.485022e-06\n",
              "4  test_00004.png  8.273549e-08  ...  1.013762e-10  3.022532e-08\n",
              "\n",
              "[5 rows x 21 columns]"
            ]
          },
          "metadata": {
            "tags": []
          },
          "execution_count": 75
        }
      ]
    },
    {
      "cell_type": "code",
      "metadata": {
        "colab": {
          "base_uri": "https://localhost:8080/",
          "height": 309
        },
        "id": "A2LBJxF_Tdkw",
        "outputId": "79bb77c9-d441-4c76-cc98-1df1dfe63023"
      },
      "source": [
        "file_name = sample[0]\r\n",
        "df = pd.DataFrame(tta_prediciton_Efn)\r\n",
        "df_20 = pd.DataFrame()\r\n",
        "df_20[0] = df[4] + df[30] + df[55] + df[72] + df[95]\r\n",
        "df_20[1] = df[1] + df[32] + df[67] + df[73] + df[91]\r\n",
        "df_20[2] = df[54] + df[62] + df[70] + df[82] + df[92]\r\n",
        "df_20[3] = df[9] + df[10] + df[16] + df[28] + df[61]\r\n",
        "df_20[4] = df[0] + df[51] + df[53] + df[57] + df[83]\r\n",
        "df_20[5] = df[22] + df[39] + df[40] + df[86] + df[87]\r\n",
        "df_20[6] = df[5] + df[20] + df[25] + df[84] + df[94]\r\n",
        "df_20[7] = df[6] + df[7] + df[14] + df[18] + df[24]\r\n",
        "df_20[8] = df[3] + df[42] + df[43] + df[88] + df[97]\r\n",
        "df_20[9] = df[12] + df[17] + df[37] + df[68] + df[76]\r\n",
        "df_20[10] = df[23] + df[33] + df[49] + df[60] + df[71]\r\n",
        "df_20[11] = df[15] + df[19] + df[21] + df[31] + df[38]\r\n",
        "df_20[12] = df[34] + df[63] + df[64] + df[66] + df[75]\r\n",
        "df_20[13] = df[26] + df[45] + df[77] + df[79] + df[99]\r\n",
        "df_20[14] = df[2] + df[11] + df[35] + df[46] + df[98]\r\n",
        "df_20[15] = df[27] + df[29] + df[44] + df[78] + df[93]\r\n",
        "df_20[16] = df[36] + df[50] + df[65] + df[74] + df[80]\r\n",
        "df_20[17] = df[47] + df[52] + df[56] + df[59] + df[96]\r\n",
        "df_20[18] = df[8] + df[13] + df[48] + df[58] + df[90]\r\n",
        "df_20[19] = df[41] + df[69] + df[81] + df[85] + df[89]\r\n",
        "df_concat = pd.concat([file_name, df_20],axis=1)\r\n",
        "df_concat.head()"
      ],
      "execution_count": null,
      "outputs": [
        {
          "output_type": "execute_result",
          "data": {
            "text/html": [
              "<div>\n",
              "<style scoped>\n",
              "    .dataframe tbody tr th:only-of-type {\n",
              "        vertical-align: middle;\n",
              "    }\n",
              "\n",
              "    .dataframe tbody tr th {\n",
              "        vertical-align: top;\n",
              "    }\n",
              "\n",
              "    .dataframe thead th {\n",
              "        text-align: right;\n",
              "    }\n",
              "</style>\n",
              "<table border=\"1\" class=\"dataframe\">\n",
              "  <thead>\n",
              "    <tr style=\"text-align: right;\">\n",
              "      <th></th>\n",
              "      <th>0</th>\n",
              "      <th>0</th>\n",
              "      <th>1</th>\n",
              "      <th>2</th>\n",
              "      <th>3</th>\n",
              "      <th>4</th>\n",
              "      <th>5</th>\n",
              "      <th>6</th>\n",
              "      <th>7</th>\n",
              "      <th>8</th>\n",
              "      <th>9</th>\n",
              "      <th>10</th>\n",
              "      <th>11</th>\n",
              "      <th>12</th>\n",
              "      <th>13</th>\n",
              "      <th>14</th>\n",
              "      <th>15</th>\n",
              "      <th>16</th>\n",
              "      <th>17</th>\n",
              "      <th>18</th>\n",
              "      <th>19</th>\n",
              "    </tr>\n",
              "  </thead>\n",
              "  <tbody>\n",
              "    <tr>\n",
              "      <th>0</th>\n",
              "      <td>test_00000.png</td>\n",
              "      <td>0.000206</td>\n",
              "      <td>0.000015</td>\n",
              "      <td>1.904371e-06</td>\n",
              "      <td>5.866552e-06</td>\n",
              "      <td>4.569283e-07</td>\n",
              "      <td>5.795141e-05</td>\n",
              "      <td>0.000020</td>\n",
              "      <td>0.000006</td>\n",
              "      <td>8.947265e-06</td>\n",
              "      <td>0.981252</td>\n",
              "      <td>0.007659</td>\n",
              "      <td>8.538431e-05</td>\n",
              "      <td>5.556657e-06</td>\n",
              "      <td>1.217683e-03</td>\n",
              "      <td>5.504523e-04</td>\n",
              "      <td>1.972036e-05</td>\n",
              "      <td>1.828825e-05</td>\n",
              "      <td>8.629460e-04</td>\n",
              "      <td>7.511835e-03</td>\n",
              "      <td>0.000495</td>\n",
              "    </tr>\n",
              "    <tr>\n",
              "      <th>1</th>\n",
              "      <td>test_00001.png</td>\n",
              "      <td>0.001051</td>\n",
              "      <td>0.000068</td>\n",
              "      <td>1.384075e-06</td>\n",
              "      <td>6.190186e-03</td>\n",
              "      <td>3.833902e-05</td>\n",
              "      <td>5.174629e-05</td>\n",
              "      <td>0.000137</td>\n",
              "      <td>0.000063</td>\n",
              "      <td>6.173889e-04</td>\n",
              "      <td>0.000913</td>\n",
              "      <td>0.932016</td>\n",
              "      <td>2.553330e-02</td>\n",
              "      <td>1.317410e-04</td>\n",
              "      <td>2.355802e-04</td>\n",
              "      <td>1.567773e-02</td>\n",
              "      <td>2.107018e-04</td>\n",
              "      <td>8.855804e-03</td>\n",
              "      <td>4.630653e-03</td>\n",
              "      <td>2.930035e-03</td>\n",
              "      <td>0.000647</td>\n",
              "    </tr>\n",
              "    <tr>\n",
              "      <th>2</th>\n",
              "      <td>test_00002.png</td>\n",
              "      <td>0.977006</td>\n",
              "      <td>0.000688</td>\n",
              "      <td>7.704558e-08</td>\n",
              "      <td>9.211505e-05</td>\n",
              "      <td>2.990848e-07</td>\n",
              "      <td>5.563595e-07</td>\n",
              "      <td>0.000003</td>\n",
              "      <td>0.000098</td>\n",
              "      <td>2.654359e-04</td>\n",
              "      <td>0.000085</td>\n",
              "      <td>0.000027</td>\n",
              "      <td>7.800155e-04</td>\n",
              "      <td>2.529713e-05</td>\n",
              "      <td>4.111430e-05</td>\n",
              "      <td>9.509150e-05</td>\n",
              "      <td>2.053147e-02</td>\n",
              "      <td>2.273226e-04</td>\n",
              "      <td>4.539907e-06</td>\n",
              "      <td>8.366214e-06</td>\n",
              "      <td>0.000021</td>\n",
              "    </tr>\n",
              "    <tr>\n",
              "      <th>3</th>\n",
              "      <td>test_00003.png</td>\n",
              "      <td>0.000003</td>\n",
              "      <td>0.000016</td>\n",
              "      <td>2.571569e-07</td>\n",
              "      <td>5.342176e-07</td>\n",
              "      <td>9.998542e-01</td>\n",
              "      <td>4.045045e-07</td>\n",
              "      <td>0.000024</td>\n",
              "      <td>0.000001</td>\n",
              "      <td>1.884170e-07</td>\n",
              "      <td>0.000005</td>\n",
              "      <td>0.000006</td>\n",
              "      <td>4.342253e-05</td>\n",
              "      <td>8.110077e-07</td>\n",
              "      <td>1.789135e-05</td>\n",
              "      <td>1.358514e-05</td>\n",
              "      <td>5.693835e-06</td>\n",
              "      <td>4.041340e-06</td>\n",
              "      <td>3.613511e-08</td>\n",
              "      <td>3.878413e-07</td>\n",
              "      <td>0.000004</td>\n",
              "    </tr>\n",
              "    <tr>\n",
              "      <th>4</th>\n",
              "      <td>test_00004.png</td>\n",
              "      <td>0.000003</td>\n",
              "      <td>0.000019</td>\n",
              "      <td>2.320609e-07</td>\n",
              "      <td>8.187702e-07</td>\n",
              "      <td>5.651622e-07</td>\n",
              "      <td>4.258988e-06</td>\n",
              "      <td>0.000002</td>\n",
              "      <td>0.000001</td>\n",
              "      <td>2.955713e-08</td>\n",
              "      <td>0.000051</td>\n",
              "      <td>0.999897</td>\n",
              "      <td>2.728651e-07</td>\n",
              "      <td>1.423966e-08</td>\n",
              "      <td>8.797532e-07</td>\n",
              "      <td>1.895599e-07</td>\n",
              "      <td>2.068533e-07</td>\n",
              "      <td>1.004619e-07</td>\n",
              "      <td>1.586562e-06</td>\n",
              "      <td>1.831455e-07</td>\n",
              "      <td>0.000018</td>\n",
              "    </tr>\n",
              "  </tbody>\n",
              "</table>\n",
              "</div>"
            ],
            "text/plain": [
              "               0         0         1   ...            17            18        19\n",
              "0  test_00000.png  0.000206  0.000015  ...  8.629460e-04  7.511835e-03  0.000495\n",
              "1  test_00001.png  0.001051  0.000068  ...  4.630653e-03  2.930035e-03  0.000647\n",
              "2  test_00002.png  0.977006  0.000688  ...  4.539907e-06  8.366214e-06  0.000021\n",
              "3  test_00003.png  0.000003  0.000016  ...  3.613511e-08  3.878413e-07  0.000004\n",
              "4  test_00004.png  0.000003  0.000019  ...  1.586562e-06  1.831455e-07  0.000018\n",
              "\n",
              "[5 rows x 21 columns]"
            ]
          },
          "metadata": {
            "tags": []
          },
          "execution_count": 80
        }
      ]
    },
    {
      "cell_type": "code",
      "metadata": {
        "id": "N817A0a1Tkck"
      },
      "source": [
        "df_concat.to_csv('2_10_submit_TTA_EffNet_dcr0.4_Logloss{0}.csv'.format(TTA_log_loss_Efn),index = False, header=None)"
      ],
      "execution_count": null,
      "outputs": []
    },
    {
      "cell_type": "code",
      "metadata": {
        "id": "U209zL5zgV1l"
      },
      "source": [
        "tta_prediciton_Efn = tta(model,X_val_image.shape[0],tta_generator(X_val_image/255),batch_size ,epochs = tta_epochs)"
      ],
      "execution_count": null,
      "outputs": []
    },
    {
      "cell_type": "code",
      "metadata": {
        "id": "rH4cvWKSL4YM"
      },
      "source": [
        "file_name = df_val\r\n",
        "df = pd.DataFrame(tta_prediciton_Efn)\r\n",
        "df_concat = pd.concat([df_temp, df],axis=1)\r\n",
        "df_concat.head()"
      ],
      "execution_count": null,
      "outputs": []
    },
    {
      "cell_type": "code",
      "metadata": {
        "id": "g9YoNIyuqxwz"
      },
      "source": [
        "df_temp = df_val.reset_index()"
      ],
      "execution_count": null,
      "outputs": []
    },
    {
      "cell_type": "code",
      "metadata": {
        "id": "nDhOYSjmrOyD"
      },
      "source": [
        "df_concat = df_concat.drop(columns='index', axis=1)"
      ],
      "execution_count": null,
      "outputs": []
    },
    {
      "cell_type": "code",
      "metadata": {
        "colab": {
          "base_uri": "https://localhost:8080/",
          "height": 309
        },
        "id": "aP8-Xvbw7vz2",
        "outputId": "bc5c253a-4fd8-40d6-ecd3-583ea72a63b9"
      },
      "source": [
        "# cifar100 から cifar20 に戻す\r\n",
        "file_name = sample[0]\r\n",
        "df = pd.DataFrame(tta_prediciton_Efn)\r\n",
        "df_20 = pd.DataFrame()\r\n",
        "df_20[0] = df[4] + df[30] + df[55] + df[72] + df[95]\r\n",
        "df_20[1] = df[1] + df[32] + df[67] + df[73] + df[91]\r\n",
        "df_20[2] = df[54] + df[62] + df[70] + df[82] + df[92]\r\n",
        "df_20[3] = df[9] + df[10] + df[16] + df[28] + df[61]\r\n",
        "df_20[4] = df[0] + df[51] + df[53] + df[57] + df[83]\r\n",
        "df_20[5] = df[22] + df[39] + df[40] + df[86] + df[87]\r\n",
        "df_20[6] = df[5] + df[20] + df[25] + df[84] + df[94]\r\n",
        "df_20[7] = df[6] + df[7] + df[14] + df[18] + df[24]\r\n",
        "df_20[8] = df[3] + df[42] + df[43] + df[88] + df[97]\r\n",
        "df_20[9] = df[12] + df[17] + df[37] + df[68] + df[76]\r\n",
        "df_20[10] = df[23] + df[33] + df[49] + df[60] + df[71]\r\n",
        "df_20[11] = df[15] + df[19] + df[21] + df[31] + df[38]\r\n",
        "df_20[12] = df[34] + df[63] + df[64] + df[66] + df[75]\r\n",
        "df_20[13] = df[26] + df[45] + df[77] + df[79] + df[99]\r\n",
        "df_20[14] = df[2] + df[11] + df[35] + df[46] + df[98]\r\n",
        "df_20[15] = df[27] + df[29] + df[44] + df[78] + df[93]\r\n",
        "df_20[16] = df[36] + df[50] + df[65] + df[74] + df[80]\r\n",
        "df_20[17] = df[47] + df[52] + df[56] + df[59] + df[96]\r\n",
        "df_20[18] = df[8] + df[13] + df[48] + df[58] + df[90]\r\n",
        "df_20[19] = df[41] + df[69] + df[81] + df[85] + df[89]\r\n",
        "df_concat = pd.concat([file_name, df_20],axis=1)\r\n",
        "df_concat.head()"
      ],
      "execution_count": null,
      "outputs": [
        {
          "output_type": "execute_result",
          "data": {
            "text/html": [
              "<div>\n",
              "<style scoped>\n",
              "    .dataframe tbody tr th:only-of-type {\n",
              "        vertical-align: middle;\n",
              "    }\n",
              "\n",
              "    .dataframe tbody tr th {\n",
              "        vertical-align: top;\n",
              "    }\n",
              "\n",
              "    .dataframe thead th {\n",
              "        text-align: right;\n",
              "    }\n",
              "</style>\n",
              "<table border=\"1\" class=\"dataframe\">\n",
              "  <thead>\n",
              "    <tr style=\"text-align: right;\">\n",
              "      <th></th>\n",
              "      <th>0</th>\n",
              "      <th>0</th>\n",
              "      <th>1</th>\n",
              "      <th>2</th>\n",
              "      <th>3</th>\n",
              "      <th>4</th>\n",
              "      <th>5</th>\n",
              "      <th>6</th>\n",
              "      <th>7</th>\n",
              "      <th>8</th>\n",
              "      <th>9</th>\n",
              "      <th>10</th>\n",
              "      <th>11</th>\n",
              "      <th>12</th>\n",
              "      <th>13</th>\n",
              "      <th>14</th>\n",
              "      <th>15</th>\n",
              "      <th>16</th>\n",
              "      <th>17</th>\n",
              "      <th>18</th>\n",
              "      <th>19</th>\n",
              "    </tr>\n",
              "  </thead>\n",
              "  <tbody>\n",
              "    <tr>\n",
              "      <th>0</th>\n",
              "      <td>test_00000.png</td>\n",
              "      <td>2.262952e-06</td>\n",
              "      <td>1.297906e-06</td>\n",
              "      <td>1.154465e-03</td>\n",
              "      <td>4.519355e-02</td>\n",
              "      <td>7.566107e-01</td>\n",
              "      <td>5.673221e-05</td>\n",
              "      <td>2.289295e-04</td>\n",
              "      <td>1.986784e-06</td>\n",
              "      <td>2.852535e-07</td>\n",
              "      <td>1.298907e-06</td>\n",
              "      <td>1.139376e-06</td>\n",
              "      <td>1.188909e-07</td>\n",
              "      <td>2.065708e-07</td>\n",
              "      <td>1.965214e-01</td>\n",
              "      <td>4.051116e-05</td>\n",
              "      <td>2.356756e-05</td>\n",
              "      <td>2.129274e-07</td>\n",
              "      <td>3.762064e-07</td>\n",
              "      <td>0.000017</td>\n",
              "      <td>1.439526e-04</td>\n",
              "    </tr>\n",
              "    <tr>\n",
              "      <th>1</th>\n",
              "      <td>test_00001.png</td>\n",
              "      <td>3.380539e-09</td>\n",
              "      <td>1.193693e-08</td>\n",
              "      <td>1.415387e-11</td>\n",
              "      <td>2.612589e-06</td>\n",
              "      <td>4.532675e-10</td>\n",
              "      <td>4.674372e-07</td>\n",
              "      <td>1.876292e-07</td>\n",
              "      <td>1.063581e-09</td>\n",
              "      <td>6.466208e-09</td>\n",
              "      <td>1.602775e-05</td>\n",
              "      <td>1.502623e-08</td>\n",
              "      <td>1.382900e-09</td>\n",
              "      <td>1.424129e-10</td>\n",
              "      <td>2.194498e-08</td>\n",
              "      <td>9.608988e-10</td>\n",
              "      <td>3.468952e-09</td>\n",
              "      <td>4.493644e-10</td>\n",
              "      <td>4.970133e-10</td>\n",
              "      <td>0.959967</td>\n",
              "      <td>4.001375e-02</td>\n",
              "    </tr>\n",
              "    <tr>\n",
              "      <th>2</th>\n",
              "      <td>test_00002.png</td>\n",
              "      <td>1.222668e-06</td>\n",
              "      <td>6.198530e-06</td>\n",
              "      <td>4.752267e-08</td>\n",
              "      <td>2.421360e-03</td>\n",
              "      <td>9.029741e-07</td>\n",
              "      <td>9.972679e-01</td>\n",
              "      <td>1.463440e-04</td>\n",
              "      <td>1.273468e-06</td>\n",
              "      <td>2.996891e-07</td>\n",
              "      <td>3.107961e-06</td>\n",
              "      <td>1.743064e-07</td>\n",
              "      <td>6.916989e-07</td>\n",
              "      <td>7.499290e-06</td>\n",
              "      <td>3.084266e-06</td>\n",
              "      <td>1.411623e-06</td>\n",
              "      <td>6.601410e-07</td>\n",
              "      <td>4.154220e-06</td>\n",
              "      <td>8.292242e-08</td>\n",
              "      <td>0.000030</td>\n",
              "      <td>1.035893e-04</td>\n",
              "    </tr>\n",
              "    <tr>\n",
              "      <th>3</th>\n",
              "      <td>test_00003.png</td>\n",
              "      <td>8.709531e-01</td>\n",
              "      <td>1.394394e-02</td>\n",
              "      <td>2.091527e-06</td>\n",
              "      <td>3.964914e-05</td>\n",
              "      <td>2.655906e-06</td>\n",
              "      <td>7.864063e-05</td>\n",
              "      <td>2.429846e-04</td>\n",
              "      <td>4.845241e-05</td>\n",
              "      <td>4.348271e-04</td>\n",
              "      <td>5.263814e-04</td>\n",
              "      <td>3.196085e-03</td>\n",
              "      <td>3.922567e-04</td>\n",
              "      <td>2.613626e-04</td>\n",
              "      <td>1.358158e-04</td>\n",
              "      <td>3.302045e-04</td>\n",
              "      <td>1.365560e-03</td>\n",
              "      <td>9.777392e-04</td>\n",
              "      <td>5.561479e-05</td>\n",
              "      <td>0.000051</td>\n",
              "      <td>1.069616e-01</td>\n",
              "    </tr>\n",
              "    <tr>\n",
              "      <th>4</th>\n",
              "      <td>test_00004.png</td>\n",
              "      <td>1.911620e-10</td>\n",
              "      <td>5.426358e-11</td>\n",
              "      <td>2.197620e-10</td>\n",
              "      <td>1.362785e-09</td>\n",
              "      <td>2.009341e-09</td>\n",
              "      <td>1.792581e-08</td>\n",
              "      <td>2.478622e-09</td>\n",
              "      <td>4.137164e-12</td>\n",
              "      <td>3.559013e-12</td>\n",
              "      <td>9.385431e-13</td>\n",
              "      <td>9.240698e-13</td>\n",
              "      <td>1.121770e-08</td>\n",
              "      <td>5.898230e-12</td>\n",
              "      <td>1.302088e-10</td>\n",
              "      <td>5.764088e-07</td>\n",
              "      <td>1.368287e-11</td>\n",
              "      <td>7.003469e-12</td>\n",
              "      <td>3.744228e-12</td>\n",
              "      <td>0.999999</td>\n",
              "      <td>1.687316e-10</td>\n",
              "    </tr>\n",
              "  </tbody>\n",
              "</table>\n",
              "</div>"
            ],
            "text/plain": [
              "               0             0   ...        18            19\n",
              "0  test_00000.png  2.262952e-06  ...  0.000017  1.439526e-04\n",
              "1  test_00001.png  3.380539e-09  ...  0.959967  4.001375e-02\n",
              "2  test_00002.png  1.222668e-06  ...  0.000030  1.035893e-04\n",
              "3  test_00003.png  8.709531e-01  ...  0.000051  1.069616e-01\n",
              "4  test_00004.png  1.911620e-10  ...  0.999999  1.687316e-10\n",
              "\n",
              "[5 rows x 21 columns]"
            ]
          },
          "metadata": {
            "tags": []
          },
          "execution_count": 83
        }
      ]
    },
    {
      "cell_type": "code",
      "metadata": {
        "id": "n0hMdgdh7xnB"
      },
      "source": [
        "df_concat.to_csv('valid_submit_TTA_EffNet_dcr0.4_Logloss{0}.csv'.format(TTA_log_loss_Efn),index = False, header=True)"
      ],
      "execution_count": null,
      "outputs": []
    },
    {
      "cell_type": "code",
      "metadata": {
        "id": "RSY_w0Q98BVI"
      },
      "source": [
        ""
      ],
      "execution_count": null,
      "outputs": []
    }
  ]
}
